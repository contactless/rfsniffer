{
 "cells": [
  {
   "cell_type": "code",
   "execution_count": 3,
   "metadata": {
    "collapsed": true
   },
   "outputs": [],
   "source": [
    "import numpy as np\n",
    "import matplotlib.pyplot as plt\n",
    "import matplotlib as mpl\n",
    "import scipy.cluster.hierarchy as hac\n",
    "\n",
    "import pandas\n",
    "\n",
    "import glob\n",
    "import struct\n",
    "from collections import Counter"
   ]
  },
  {
   "cell_type": "markdown",
   "metadata": {},
   "source": [
    "# Расшифровка протокола беспроводного устройства\n",
    "\n",
    "# на примере датчика движения PA-92R"
   ]
  },
  {
   "cell_type": "markdown",
   "metadata": {
    "collapsed": true
   },
   "source": [
    "Как помочь нам разобрать протокол?\n",
    "\n",
    "Вот пример как это делается в простом случае.\n",
    "\n",
    "Есть устройство на чипе HS1527 и к нему даже нашелся datasheet: http://sc-tech.cn/en/hs1527.pdf\n",
    "\n",
    "Есть Wiren Board c rfsniffer. Первое что мы делаем, записываем дамп. \n",
    "\n",
    "`{some path}/wb-homa-rfsniffer -W`\n",
    "\n",
    "Когда запись произойдет, останавливаем программу и начинаем изучать данные, сохраненные в `.rcf` файле.\n",
    "\n",
    "(Извиняюсь за смесь русского и английского в комментариях)\n"
   ]
  },
  {
   "cell_type": "code",
   "execution_count": 63,
   "metadata": {
    "collapsed": true
   },
   "outputs": [],
   "source": [
    "# takes filename\n",
    "# open file, read binary data\n",
    "# returns numpy.array of impulses (positive integer)\n",
    "# and pauses (negative integer)\n",
    "def file_to_data(filename):\n",
    "    pic = open(filename, \"rb\")\n",
    "    data = []\n",
    "    while True:\n",
    "        buf = pic.read(4)\n",
    "        if not buf or len(buf) != 4:\n",
    "            break\n",
    "        sign = 1 if buf[3] == 1 else -1\n",
    "        buf = bytes(buf[:3] + bytes([0]))\n",
    "        data.append(sign * struct.unpack('i', buf)[0])\n",
    "    return np.array(data)\n",
    "\n",
    "# takes files' mask\n",
    "# returns numpy.array of data\n",
    "def files_to_data(mask):\n",
    "    # откуда брать дампы\n",
    "    filenames = glob.glob(mask)\n",
    "    \n",
    "    print(\"%d files found\" % len(filenames))\n",
    "\n",
    "    datas = []\n",
    "\n",
    "    # посмотрим файлики с дампами, преобразуем в импульсы\n",
    "    for name in filenames:\n",
    "        print(\"read \" + name)\n",
    "        datas.append(file_to_data(name))\n",
    "\n",
    "    return np.concatenate(datas)\n"
   ]
  },
  {
   "cell_type": "code",
   "execution_count": 64,
   "metadata": {},
   "outputs": [
    {
     "name": "stdout",
     "output_type": "stream",
     "text": [
      "1 files found\n",
      "read ./3btn-longpress1.rcf\n"
     ]
    }
   ],
   "source": [
    "# читаем информацию\n",
    "data = files_to_data(\"./3btn-longpress2.rcf\")"
   ]
  },
  {
   "cell_type": "code",
   "execution_count": 65,
   "metadata": {},
   "outputs": [
    {
     "name": "stdout",
     "output_type": "stream",
     "text": [
      "[357, -1247, 1192, -471, 335, -12695, 1211, -433, 1189, -455, 1149, -462, 1209, -455, 1175, -453, 1161, -483, 1178, -428, 1203, -412, 1198, -431, 1237, -436, 327, -1279, 384, -1304, 1147, -499, 321, -1274, 1187, -448, 1188, -431, 360, -1278, 1151, -464, 1225, -416, 376, -1245, 379, -1236, 397, -1285, 325, -1272, 1197, -431, 369, 10761, 29, -12, 59, -206, 64, -751, 32, -287, 32, -48, 76, -19, 103, -131, 1259, -473, 1190, -432, 1181, -477, 1160, -441, 1222, -427, 1174, -494, 1142, -429, 1221, -429, 1173, -441, 1218, -427, 407, -1259, 340, -1264, 1176, -461, 369, -1233, 1209, -470, 1162, -493, 318, -1280, 1226, -438, 1154, -451, 394, -1246, 364, -1303, 335, -1237, 371, -1278, 1152, -511, 306, 11914, 567, -174, 1230, -454, 1177, -487, 1185, -407, 1208, -454, 1176, -438, 1198, -432, 1183, -462, 1180, -471, 1157, -461, 1200, -426, 381, -1263, 343, -1320, 1159, -430, 406, -1225, 1238, -429, 1180, -430, 351, -1307, 1158, -440, 1202, -451, 350, -1275, 344, -1291, 382, -1256, 349, -1246, 1221, -431, 361, -11884, 151, -133, 21, -443, 1253, -418, 1222, -432, 1188, -461, 1193, -437, 1180, -458, 1174, -440, 1200, -431, 1204, -472, 1164, -461, 1184, -423, 378, -1275, 344, -1257, 1175, -478, 335, -1279, 1220, -444, 1164, -476, 342, -1278, 1192, -441, 1192, -457, 373, -1263, 336, -1275, 349, -1338, 324, -1264, 1177, -418, 387, -12623, 1278, -408, 1200, -444, 1195, -444, 1160, -467, 1192, -420, 1182, -480, 1173, -454, 1203, -426, 1174, -500, 1144, -462, 447, -1187, 351, -1246, 1199, -463, 352, -1305, 1143, -449, 1210, -463, 325, -1301, 1180, -430, 1183, -448, 367, -1274, 359, -1277, 371, -1282, 338, -1277, 1187, -435, 355, 11389, 16, -302, 148, -279, 25, -63, 63, -32, 63, -63, 31, -96, 1303, -457, 1186, -463, 1150, -486, 1177, -442, 1193, -444, 1186, -421, 1206, -446, 1183, -431, 1200, -440, 1179, -476, 351, -1283, 366, -1303, 1144, -448, 349, -1279, 1196, -481, 1143, -427, 383, -1266, 1190, -472, 1193, -408, 381, -1246, 367, -1299, 380, -1252, 351, -1274, 1190, -414, 398, -10568, 26, -846, 23, -20, 134, -42, 33, -197, 60, -98, 60, -87, 15, -156, 218, -22, 1263, -439, 1189, -429, 1206, -465, 1151, -461, 1198, -413, 1182, -479, 1152, -463, 1223, -408, 1184, -463, 1224, -432, 379, -1236, 357, -1246, 1200, -431, 367, -1307, 1174, -430, 1207, -464, 345, -1289, 1196, -423, 1186, -442, 374, -1260, 362, -1291, 343, -1273, 382, -1242, 1194, -455, 334, 11563, 40, -158, 30, -336, 128, -254, 64, -103, 1208, -432, 1240, -454, 1154, -447, 1204, -434, 1183, -453, 1207, -425, 1193, -436, 1195, -421, 1197, -443, 1186, -451, 393, -1240, 369, -1277, 1178, -439, 382, -1252, 1200, -444, 1188, -426, 380, -1292, 1182, -424, 1204, -435, 393, -1271, 325, -1282, 382, -1253, 359, -1255, 1200, -459, 326, -10526, 20, -1019, 27, -265, 53, -64, 163, -61, 65, -9, 34, -31, 32, -101, 60, -99, 1259, -458, 1186, -459, 1148, -467, 1194, -423, 1236, -393, 1194, -463, 1199, -428, 1188, -474, 1153, -470, 1197, -434, 364, -1266, 367, -1270, 1194, -447, 360, -1257, 1198, -469, 1145, -471, 335, -1281, 1190, -474, 1162, -452, 384, -1249, 364, -1265, 369, -1256, 379, -1272, 1158, -458, 389, -11595, 47, -262, 41, -66, 62, -202, 53, -169, 38, -30, 1281, -462, 1155, -468, 1199, -425, 1184, -478, 1154, -453, 1213, -431, 1185, -453, 1207, -425, 1196, -429, 1191, -427, 382, -1253, 368, -1302, 1186, -411, 381, -1247, 1202, -458, 1198, -422, 366, -1263, 1211, -438, 1196, -451, 368, -1271, 416, -1188, 379, -1313, 314, -1285, 1159, -445, 367, -11582, 27, -55, 65, -236, 19, -65, 30, -479, 57, -23, 1216, -463, 1199, -487, 1152, -460, 1193, -417, 1208, -436, 1208, -412, 1204, -455, 1194, -494, 1121, -424, 1209, -454, 334, -1292, 371, -1268, 1191, -472, 337, -1283, 1184, -422, 1202, -426, 390, -1250, 1180, -472, 1192, -420, 421, -1212, 377, -1309, 354, -1250, 359, -1269, 1184, -432, 385, -10775, 64, -730, 184, -150, 25, -49, 28, -181, 206, -80, 25, -34, 1347, -418, 1191, -427, 1256, -411, 1180, -448, 1193, -423, 1185, -489, 1176, -437, 1201, -423, 1184, -480, 1187, -427, 382, -1258, 359, -1256, 1255, -426, 347, -1267, 1230, -370, 1215, -469, 336, -1273, 1214, -408, 1189, -476, 332, -1299, 387, -1247, 338, -1284, 391, -1209, 1195, -488, 327, -11503, 79, -147, 77, -26, 32, -33, 66, -193, 45, -163, 109, -78, 59, -34, 1237, -464, 1152, -472, 1186, -428, 1201, -429, 1186, -477, 1185, -430, 1192, -480, 1152, -490, 1173, -422, 1186, -500, 319, -1365, 265, -1284, 1181, -432, 378, -1254, 1182, -482, 1178, -427, 388, -1230, 1189, -456, 1225, -430, 369, -1264, 358, -1245, 397, -1282, 321, -1292, 1191, -417, 366, -12395, 94, -157, 1239, -446, 1201, -423, 1184, -486, 1157, -468, 1195, -427, 1183, -503, 1163, -439, 1174, -501, 1125, -467, 1207, -432, 357, -1274, 352, -1250, 1277, -384, 337, -1294, 1188, -435, 1186, -477, 332, -1277, 1188, -443, 1190, -472, 341, -1257, 390, -1322, 310, -1256, 369, -1294, 1212, -402, 374, 11847, 2015, -411, 1201, -447, 1221, -427, 1167, -478, 1172, -444, 1198, -445, 1183, -462, 1215, -411, 1196, -442, 1188, -448, 349, -1263, 394, -1288, 1174, -407, 382, -1301, 1144, -467, 1182, -440, 378, -1261, 1222, -431, 1173, -456, 356, -1259, 387, -1244, 347, -1305, 325, -1294, 1186, -431, 366, -11191, 25, -837, 23, -79, 159, -313, 1244, -515, 1176, -426, 1164, -462, 1200, -429, 1183, -485, 1142, -449, 1226, -416, 1191, -445, 1166, -463, 1209, -424, 386, -1243, 376, -1265, 1160, -503, 331, -1274, 1169, -477, 1151, -463, 384, -1269, 1177, -460, 1158, -489, 327, -1287, 349, -1283, 360, -1268, 400, -1267, 1174, -443, 404, -11772, 21, -633, 27, -120, 1216, -479, 1152, -463, 1199, -464, 1172, -513, 1152, -430, 1224, -402, 1181, -476, 1173, -430, 1184, -447, 1183, -467, 393, -1261, 325, -1280, 1247, -384, 355, -1296, 1181, -453, 1184, -471, 344, -1248, 1229, -445, 1157, -482, 401, -1194, 375, -1304, 344, -1237, 379, -1248, 1210, -468, 336, -11799, 34, -144, 40, -202, 94, -41, 12, -166, 93, -32, 1231, -414, 1208, -454, 1155, -485, 1186, -474, 1144, -475, 1195, -432, 1181, -470, 1161, -459, 1202, -425, 1192, -443, 363, -1259, 375, -1277, 1164, -439, 383, -1247, 1185, -476, 1185, -431, 405, -1253, 1163, -481, 1200, -425, 364, -1271, 347, -1247, 383, -1303, 322, -1295, 1174, -430, 388, -11986, 33, -368, 27, -216, 1219, -473, 1188, -441, 1180, -474, 1164, -439, 1222, -461, 1152, -445, 1223, -408, 1182, -448, 1206, -466, 1199, -418, 358, -1263, 367, -1268, 1179, -487, 385, -1229, 1190, -443, 1178, -483, 336, -1271, 1200, -472, 1148, -449, 388, -1253, 393, -1245, 356, -1252, 388, -1282, 1151, -453, 393, -12628, 1222, -469, 1185, -458, 1215, -392, 1158, -478, 1151, -490, 1196, -443, 1176, -463, 1189, -441, 1181, -461, 1162, -452, 382, -1248, 381, -1250, 1186, -430, 382, -1300, 1155, -473, 1189, -416, 375, -1295, 1187, -437, 1181, -507, 308, -1277, 348, -1286, 360, -1264, 364, -1262, 1217, -422, 337, -12299, 51, -99, 94, -133, 1228, -463, 1163, -468, 1184, -455, 1199, -410, 1184, -463, 1200, -438, 1216, -426, 1193, -437, 1183, -425, 1183, -502, 322, -1290, 389, -1244, 1182, -424, 387, -1232, 1203, -479, 1185, -415, 379, -1268, 1190, -439, 1212, -417, 382, -1280, 335, -1265, 368, -1278, 367, -1285, 1164, -457, 359, -11763, 25, -792, -37, -1732, 1177, -440, 1165, -463, 1205, -444, 1192, -463, 1135, -488, 1167, -430, 1202, -480, 1135, -495, 1167, -456, 360, -1327, 289, -1301, 1202, -440, 335, -1281, 1180, -463, 1138, -478, 435, -1205, 1178, -460, 1168, -446, 351, -1279, 383, -1256, 377, -1263, 383, -1272, 1178, -452, 361, -11573, 25, -167, 25, -822, 1279, -418, 1201, -456, 1185, -428, 1206, -425, 1182, -463, 1188, -444, 1203, -429, 1204, -444, 1172, -482, 1175, -474, 349, -1238, 376, -1294, 1165, -435, 377, -1273, 1159, -462, 1208, -422, 367, -1281, 1167, -447, 1200, -473, 322, -1272, 348, -1279, 383, -1290, 327, -1303, 1190, -418, 859, -1123, 853, -1067, 868, -1117, 821, -1128, 830, -1105, 827, -1141, 814, -532, 1419, -174, 4472, -395, 1244, -465, 1168, -447, 1394, -236, 4456, -328, 871, -653, 605, -836, 311, -126, 1363, -270, 686, -927, 2837, -297, 799, -680, 3129, -292, 792, -992, 463, -633, 872, -591, 351, -367, 352, -421, 357, -525, 1144, -449, 1315, -619, 310, -1151, 387, -548, 855, -651, 329, -1148, 829, -1104, 847, -1087, 837, -1068, 1176, -432, 1215, -431, 1167, -463, 1152, -352, 1333, -121, 1501, -478, 1161, -444, 1207, -433, 1505, -166, 1295, -288, 1160, -502, 302, -319, 827, -165, 1982, -434, 334, -521, 1201, -374, 1214, -479, 1103, -545, 1166, -368, 1267, -469, 1047, -559, 383, -176, 841, -274, 292, -543, 1087, -908, 290, -114, 1343, -303, 345, -514, 886, -576, 332, -1120, 354, -655, 823, -617, 322, -1133, 814, -1141, 824, -1179, 778, -642, 1165, -287, 1363, -45, 3218, -253, 1342, -511, 1174, -442, 1273, -359, 1607, -80, 1358, -245, 1217, -433, 573, -1017, 936, -721, 1188, -442, 336, -365, 351, -559, 1183, -499, 1191, -421, 337, -335, 815, -160, 1130, -457, 1198, -463, 362, -299, 843, -127, 336, -655, 320, -303, 1186, -491, 336, -287, 849, -149, 1988, -905, 834, -1112, 854, -627, 343, -1154, 800, -1112, 837, -1171, 308, -618, 831, -622, 334, -224, 4454, -394, 1219, -479, 1202, -510, 1290, -268, 1208, -425, 1191, -473, 1352, -268, 1168, -456, 365, -1271, 370, -1240, 1201, -446, 334, -1279, 1200, -455, 1179, -462, 345, -1272, 1209, -437, 1168, -462, 352, -1279, 367, -1263, 336, -1302, 367, -1291, 1157, -453, 389, -12625, 1213, -461, 1183, -432, 1223, -409, 1184, -482, 1205, -456, 1171, -436, 1160, -461, 1199, -432, 1205, -475, 1146, -452, 382, -1169, 840, -913, 1157, -448, 350, -176, 847, -287, 3640, -1115, 1328, -448, 1171, -475, 361, -56, 892, -310, 388, -429, 1151, -817, 792, -1150, 1326, -474, 957, -1134, 828, -1155, 819, -1121, 840, -1071, 847, -622, 343, -1177, 310, -651, 815, -366, 1183, -446, 2868, -177, 1770, -83, 2833, -173, 1463, -494, 2814, -411, 1149, -479, 863, -770, 1182, -462, 1151, -463, 352, -650, 1846, -468, 1441, -162, 357, -595, 1877, -26, 1598, -427, 789, -918, 1050, -542, 374, -201, 352, -690, 780, -653, 2266, -1119, 840, -1120, 851, -1088, 844, -1128, 340, -626, 852, -1092, 848, -1121, 1929, -477, 1157, -325, 1321, -485, 1146, -510, 1148, -313, 1361, -443, 1133, -501, 1239, -376, 3060, -182, 1319, -354, 332, -417, 807, -41, 1184, -465, 750, -663, 1774, -78, 1979, -1039, 1492, -405, 1164, -452, 690, -669, 798, -656, 353, -126, 337, -690, 955, -959, 1473, -471, 834, -1173, 794, -1103, 847, -1088, 357, -637, 842, -630, 351, -1122, 807, -1126, 845, -492, 1172, -432, 1208, -488, 1184, -420, 1408, -250, 1167, -459, 1170, -457, 1383, -278, 1196, -418, 1164, -474, 1375, -265, 321, -537, 1117, -807, 1651, -341, 808, -611, 3143, -292, 826, -1000, 2904, -371, 306, -482, 1154, -788, 916, -1019, 833, -993, 1208, -463, 1218, -1158, 351, -619, 814, -1125, 817, -655, 334, -1120, 86, -4746, 1222, -389, 1203, -517, 1125, -449, 1185, -425, 1222, -441, 1153, -471, 1196, -456, 1159, -473, 1194, -498, 1149, -438, 334, -1291, 351, -1275, 1187, -443, 376, -1236, 1184, -514, 1190, -431, 342, -1251, 1190, -471, 1208, -405, 394, -1279, 324, -1299, 444, -1179, 358, -1270, 1174, -444, 395, -12356, 25, -261, 1215, -470, 1155, -473, 1193, -477, 1144, -482, 1177, -426, 1193, -432, 1185, -460, 1213, -418, 1200, -438, 1188, -457, 345, -1293, 368, -1278, 1170, -426, 398, -1271, 1193, -425, 1196, -425, 367, -1288, 1197, -426, 1197, -472, 335, -1244, 379, -1289, 363, -1248, 381, -1252, 1182, -476, 335, 12245, 241, -179, 1227, -465, 1151, -482, 1185, -428, 1203, -429, 1190, -467, 1184, -431, 1190, -471, 1152, -470, 1198, -436, 1176, -457, 365, -1280, 384, -1243, 1187, -459, 381, -1254, 1184, -434, 1222, -393, 404, -1267, 1198, -414, 1199, -441, 392, -1267, 333, -1293, 372, -1281, 333, -1286, 1199, -488, 314, -11511, 19, -449, 25, 147, 183, -160, 1343, -469, 1221, -416, 1187, -487, 1135, -457, 1203, -428, 1196, -481, 1178, -422, 1185, -447, 1199, -457, 1207, -429, 361, -1245, 383, -1256, 1189, -454, 334, -1279, 1219, -414, 1200, -447, 351, -1302, 1170, -481, 1166, -437, 383, -1246, 368, -1281, 352, -1261, 380, -1268, 1161, -456, 386, -12645, 1234, -436, 1198, -475, 1198, -423, 1177, -439, 1182, -484, 1183, -441, 1193, -456, 1177, -485, 1120, -528, 1140, -434, 425, -1241, 322, -1291, 1202, -406, 382, -1306, 1129, -461, 1210, -434, 356, -1265, 1183, -444, 1221, -430, 365, -1276, 376, -1276, 318, -1301, 330, -1301, 1182, -467, 346, -12670, 1210, -437, 1198, -455, 1175, -430, 1223, -422, 1171, -479, 1183, -432, 1221, -459, 1172, -451, 1197, -422, 1172, -500, 333, -1261, 383, -1247, 1183, -463, 367, -1281, 1178, -457, 1163, -429, 383, -1308, 1125, -494, 1167, -431, 367, -1316, 318, -1289, 441, -1193, 355, -1267, 1197, -471, 343, -12526, 20, -100, 1222, -480, 1168, -454, 1175, -467, 1176, -440, 1218, -428, 1183, -480, 1188, -420, 1198, -456, 1170, -444, 1221, -425, 352, -1262, 367, -1251, 1272, -399, 327, -1298, 1204, -422, 1190, -473, 340, -1272, 1194, -474, 1183, -435, 378, -1248, 364, -1291, 342, -1246, 421, -1253, 1175, -474, 327, -12585, 1302, -462, 1151, -482, 1199, -416, 1182, -446, 1205, -461, 1204, -427, 1176, -437, 1183, -464, 1205, -439, 1172, -430, 383, -1255, 387, -1296, 1178, -411, 382, -1279, 1179, -447, 1205, -417, 365, -1264, 1196, -455, 1206, -440, 353, -1262, 388, -1253, 375, -1287, 312, -1277, 1207, -456, 335, -11943, 27, -716, 1201, -463, 1188, -459, 1183, -439, 1197, -430, 1182, -488, 1159, -442, 1201, -451, 1149, -464, 1199, -434, 1202, -469, 334, -1273, 401, -1231, 1203, -444, 350, -1270, 1231, -412, 1202, -481, 328, -1290, 1184, -442, 1186, -456, 336, -1280, 435, -1200, 375, -1247, 380, -1292, 1186, -431, 373, -12506, 23, -18, 33, -32, 1228, -477, 1195, -487, 1130, -478, 1150, -455, 1209, -420, 1184, -478, 1189, -424, 1175, -479, 1174, -442, 1224, -423, 364, -1271, 355, -1270, 1182, -448, 367, -1279, 1182, -421, 1182, -488, 343, -1278, 1207, -461, 1134, -494, 320, -1305, 361, -1302, 311, -1279, 351, -1297, 1181, -468, 333, -12673, 1241, -413, 1192, -462, 1182, -431, 1196, -486, 1153, -447, 1198, -429, 1183, -479, 1195, -423, 1183, -479, 1247, -409, 323, -1288, 359, -1277, 1160, -430, 405, -1258, 1180, -449, 1202, -414, 392, -1293, 1163, -544, 1093, -472, 342, -1270, 350, -1267, 367, -1263, 368, -1267, 1203, -443, 334, -12692, 1221, -456, 1206, -426, 1186, -530, 1143, -413, 1194, -450, 1207, -417, 1167, -462, 1183, -447, 1209, -439, 1198, -433, 366, -1273, 366, -1260, 1165, -478, 335, -1280, 1238, -427, 1173, -457, 369, -1246, 1199, -484, 1183, -412, 381, -1247, 367, -1248, 384, -1261, 382, -1269, 1196, -454, 358, -12640, 1223, -477, 1151, -464, 1199, -455, 1171, -422, 1220, -445, 1218, -436, 1160, -430, 1211, -453, 1164, -467, 1207, -407, 382, -1293, 331, -1324, 1168, -462, 339, -1262, 1192, -430, 1200, -448, 366, -1287, 1198, -431, 1239, -419, 336, -1258, 358, -1277, 336, -1297, 368, -1260, 1171, -478, 335, -11560, 36, 462, 35, -410, 26, -140, 1242, -439, 1188, -468, 1183, -431, 1192, -448, 1150, -495, 1176, -438, 1201, -467, 1187, -423, 1199, -469, 1152, -496, 312, -1303, 350, -1288, 1173, -452, 385, -1239, 1169, -519, 1168, -407, 366, -1263, 1183, -463, 1195, -440, 333, -1306, 358, -1245, 395, -1283, 322, -1277, 1199, -432, 367, -12096, 94, -46, 93, -246, 31, -63, 1218, -429, 1209, -483, 1151, -455, 1182, -431, 1215, -462, 1161, -460, 1198, -413, 1204, -480, 1171, -443, 1209, -450, 325, -1271, 386, -1244, 1210, -422, 366, -1299, 1187, -450, 1184, -454, 352, -1233, 1182, -479, 1210, -408, 381, -1285, 330, -1296, 336, -1290, 376, -1263, 1164, -462, 351, -10779, 136, -1111, 39, -31, 94, -32, 1669, -460, 1166, -448, 1198, -449, 1187, -486, 1157, -431, 1203, -462, 1162, -454, 1211, -426, 1196, -473, 1194, -421, 371, -1279, 335, -1266, 1236, -434, 359, -1287, 1148, -426, 1216, -460, 345, -1280, 1199, -432, 1186, -463, 365, -1264, 384, -1252, 362, -1278, 352, -1268, 1195, -442, 374, -9136, 24, -1316, 211, -15, 60, -64, 52, -40, 101, -160, 110, -1085, 1511, -425, 1187, -475, 1147, -471, 1200, -467, 1151, -447, 1198, -470, 1158, -480, 1151, -452, 1222, -482, 1113, -468, 348, -1278, 388, -1256, 1183, -430, 379, -1276, 1163, -478, 1179, -425, 380, -1279, 1164, -456, 1202, -433, 366, -1294, 336, -1279, 394, -1246, 361, -1283, 1158, -474, 353, -10466, 315, -1083, 2004, -467, 1200, -431, 1183, -472, 1186, -427, 1187, -478, 1148, -471, 1203, -422, 1193, -536, 1126, -423, 1186, -478, 334, -1289, 342, -1257, 1217, -438, 366, -1257, 1195, -459, 1191, -455, 348, -1260, 1188, -477, 1151, -455, 384, -1277, 331, -1293, 395, -1238, 383, -1249, 1178, -427, 387, -9309, 37, -1020, 175, -63, 31, -1143, 358, -120, 26, -168, 55, -134, 1261, -434, 1166, -450, 1234, -413, 1185, -473, 1181, -415, 1185, -477, 1151, -463, 1227, -425, 1183, -477, 1184, -427, 397, -1244, 362, -1252, 1199, -426, 368, -1386, 1089, -437, 1207, -463, 345, -1271, 1186, -428, 1210, -495, 316, -1270, 384, -1269, 346, -1276, 344, -1268, 1195, -448, 373, -9574, 27, -10, 36, -164, 55, -122, 23, -700, 20, -66, 227, -1157, 157, -22, 165, -60, 32, -31, 1233, -434, 1185, -471, 1153, -456, 1215, -450, 1163, -459, 1201, -429, 1208, -477, 1136, -464, 1202, -430, 1179, -444, 374, -1280, 344, -1288, 1186, -418, 389, -1253, 1173, -537, 1138, -426, 380, -1283, 1150, -462, 1220, -432, 378, -1274, 335, -1283, 379, -1241, 366, -1256, 1187, -466, 334, 8865, 23, -948, 15, 339, 23, -1023, 262, -1086, 1304, -470, 1194, -436, 1187, -480, 1146, -459, 1211, -439, 1163, -465, 1186, -454, 1186, -446, 1177, -471, 1192, -415, 366, -1247, 393, -1265, 1212, -441, 396, -1223, 1255, -409, 1153, -458, 347, -1288, 1179, -486, 1150, -459, 379, -1255, 350, -1297, 333, -1278, 384, -1261, 1200, -403, 383, -12611, 1310, -447, 1156, -442, 1198, -431, 1196, -485, 1167, -430, 1205, -460, 1174, -456, 1205, -425, 1189, -475, 1247, -367, 382, -1252, 367, -1293, 1161, -457, 328, -1304, 1188, -431, 1187, -476, 359, -1259, 1194, -427, 1193, -472, 334, -1284, 378, -1245, 372, -1352, 284, -1281, 1177, -446, 368, -12487, 25, -136, 1246, -432, 1180, -475, 1158, -464, 1203, -407, 1187, -498, 1184, -433, 1186, -460, 1155, -453, 1206, -435, 1199, -470, 334, -1285, 365, -1246, 1199, -431, 382, -1249, 1230, -430, 1199, -408, 381, -1298, 1152, -461, 1199, -430, 428, -1241, 329, -1288, 376, -1268, 353, -1281, 1169, -449, 369, -12332, 25, -150, 60, -64, 1234, -454, 1207, -425, 1198, -473, 1150, -459, 1205, -465, 1149, -443, 1200, -433, 1192, -469, 1151, -464, 1199, -463, 335, -1301, 341, -1293, 1173, -490, 328, -1256, 1196, -453, 1174, -447, 368, -1271, 1174, -468, 1201, -429, 376, -1238, 366, -1310, 323, -1279, 382, -1248, 1207, -465, 353, 11707, 311, -505, 29, -77, 1214, -479, 1184, -464, 1191, -433, 1183, -471, 1208, -406, 1178, -485, 1160, -475, 1168, -428, 1210, -454, 1182, -431, 383, -1293, 344, -1252, 1242, -421, 361, -1248, 1182, -448, 1201, -445, 368, -1248, 1221, -442, 1164, -488, 320, -1291, 368, -1291, 335, -1267, 350, -1280, 1184, -502, 313, -11593, 40, -1036, 1215, -431, 1215, -447, 1211, -431, 1175, -430, 1215, -470, 1164, -430, 1215, -447, 1152, -485, 1194, -451, 1174, -454, 359, -1272, 380, -1292, 1148, -457, 382, -1242, 1175, -446, 1213, -436, 452, -1184, 1196, -429, 1185, -430, 367, -1296, 354, -1278, 376, -1290, 327, -1290, 1200, -417, 382, -12668, 1219, -423, 1210, -450, 1155, -482, 1168, -430, 1224, -441, 1202, -413, 1198, -464, 1151, -502, 1213, -403, 1202, -432, 341, -1300, 350, -1281, 1164, -478, 335, -1282, 1198, -442, 1188, -452, 350, -1305, 1181, -447, 1178, -416, 382, -1279, 368, -1286, 345, -1273, 359, -1277, 1170, -471, 370, -12625, 1260, -422, 1194, -454, 1167, -464, 1213, -441, 1181, -457, 1174, -451, 1197, -462, 1185, -428, 1169, -473, 1210, -450, 357, -1267, 327, -1289, 1199, -422, 387, -1288, 1142, -466, 1206, -471, 326, -1247, 1232, -509, 1111, -424, 366, -1303, 328, -1279, 390, -1239, 390, -1261, 1149, -478, 336, -11977, 26, -690, 1250, -433, 1176, -464, 1151, -488, 1195, -410, 1183, -501, 1174, -426, 1200, -443, 1166, -462, 1168, -485, 1181, -443, 364, -1255, 378, -1292, 1149, -447, 385, -1262, 1181, -474, 1194, -407, 383, -1294, 1148, -452, 1221, -430, 357, -1286, 335, -1298, 342, -1288, 318, -1309, 1188, -413, 434, -12464, 26, -119, 1225, -448, 1199, -431, 1197, -480, 1152, -500, 1170, -458, 1163, -438, 1225, -408, 1225, -448, 1164, -441, 1199, -429, 367, -1283, 347, -1270, 1212, -428, 366, -1247, 1214, -441, 1184, -458, 366, -1259, 1184, -489, 1154, -462, 385, -1248, 380, -1281, 335, -1281, 381, -1244, 1187, -455, 348, -12669, 1216, -469, 1204, -453, 1166, -513, 1097, -487, 1141, -461, 1196, -465, 1164, -465, 1189, -430, 1251, -424, 1151, -466, 371, -1276, 327, -1278, 1189, -442, 381, -1263, 1185, -449, 1206, -425, 367, -1268, 1181, -451, 1180, -488, 310, -1298, 386, -1284, 310, -1295, 345, -1290, 1177, -481, 320, -12693, 1216, -418, 1223, -451, 1182, -446, 1184, -458, 1140, -478, 1210, -407, 1236, -445, 1170, -455, 1189, -414, 1185, -501, 329, -1265, 382, -1295, 1154, -447, 424, -1242, 1165, -463, 1202, -426, 382, -1254, 1189, -440, 1165, -463, 335, -1316, 347, -1289, 366, -1280, 311, -1302, 1201, -423, 367, -12391, 26, -304, 1168, -473, 1174, -431, 1200, -464, 1171, -445, 1222, -408, 1181, -447, 1208, -443, 1181, -447, 1198, -428, 1207, -444, 334, -1295, 368, -1263, 1187, -483, 324, -1293, 1204, -427, 1181, -476, 327, -1299, 1174, -471, 1188, -418, 383, -1272, 344, -1261, 385, -1232, 382, -1279, 1203, -423, 389, -11794, 24, -846, 1192, -476, 1174, -454, 1209, -423, 1189, -479, 1178, -433, 1179, -491, 1132, -462, 1200, -460, 1165, -489, 1149, -447, 382, -1294, 328, -1258, 1203, -458, 353, -1281, 1178, -421, 1197, -464, 335, -1298, 1195, -431, 1191, -484, 310, -1278, 383, -1274, 344, -1277, 350, -1302, 1186, -458, 344, -11998, 40, -118, 24, -399, 1316, -427, 1221, -449, 1150, -458, 1226, -412, 1185, -481, 1169, -438, 1215, -444, 1156, -466, 1191, -467, 1196, -431, 337, -1278, 385, -1255, 1182, -454, 380, -1259, 1176, -460, 1178, -455, 378, -1255, 1180, -444, 1067, -8225, 24, -844, 16, -91, 59, -182, 42, -98, 28, -32, 32, -67, 129, -70, 36, -106, 87, -29, -132, -278, 57, -25, 78, -22, 262, -21, 32, -14, 69, -27, 567191, -35, -126637]\n"
     ]
    }
   ],
   "source": [
    "print(list(data[40:]))"
   ]
  },
  {
   "cell_type": "markdown",
   "metadata": {},
   "source": [
    "Посмотрим на гистограммы длин импульсов и пауз"
   ]
  },
  {
   "cell_type": "code",
   "execution_count": 66,
   "metadata": {
    "collapsed": true
   },
   "outputs": [],
   "source": [
    "# show histogramm of lengthes\n",
    "# ignore lengthes that is greater than (1 - threshold) quantile\n",
    "def show_hist(data, title, threshold=0.02):\n",
    "    k = int(len(data) * (1 - threshold))\n",
    "    data = np.partition(data, k)[:k]\n",
    "    \n",
    "    plt.hist(data, bins = 100)\n",
    "    plt.title(title)\n",
    "    plt.xlim([0, data.max() * 1.1])\n",
    "    plt.show()"
   ]
  },
  {
   "cell_type": "code",
   "execution_count": 67,
   "metadata": {},
   "outputs": [
    {
     "data": {
      "image/png": "[encoded data removed]",
      "text/plain": [
       "<matplotlib.figure.Figure at 0x7f8994c407b8>"
      ]
     },
     "metadata": {},
     "output_type": "display_data"
    },
    {
     "data": {
      "image/png": "[encoded data removed]",
      "text/plain": [
       "<matplotlib.figure.Figure at 0x7f8994d51ba8>"
      ]
     },
     "metadata": {},
     "output_type": "display_data"
    }
   ],
   "source": [
    "show_hist(data[data > 0], \"Pulses\", threshold=0.01)\n",
    "show_hist(-data[data < 0], \"Pauses\", threshold=0.01) # обращаем внимание на непримечательный пик справа"
   ]
  },
  {
   "cell_type": "markdown",
   "metadata": {},
   "source": [
    "Немножко удобной автоматики для группирования сигналов по длинам"
   ]
  },
  {
   "cell_type": "code",
   "execution_count": 68,
   "metadata": {},
   "outputs": [
    {
     "name": "stdout",
     "output_type": "stream",
     "text": [
      "(letter, lower, upper, count)\n",
      "('A', 8, 113, 124)\n",
      "('a', -185, -5, 121)\n",
      "('B', 143, 187, 10)\n",
      "('b', -227, -189, 8)\n",
      "('c', -344, -232, 40)\n",
      "('C', 280, 466, 585)\n",
      "('d', -551, -348, 1044)\n",
      "('e', -672, -607, 25)\n",
      "('D', 774, 875, 58)\n",
      "('f', -1161, -1099, 32)\n",
      "('g', -1215, -1165, 15)\n",
      "('E', 1083, 1366, 1021)\n",
      "('h', -1330, -1219, 463)\n"
     ]
    }
   ],
   "source": [
    "# data - list of signals\n",
    "# threshold - length of minimal distance between clusters\n",
    "# threshold_count - minimal count of signals in group\n",
    "# output format list of such structures \n",
    "# (letter, lower, upper, count) giving information about group\n",
    "def clusterize_signals(data, threshold = 100, threshold_count = 10):\n",
    "    groups = []\n",
    "\n",
    "    for signals in (data[data > 0], data[data < 0]):\n",
    "        # clasterization from scipy\n",
    "        signals_color = hac.fclusterdata(X = np.matrix([signals]).T, \n",
    "                                  criterion='distance', t = threshold)\n",
    "        for i in range(1, 10000):\n",
    "            group = signals[signals_color == i]\n",
    "            if (len(group) == 0):\n",
    "                break\n",
    "            bounds = (abs(int(group.mean())), group.min(), group.max(), len(group))\n",
    "            if len(group) > threshold_count:\n",
    "                groups.append(bounds)\n",
    "\n",
    "    groups = sorted(groups)\n",
    "\n",
    "    cur_impulse_code = ord('A')\n",
    "    cur_pause_code = ord('a')\n",
    "\n",
    "    for i in range(len(groups)):\n",
    "        mean, lower, upper, count = groups[i]\n",
    "        code = 0\n",
    "        if (lower > 0):\n",
    "            code = cur_impulse_code\n",
    "            cur_impulse_code += 1\n",
    "            groups[i] = (chr(code), \n",
    "                         max(1, int(lower - threshold / 3)), \n",
    "                         int(upper + threshold / 3), \n",
    "                         count)\n",
    "        else:\n",
    "            code = cur_pause_code\n",
    "            cur_pause_code += 1\n",
    "            groups[i] = (chr(code), \n",
    "                         int(lower - threshold / 3), \n",
    "                         min(int(upper + threshold / 3), -1), \n",
    "                         count)\n",
    "    return groups\n",
    "\n",
    "# делаем группы\n",
    "groups = clusterize_signals(data, threshold = 10, threshold_count = 7)\n",
    "print(\"(letter, lower, upper, count)\")\n",
    "print(\"\\n\".join(map(str, groups)))"
   ]
  },
  {
   "cell_type": "markdown",
   "metadata": {},
   "source": [
    "Получили группы сигналов"
   ]
  },
  {
   "cell_type": "code",
   "execution_count": 51,
   "metadata": {},
   "outputs": [
    {
     "data": {
      "text/plain": [
       "[('A', 8, 113, 124),\n",
       " ('a', -185, -5, 121),\n",
       " ('B', 143, 187, 10),\n",
       " ('b', -227, -189, 8),\n",
       " ('c', -344, -232, 40),\n",
       " ('d', -551, -348, 1044)]"
      ]
     },
     "execution_count": 51,
     "metadata": {},
     "output_type": "execute_result"
    }
   ],
   "source": [
    "\n",
    "\n",
    "# в общем случае стоит посмотреть глазами на группы сигналов и выделить нужные\n",
    "groups = list(filter(lambda x: x[0] in {'A', 'B', 'a', 'b', 'c', 'd'}, groups))\n",
    "groups"
   ]
  },
  {
   "cell_type": "code",
   "execution_count": 52,
   "metadata": {},
   "outputs": [],
   "source": [
    "groups = [\n",
    "    ('A', 200, 600, 3000),\n",
    "    ('B', 1000, 1300, 1300),\n",
    "    ('a', -600, -200, 3000),\n",
    "    ('b', -1400, -1000, 1300),\n",
    "    ('c', -12000, -8000, 20)\n",
    "]"
   ]
  },
  {
   "cell_type": "code",
   "execution_count": 53,
   "metadata": {},
   "outputs": [
    {
     "data": {
      "text/html": [
       "<div>\n",
       "<style>\n",
       "    .dataframe thead tr:only-child th {\n",
       "        text-align: right;\n",
       "    }\n",
       "\n",
       "    .dataframe thead th {\n",
       "        text-align: left;\n",
       "    }\n",
       "\n",
       "    .dataframe tbody tr th {\n",
       "        vertical-align: top;\n",
       "    }\n",
       "</style>\n",
       "<table border=\"1\" class=\"dataframe\">\n",
       "  <thead>\n",
       "    <tr style=\"text-align: right;\">\n",
       "      <th></th>\n",
       "      <th>Lower length</th>\n",
       "      <th>Type</th>\n",
       "      <th>Upper length</th>\n",
       "      <th>count of signals</th>\n",
       "    </tr>\n",
       "  </thead>\n",
       "  <tbody>\n",
       "    <tr>\n",
       "      <th>A</th>\n",
       "      <td>200</td>\n",
       "      <td>impulse</td>\n",
       "      <td>600</td>\n",
       "      <td>3000</td>\n",
       "    </tr>\n",
       "    <tr>\n",
       "      <th>B</th>\n",
       "      <td>1000</td>\n",
       "      <td>impulse</td>\n",
       "      <td>1300</td>\n",
       "      <td>1300</td>\n",
       "    </tr>\n",
       "    <tr>\n",
       "      <th>a</th>\n",
       "      <td>-600</td>\n",
       "      <td>pause</td>\n",
       "      <td>-200</td>\n",
       "      <td>3000</td>\n",
       "    </tr>\n",
       "    <tr>\n",
       "      <th>b</th>\n",
       "      <td>-1400</td>\n",
       "      <td>pause</td>\n",
       "      <td>-1000</td>\n",
       "      <td>1300</td>\n",
       "    </tr>\n",
       "    <tr>\n",
       "      <th>c</th>\n",
       "      <td>-12000</td>\n",
       "      <td>pause</td>\n",
       "      <td>-8000</td>\n",
       "      <td>20</td>\n",
       "    </tr>\n",
       "  </tbody>\n",
       "</table>\n",
       "</div>"
      ],
      "text/plain": [
       "   Lower length     Type  Upper length  count of signals\n",
       "A           200  impulse           600              3000\n",
       "B          1000  impulse          1300              1300\n",
       "a          -600    pause          -200              3000\n",
       "b         -1400    pause         -1000              1300\n",
       "c        -12000    pause         -8000                20"
      ]
     },
     "execution_count": 53,
     "metadata": {},
     "output_type": "execute_result"
    }
   ],
   "source": [
    "# All the same but in a table\n",
    "data_frame = pandas.DataFrame([(lower, upper, count) for letter, lower, upper, count in groups], \n",
    "                              index=[letter for letter, lower, upper, count in groups],\n",
    "            \n",
    "                              columns=['Lower length', 'Upper length', 'count of signals'])\n",
    "data_frame.insert(1, \"Type\", [\"impulse\" if lower > 0 else \"pause\" for c, lower, upper, count in groups])\n",
    "data_frame = data_frame.sort_index()\n",
    "#data_frame = data_frame.pivot_table(index='Letter')\n",
    "data_frame"
   ]
  },
  {
   "cell_type": "markdown",
   "metadata": {},
   "source": [
    "Заменим каждый сигнал буквой, обозначающей его группу. Так зачастую удобнее"
   ]
  },
  {
   "cell_type": "code",
   "execution_count": 54,
   "metadata": {
    "scrolled": true
   },
   "outputs": [
    {
     "name": "stdout",
     "output_type": "stream",
     "text": [
      "Decoded (characters):  ?aBaBaBaBaBaBaBaAbAbBaAbBaBaAbBaBaAbAbAbAbBaA?BaBaBaBaBaBaBaBaBaBaAbAbBaAbBaBaAbBaBaAbAbAbAbBaA????a???a??????BaBaBaBaBaBaBaBaBaBaAbAbBaAbBaBaAbBaBaAbAbAbAbBaA?A?BaBaBaBaBaBaBaBaBaBaAbAbBaAbBaBaAbBaBaAbAbAbAbBaAc???aBaBaBaBaBaBaBaBaBaBaAbAbBaAbBaBaAbBaBaAbAbAbAbBaA?BaBaBaBaBaBaBaBaBaBaAbAbBaAbBaBaAbBaBaAbAbAbAbBaA??a?a?????????aBaBaBaBaBaBaBaBaBaAbAbBaAbBaBaAbBaBaAbAbAbAbBaAc??????????????A?BaBaBaBaBaBaBaBaBaBaAbAbBaAbBaBaAbBaBaAbAbAbAbBaA????a?a??BaBaBaBaBaBaBaBaBaBaAbAbBaAbBaBaAbBaBaAbAbAbAbBaAc?b?a????????????BaBaBaBaBaBaBaBaBaBaAbAbBaAbBaBaAbBaBaAbAbAbAbBaAc?a???a????BaBaBaBaBaBaBaBaBaBaAbAbBaAbBaBaAbBaBaAbAbAbAbBaAc???a???a??BaBaBaBaBaBaBaBaBaBaAbAbBaAbBaBaAbBaBaAbAbAbAbBaAc????????A????aBaBaBaBaBaBaBaBaBaAbAbBaAbBaBaAbBaBaAbAbAbAbBaAc??????????????BaBaBaBaBaBaBaBaBaBaAbAbBaAbBaBaAbBaBaAbAbAbAbBaA???BaBaBaBaBaBaBaBaBaBaAbAbBaAbBaBaAbBaBaAbAbAbAbBaA??aBaBaBaBaBaBaBaBaBaAbAbBaAbBaBaAbBaBaAbAbAbAbBaAc?????aBaBaBaBaBaBaBaBaBaBaAbAbBaAbBaBaAbBaBaAbAbAbAbBaAc????BaBaBaBaBaBaBaBaBaBaAbAbBaAbBaBaAbBaBaAbAbAbAbBaAc???a??????BaBaBaBaBaBaBaBaBaBaAbAbBaAbBaBaAbBaBaAbAbAbAbBaAc?a?aBaBaBaBaBaBaBaBaBaBaAbAbBaAbBaBaAbBaBaAbAbAbAbBaA?BaBaBaBaBaBaBaBaBaBaAbAbBaAbBaBaAbBaBaAbAbAbAbBaA?????BaBaBaBaBaBaBaBaBaBaAbAbBaAbBaBaAbBaBaAbAbAbAbBaAc????BaBaBaBaBaBaBaBaBaAbAbBaAbBaBaAbBaBaAbAbAbAbBaAc????BaBaBaBaBaBaBaBaBaBaAbAbBaAbBaBaAbBaBaAbAbAbAbBa?b?b?b?b?b?b?a???aBaBa?a?a????A??a???a???a??A??aAaAaAaBa??AbAa??Ab?b?b?bBaBaBaBa???aBaBa??BaBaAa???aAaBaBaBaBaBaBaA??aAaB?A??aAa?aAbA???Ab?b?b??Ba???a?aBaBa???aBaAb??BaAaAaBaBaAa??BaBaAa??A?AaBaAa?????b??Ab?b?bA???Aa?aBaBaBaBaBa?aBaAbAbBaAbBaBaAbBaBaAbAbAbAbBaA?BaBaBaBaBaBaBaBaBaBaAb??BaA??a?b?aBaA??aAaB??b?a?b?b?b?b??AbA??aBa???????a?aBa??BaBaA??a??Aa???a??BaAaA????b?b?b?bA??b?b?aBa?aBaBa?aBaBa???aAa??Ba?????b?aBa????A?A????a?b?b?bA???Ab?b?aBaBaBa?aBaBa?aBaBa?aAaB??a???a?b?aAaB??b??BaBbA??b??Ab??BaBaBaBaBaBaBaBaBaBaAbAbBaAbBaBaAbBaBaAbAbAbAbBaA??aBaBaBaBaBaBaBaBaBaBaAbAbBaAbBaBaAbBaBaAbAbAbAbBaA?A?BaBaBaBaBaBaBaBaBaBaAbAbBaAbBaBaAbBaBaAbAbAbAbBaAc?a?????aBaBaBaBaBaBaBaBaBaAbAbBaAbBaBaAbBaBaAbAbAbAbBaA?BaBaBaBaBaBaBaBaBaBaAbAbBaAbBaBaAbBaBaAbAbAbAbBaA?BaBaBaBaBaBaBaBaBaBaAbAbBaAbBaBaAbBaBaAbAbAbAbBaA???BaBaBaBaBaBaBaBaBaBaAbAbBaAbBaBaAbBaBaAbAbAbAbBaA??aBaBaBaBaBaBaBaBaBaAbAbBaAbBaBaAbBaBaAbAbAbAbBaAc??BaBaBaBaBaBaBaBaBaBaAbAbBaAbBaBaAbBaBaAbAbAbAbBaA?????BaBaBaBaBaBaBaBaBaBaAbAbBaAbBaBaAbBaBaAbAbAbAbBaA?BaBaBaBaBaBaBaBaBaBaAbAbBaAbBaBaAbBaBaAbAbAbAbBaA?BaBaBaBaBaBaBaBaBaBaAbAbBaAbBaBaAbBaBaAbAbAbAbBaA?BaBaBaBaBaBaBaBaBaBaAbAbBaAbBaBaAbBaBaAbAbAbAbBaAc?A?a??BaBaBaBaBaBaBaBaBaBaAbAbBaAbBaBaAbBaBaAbAbAbAbBaA????a??BaBaBaBaBaBaBaBaBaBaAbAbBaAbBaBaAbBaBaAbAbAbAbBaAc?b?????aBaBaBaBaBaBaBaBaBaAbAbBaAbBaBaAbBaBaAbAbAbAbBaAc?bA????????b?aBaBaBaBaBaBaBaBaBaAbAbBaAbBaBaAbBaBaAbAbAbAbBaAcAb?aBaBaBaBaBaBaBaBaBaAbAbBaAbBaBaAbBaBaAbAbAbAbBaAc?b???bA?????BaBaBaBaBaBaBaBaBaBaAbAbBaAbBaBaAbBaBaAbAbAbAbBaAc??????????Ab??????BaBaBaBaBaBaBaBaBaBaAbAbBaAbBaBaAbBaBaAbAbAbAbBaA????A?bAb?aBaBaBaBaBaBaBaBaBaAbAbBaAbBaBaAbBaBaAbAbAbAbBaA??aBaBaBaBaBaBaBaBaBaAbAbBaAbBaBaAbBaBaAbAbAbAbBaA???BaBaBaBaBaBaBaBaBaBaAbAbBaAbBaBaAbBaBaAbAbAbAbBaA?????BaBaBaBaBaBaBaBaBaBaAbAbBaAbBaBaAbBaBaAbAbAbAbBaA?Aa??BaBaBaBaBaBaBaBaBaBaAbAbBaAbBaBaAbBaBaAbAbAbAbBaAc?bBaBaBaBaBaBaBaBaBaBaAbAbBaAbBaBaAbBaBaAbAbAbAbBaA?BaBaBaBaBaBaBaBaBaBaAbAbBaAbBaBaAbBaBaAbAbAbAbBaA?BaBaBaBaBaBaBaBaBaBaAbAbBaAbBaBaAbBaBaAbAbAbAbBaAc??BaBaBaBaBaBaBaBaBaBaAbAbBaAbBaBaAbBaBaAbAbAbAbBaA???BaBaBaBaBaBaBaBaBaBaAbAbBaAbBaBaAbBaBaAbAbAbAbBaA?BaBaBaBaBaBaBaBaBaBaAbAbBaAbBaBaAbBaBaAbAbAbAbBaA?BaBaBaBaBaBaBaBaBaBaAbAbBaAbBaBaAbBaBaAbAbAbAbBaA??aBaBaBaBaBaBaBaBaBaBaAbAbBaAbBaBaAbBaBaAbAbAbAbBaAc??BaBaBaBaBaBaBaBaBaBaAbAbBaAbBaBaAbBaBaAbAbAbAbBaAc???a?aBaBaBaBaBaBaBaBaBaAbAbBaAbBaBaAbBaBc???????????????????a????A????????\n"
     ]
    }
   ],
   "source": [
    "# finds signal in groups\n",
    "# returns a corresponding letter\n",
    "def decode_signal(x, groups):\n",
    "    for c, lower, upper, group in groups:\n",
    "        if lower <= x <= upper:\n",
    "            return c\n",
    "    return \"?\"\n",
    "\n",
    "# decode list of signals\n",
    "# each signal is decoded separately\n",
    "def decode_signals(data, groups):\n",
    "    return [decode_signal(signal, groups) for signal in data]\n",
    "\n",
    "\n",
    "# decoded signals\n",
    "data_letters = decode_signals(data, groups)\n",
    "\n",
    "data_letters = [c if c != \"d\" else 'c' for c in data_letters]\n",
    "\n",
    "print(\"Decoded (characters): \", \"\".join(data_letters))\n",
    "    "
   ]
  },
  {
   "cell_type": "markdown",
   "metadata": {},
   "source": [
    "Символ 'c' на порядок реже встречается и кажется разделителем. Поделим по нему."
   ]
  },
  {
   "cell_type": "code",
   "execution_count": 62,
   "metadata": {},
   "outputs": [
    {
     "data": {
      "text/plain": [
       "Counter({'BaAbAbBaAbBaBaAbBaBaAbAbAbAbBaA': 39})"
      ]
     },
     "execution_count": 62,
     "metadata": {},
     "output_type": "execute_result"
    }
   ],
   "source": [
    "#print(\"\\n\".join((\"\".join(data_letters).split(\"?\"))))\n",
    "Counter([x[:31] for x in \"\".join(data_letters).split(\"?BaBaBaBaBaBaBaBaBa\") if len(x) >= 24 and x[:31].find('?') == -1])"
   ]
  },
  {
   "cell_type": "code",
   "execution_count": null,
   "metadata": {
    "collapsed": true
   },
   "outputs": [],
   "source": [
    "Counter({'BaAbAbBaAbBaBaAbBaBaAbAbAbAbBaA': 39}) - 1"
   ]
  },
  {
   "cell_type": "markdown",
   "metadata": {},
   "source": [
    "Есть два пакета, повторившиеся много раз.\n",
    "\n",
    "Дальше можно сделать еще несколько наблюдений, описанных в основной статье. А можно сразу делать все по даташиту."
   ]
  },
  {
   "cell_type": "markdown",
   "metadata": {},
   "source": [
    "Смотрим в даташит и видим, что `'Ac'` - импульс и длинная пауза - это преамбула. А `'Ab'` и `'Ba'` задают 0 и 1."
   ]
  },
  {
   "cell_type": "code",
   "execution_count": 106,
   "metadata": {},
   "outputs": [
    {
     "name": "stdout",
     "output_type": "stream",
     "text": [
      "?a111111100101101100100AP111111111100101101100100A?AaAaaaAaAaAaAaAaAa?a?P111111111100101101100100AP111111111100101101100100AP111111111100101101A?AaAaAaAaAa??111111111100101101100100AP111111111100101101100100AP111111111100101101A?A?AaAaAaAaAaAaAaa?Aa?a?P111111111100101101100100AP111111111100101101100\n"
     ]
    }
   ],
   "source": [
    "# заменим пары символов на их смысл\n",
    "data_1 = \"\".join(data_letters).replace('c', 'P').replace('Ab', '0').replace('Ba', '1')\n",
    "print(data_1[:300])"
   ]
  },
  {
   "cell_type": "markdown",
   "metadata": {},
   "source": [
    "Здесь уже хорошо видно периодичные 'P'-шки. Поделим всю строку на пакеты."
   ]
  },
  {
   "cell_type": "code",
   "execution_count": 108,
   "metadata": {},
   "outputs": [
    {
     "name": "stdout",
     "output_type": "stream",
     "text": [
      "['111111111100101101100100A', '111111111100101101100100A', '111111111100101101100100A', '111111111100101101100100A', '111111111100101101100100A', '111111111100101101100100A', '111111111100101101100100A']\n"
     ]
    },
    {
     "data": {
      "text/plain": [
       "Counter({'111111111100101101100100A': 7})"
      ]
     },
     "execution_count": 108,
     "metadata": {},
     "output_type": "execute_result"
    }
   ],
   "source": [
    "data = list(filter(lambda x: len(x) > 23, [x for y in data_1.split('?') for x in y.split('P') ]))\n",
    "print(data)\n",
    "Counter(data)"
   ]
  },
  {
   "cell_type": "markdown",
   "metadata": {},
   "source": [
    "Видим, что подряд идет помногу одинаковых пакетов. В снятых мною дампах это сигналы от датчика движения при двух разных конфигурациях джамперов"
   ]
  },
  {
   "cell_type": "code",
   "execution_count": 109,
   "metadata": {},
   "outputs": [
    {
     "ename": "ValueError",
     "evalue": "invalid literal for int() with base 2: '0100A'",
     "output_type": "error",
     "traceback": [
      "\u001b[0;31m---------------------------------------------------------------------------\u001b[0m",
      "\u001b[0;31mValueError\u001b[0m                                Traceback (most recent call last)",
      "\u001b[0;32m<ipython-input-109-61ca190f8803>\u001b[0m in \u001b[0;36m<module>\u001b[0;34m()\u001b[0m\n\u001b[1;32m      4\u001b[0m \u001b[0;34m\u001b[0m\u001b[0m\n\u001b[1;32m      5\u001b[0m \u001b[0;31m# разделяем на непосредственно сообщение и флаги D0-D3\u001b[0m\u001b[0;34m\u001b[0m\u001b[0;34m\u001b[0m\u001b[0m\n\u001b[0;32m----> 6\u001b[0;31m \u001b[0mdata_pairs\u001b[0m \u001b[0;34m=\u001b[0m \u001b[0mlist\u001b[0m\u001b[0;34m(\u001b[0m\u001b[0mmap\u001b[0m\u001b[0;34m(\u001b[0m\u001b[0;32mlambda\u001b[0m \u001b[0mx\u001b[0m\u001b[0;34m:\u001b[0m \u001b[0mMessage\u001b[0m\u001b[0;34m(\u001b[0m\u001b[0mint\u001b[0m\u001b[0;34m(\u001b[0m\u001b[0mx\u001b[0m\u001b[0;34m[\u001b[0m\u001b[0;34m:\u001b[0m\u001b[0;36m20\u001b[0m\u001b[0;34m]\u001b[0m\u001b[0;34m[\u001b[0m\u001b[0;34m:\u001b[0m\u001b[0;34m:\u001b[0m\u001b[0;34m-\u001b[0m\u001b[0;36m1\u001b[0m\u001b[0;34m]\u001b[0m\u001b[0;34m,\u001b[0m \u001b[0;36m2\u001b[0m\u001b[0;34m)\u001b[0m\u001b[0;34m,\u001b[0m \u001b[0mint\u001b[0m\u001b[0;34m(\u001b[0m\u001b[0mx\u001b[0m\u001b[0;34m[\u001b[0m\u001b[0;36m20\u001b[0m\u001b[0;34m:\u001b[0m\u001b[0;34m]\u001b[0m\u001b[0;34m,\u001b[0m \u001b[0;36m2\u001b[0m\u001b[0;34m)\u001b[0m\u001b[0;34m)\u001b[0m\u001b[0;34m,\u001b[0m \u001b[0mdata\u001b[0m\u001b[0;34m)\u001b[0m\u001b[0;34m)\u001b[0m\u001b[0;34m\u001b[0m\u001b[0m\n\u001b[0m\u001b[1;32m      7\u001b[0m \u001b[0mprint\u001b[0m\u001b[0;34m(\u001b[0m\u001b[0mdata_pairs\u001b[0m\u001b[0;34m)\u001b[0m\u001b[0;34m\u001b[0m\u001b[0m\n\u001b[1;32m      8\u001b[0m \u001b[0;34m\u001b[0m\u001b[0m\n",
      "\u001b[0;32m<ipython-input-109-61ca190f8803>\u001b[0m in \u001b[0;36m<lambda>\u001b[0;34m(x)\u001b[0m\n\u001b[1;32m      4\u001b[0m \u001b[0;34m\u001b[0m\u001b[0m\n\u001b[1;32m      5\u001b[0m \u001b[0;31m# разделяем на непосредственно сообщение и флаги D0-D3\u001b[0m\u001b[0;34m\u001b[0m\u001b[0;34m\u001b[0m\u001b[0m\n\u001b[0;32m----> 6\u001b[0;31m \u001b[0mdata_pairs\u001b[0m \u001b[0;34m=\u001b[0m \u001b[0mlist\u001b[0m\u001b[0;34m(\u001b[0m\u001b[0mmap\u001b[0m\u001b[0;34m(\u001b[0m\u001b[0;32mlambda\u001b[0m \u001b[0mx\u001b[0m\u001b[0;34m:\u001b[0m \u001b[0mMessage\u001b[0m\u001b[0;34m(\u001b[0m\u001b[0mint\u001b[0m\u001b[0;34m(\u001b[0m\u001b[0mx\u001b[0m\u001b[0;34m[\u001b[0m\u001b[0;34m:\u001b[0m\u001b[0;36m20\u001b[0m\u001b[0;34m]\u001b[0m\u001b[0;34m[\u001b[0m\u001b[0;34m:\u001b[0m\u001b[0;34m:\u001b[0m\u001b[0;34m-\u001b[0m\u001b[0;36m1\u001b[0m\u001b[0;34m]\u001b[0m\u001b[0;34m,\u001b[0m \u001b[0;36m2\u001b[0m\u001b[0;34m)\u001b[0m\u001b[0;34m,\u001b[0m \u001b[0mint\u001b[0m\u001b[0;34m(\u001b[0m\u001b[0mx\u001b[0m\u001b[0;34m[\u001b[0m\u001b[0;36m20\u001b[0m\u001b[0;34m:\u001b[0m\u001b[0;34m]\u001b[0m\u001b[0;34m,\u001b[0m \u001b[0;36m2\u001b[0m\u001b[0;34m)\u001b[0m\u001b[0;34m)\u001b[0m\u001b[0;34m,\u001b[0m \u001b[0mdata\u001b[0m\u001b[0;34m)\u001b[0m\u001b[0;34m)\u001b[0m\u001b[0;34m\u001b[0m\u001b[0m\n\u001b[0m\u001b[1;32m      7\u001b[0m \u001b[0mprint\u001b[0m\u001b[0;34m(\u001b[0m\u001b[0mdata_pairs\u001b[0m\u001b[0;34m)\u001b[0m\u001b[0;34m\u001b[0m\u001b[0m\n\u001b[1;32m      8\u001b[0m \u001b[0;34m\u001b[0m\u001b[0m\n",
      "\u001b[0;31mValueError\u001b[0m: invalid literal for int() with base 2: '0100A'"
     ]
    }
   ],
   "source": [
    "# именнованый кортеж, для более понятного вывода\n",
    "from collections import namedtuple\n",
    "Message = namedtuple('HSMessage', 'data channel')\n",
    "\n",
    "# разделяем на непосредственно сообщение и флаги D0-D3\n",
    "data_pairs = list(map(lambda x: Message(int(x[:20][::-1], 2), int(x[20:], 2)), data))\n",
    "print(data_pairs)\n",
    "\n",
    "# или в 16-ричной, если вам так больше нравится\n",
    "data_pairs16 = list(map(lambda x: Message(hex(x[0]), hex(x[1])), data_pairs))\n",
    "print(data_pairs16)\n"
   ]
  },
  {
   "cell_type": "markdown",
   "metadata": {},
   "source": [
    "Готово!"
   ]
  }
 ],
 "metadata": {
  "kernelspec": {
   "display_name": "Python 3",
   "language": "python",
   "name": "python3"
  },
  "language_info": {
   "codemirror_mode": {
    "name": "ipython",
    "version": 3
   },
   "file_extension": ".py",
   "mimetype": "text/x-python",
   "name": "python",
   "nbconvert_exporter": "python",
   "pygments_lexer": "ipython3",
   "version": "3.5.2"
  }
 },
 "nbformat": 4,
 "nbformat_minor": 1
}
