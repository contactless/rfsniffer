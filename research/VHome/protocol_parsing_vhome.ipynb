{
 "cells": [
  {
   "cell_type": "code",
   "execution_count": 3,
   "metadata": {
    "collapsed": true
   },
   "outputs": [],
   "source": [
    "import numpy as np\n",
    "import matplotlib.pyplot as plt\n",
    "import matplotlib as mpl\n",
    "import scipy.cluster.hierarchy as hac\n",
    "\n",
    "import pandas\n",
    "\n",
    "import glob\n",
    "import struct\n",
    "from collections import Counter"
   ]
  },
  {
   "cell_type": "markdown",
   "metadata": {},
   "source": [
    "# Расшифровка протокола VHome"
   ]
  },
  {
   "cell_type": "markdown",
   "metadata": {
    "collapsed": true
   },
   "source": []
  },
  {
   "cell_type": "code",
   "execution_count": 235,
   "metadata": {
    "collapsed": true
   },
   "outputs": [],
   "source": [
    "# takes filename\n",
    "# open file, read binary data\n",
    "# returns numpy.array of impulses (positive integer)\n",
    "# and pauses (negative integer)\n",
    "def file_to_data(filename):\n",
    "    pic = open(filename, \"rb\")\n",
    "    data = []\n",
    "    while True:\n",
    "        buf = pic.read(4)\n",
    "        if not buf or len(buf) != 4:\n",
    "            break\n",
    "        sign = 1 if buf[3] == 1 else -1\n",
    "        buf = bytes(buf[:3] + bytes([0]))\n",
    "        data.append(sign * struct.unpack('i', buf)[0])\n",
    "    return np.array(data)\n",
    "\n",
    "# takes files' mask\n",
    "# returns numpy.array of data\n",
    "def files_to_data(mask):\n",
    "    # откуда брать дампы\n",
    "    filenames = sorted(glob.glob(mask))\n",
    "    \n",
    "    print(\"%d files found\" % len(filenames))\n",
    "\n",
    "    datas = []\n",
    "\n",
    "    # посмотрим файлики с дампами, преобразуем в импульсы\n",
    "    for name in filenames:\n",
    "        print(\"read \" + name)\n",
    "        datas.append(file_to_data(name))\n",
    "\n",
    "    return np.concatenate(datas)\n"
   ]
  },
  {
   "cell_type": "code",
   "execution_count": 313,
   "metadata": {},
   "outputs": [
    {
     "name": "stdout",
     "output_type": "stream",
     "text": [
      "7 files found\n",
      "read ./1btn-longpress1.rcf\n",
      "read ./1btn-shortpress1.rcf\n",
      "read ./2btn-longpress1.rcf\n",
      "read ./2btn-longpress2.rcf\n",
      "read ./3btn-longpress1.rcf\n",
      "read ./3btn-longpress2.rcf\n",
      "read ./3btn-longpress3.rcf\n"
     ]
    }
   ],
   "source": [
    "# читаем информацию\n",
    "data = files_to_data(\"./*btn-*.rcf\")"
   ]
  },
  {
   "cell_type": "code",
   "execution_count": 314,
   "metadata": {},
   "outputs": [],
   "source": [
    "#print(list(data[40:]))"
   ]
  },
  {
   "cell_type": "markdown",
   "metadata": {},
   "source": [
    "Посмотрим на гистограммы длин импульсов и пауз"
   ]
  },
  {
   "cell_type": "code",
   "execution_count": 315,
   "metadata": {
    "collapsed": true
   },
   "outputs": [],
   "source": [
    "# show histogramm of lengthes\n",
    "# ignore lengthes that is greater than (1 - threshold) quantile\n",
    "def show_hist(data, title, threshold=0.02):\n",
    "    k = int(len(data) * (1 - threshold))\n",
    "    data = np.partition(data, k)[:k]\n",
    "    \n",
    "    plt.hist(data, bins = 100)\n",
    "    plt.title(title)\n",
    "    plt.xlim([0, data.max() * 1.1])\n",
    "    plt.show()"
   ]
  },
  {
   "cell_type": "code",
   "execution_count": 316,
   "metadata": {},
   "outputs": [
    {
     "data": {
      "image/png": "[encoded data removed]",
      "text/plain": [
       "<matplotlib.figure.Figure at 0x7f8994e60e80>"
      ]
     },
     "metadata": {},
     "output_type": "display_data"
    },
    {
     "data": {
      "image/png": "[encoded data removed]",
      "text/plain": [
       "<matplotlib.figure.Figure at 0x7f8994344908>"
      ]
     },
     "metadata": {},
     "output_type": "display_data"
    },
    {
     "data": {
      "image/png": "[encoded data removed]",
      "text/plain": [
       "<matplotlib.figure.Figure at 0x7f89951d3908>"
      ]
     },
     "metadata": {},
     "output_type": "display_data"
    }
   ],
   "source": [
    "show_hist(data[data > 0], \"Pulses\", threshold=0.05)\n",
    "show_hist(-data[data < 0], \"Pauses\", threshold=0.05)\n",
    "show_hist(-data[data < 0], \"Pauses\", threshold=0.01) # обращаем внимание на непримечательный пик справа"
   ]
  },
  {
   "cell_type": "markdown",
   "metadata": {},
   "source": [
    "Немножко удобной автоматики для группирования сигналов по длинам"
   ]
  },
  {
   "cell_type": "code",
   "execution_count": 317,
   "metadata": {},
   "outputs": [
    {
     "name": "stdout",
     "output_type": "stream",
     "text": [
      "(letter, lower, upper, count)\n",
      "('A', 5, 519, 5973)\n",
      "('a', -737, -3, 6978)\n",
      "('b', -825, -783, 8)\n",
      "('B', 774, 902, 92)\n",
      "('c', -1042, -1013, 10)\n",
      "('C', 1083, 1431, 5241)\n",
      "('d', -1457, -1063, 4068)\n",
      "('D', 1437, 1515, 24)\n",
      "('E', 1580, 1617, 11)\n",
      "('F', 1646, 1679, 8)\n",
      "('G', 1766, 1820, 10)\n",
      "('e', -13266, -13147, 117)\n"
     ]
    }
   ],
   "source": [
    "# data - list of signals\n",
    "# threshold - length of minimal distance between clusters\n",
    "# threshold_count - minimal count of signals in group\n",
    "# output format list of such structures \n",
    "# (letter, lower, upper, count) giving information about group\n",
    "def clusterize_signals(data, threshold = 100, threshold_count = 10):\n",
    "    groups = []\n",
    "\n",
    "    for signals in (data[data > 0], data[data < 0]):\n",
    "        # clasterization from scipy\n",
    "        signals_color = hac.fclusterdata(X = np.matrix([signals]).T, \n",
    "                                  criterion='distance', t = threshold)\n",
    "        for i in range(1, 10000):\n",
    "            group = signals[signals_color == i]\n",
    "            if (len(group) == 0):\n",
    "                break\n",
    "            bounds = (abs(int(group.mean())), group.min(), group.max(), len(group))\n",
    "            if len(group) > threshold_count:\n",
    "                groups.append(bounds)\n",
    "\n",
    "    groups = sorted(groups)\n",
    "\n",
    "    cur_impulse_code = ord('A')\n",
    "    cur_pause_code = ord('a')\n",
    "\n",
    "    for i in range(len(groups)):\n",
    "        mean, lower, upper, count = groups[i]\n",
    "        code = 0\n",
    "        if (lower > 0):\n",
    "            code = cur_impulse_code\n",
    "            cur_impulse_code += 1\n",
    "            groups[i] = (chr(code), \n",
    "                         max(1, int(lower - threshold / 3)), \n",
    "                         int(upper + threshold / 3), \n",
    "                         count)\n",
    "        else:\n",
    "            code = cur_pause_code\n",
    "            cur_pause_code += 1\n",
    "            groups[i] = (chr(code), \n",
    "                         int(lower - threshold / 3), \n",
    "                         min(int(upper + threshold / 3), -1), \n",
    "                         count)\n",
    "    return groups\n",
    "\n",
    "# делаем группы\n",
    "groups = clusterize_signals(data, threshold = 10, threshold_count = 7)\n",
    "print(\"(letter, lower, upper, count)\")\n",
    "print(\"\\n\".join(map(str, groups)))"
   ]
  },
  {
   "cell_type": "markdown",
   "metadata": {},
   "source": [
    "Получили группы сигналов\n",
    "Много шумов, будем руками вводить"
   ]
  },
  {
   "cell_type": "code",
   "execution_count": 318,
   "metadata": {},
   "outputs": [],
   "source": [
    "groups = [\n",
    "    ('A', 1, 700, 3000),\n",
    "    ('B', 1000, 1400, 1300),\n",
    "    ('a', -800, -1, 3000),\n",
    "    ('b', -1400, -800, 1300),\n",
    "    ('c', -20000, -2000, 20)\n",
    "]"
   ]
  },
  {
   "cell_type": "code",
   "execution_count": 319,
   "metadata": {},
   "outputs": [
    {
     "data": {
      "text/html": [
       "<div>\n",
       "<style>\n",
       "    .dataframe thead tr:only-child th {\n",
       "        text-align: right;\n",
       "    }\n",
       "\n",
       "    .dataframe thead th {\n",
       "        text-align: left;\n",
       "    }\n",
       "\n",
       "    .dataframe tbody tr th {\n",
       "        vertical-align: top;\n",
       "    }\n",
       "</style>\n",
       "<table border=\"1\" class=\"dataframe\">\n",
       "  <thead>\n",
       "    <tr style=\"text-align: right;\">\n",
       "      <th></th>\n",
       "      <th>Lower length</th>\n",
       "      <th>Type</th>\n",
       "      <th>Upper length</th>\n",
       "      <th>count of signals</th>\n",
       "    </tr>\n",
       "  </thead>\n",
       "  <tbody>\n",
       "    <tr>\n",
       "      <th>A</th>\n",
       "      <td>1</td>\n",
       "      <td>impulse</td>\n",
       "      <td>700</td>\n",
       "      <td>3000</td>\n",
       "    </tr>\n",
       "    <tr>\n",
       "      <th>B</th>\n",
       "      <td>1000</td>\n",
       "      <td>impulse</td>\n",
       "      <td>1400</td>\n",
       "      <td>1300</td>\n",
       "    </tr>\n",
       "    <tr>\n",
       "      <th>a</th>\n",
       "      <td>-800</td>\n",
       "      <td>pause</td>\n",
       "      <td>-1</td>\n",
       "      <td>3000</td>\n",
       "    </tr>\n",
       "    <tr>\n",
       "      <th>b</th>\n",
       "      <td>-1400</td>\n",
       "      <td>pause</td>\n",
       "      <td>-800</td>\n",
       "      <td>1300</td>\n",
       "    </tr>\n",
       "    <tr>\n",
       "      <th>c</th>\n",
       "      <td>-20000</td>\n",
       "      <td>pause</td>\n",
       "      <td>-2000</td>\n",
       "      <td>20</td>\n",
       "    </tr>\n",
       "  </tbody>\n",
       "</table>\n",
       "</div>"
      ],
      "text/plain": [
       "   Lower length     Type  Upper length  count of signals\n",
       "A             1  impulse           700              3000\n",
       "B          1000  impulse          1400              1300\n",
       "a          -800    pause            -1              3000\n",
       "b         -1400    pause          -800              1300\n",
       "c        -20000    pause         -2000                20"
      ]
     },
     "execution_count": 319,
     "metadata": {},
     "output_type": "execute_result"
    }
   ],
   "source": [
    "# All the same but in a table\n",
    "data_frame = pandas.DataFrame([(lower, upper, count) for letter, lower, upper, count in groups], \n",
    "                              index=[letter for letter, lower, upper, count in groups],\n",
    "            \n",
    "                              columns=['Lower length', 'Upper length', 'count of signals'])\n",
    "data_frame.insert(1, \"Type\", [\"impulse\" if lower > 0 else \"pause\" for c, lower, upper, count in groups])\n",
    "data_frame = data_frame.sort_index()\n",
    "#data_frame = data_frame.pivot_table(index='Letter')\n",
    "data_frame"
   ]
  },
  {
   "cell_type": "markdown",
   "metadata": {},
   "source": [
    "Заменим каждый сигнал буквой, обозначающей его группу. Так зачастую удобнее"
   ]
  },
  {
   "cell_type": "code",
   "execution_count": 320,
   "metadata": {
    "scrolled": true
   },
   "outputs": [
    {
     "name": "stdout",
     "output_type": "stream",
     "text": [
      "Decoded (characters):  c?bBaAbAbAbAbBaAbAbAbAbBaBaBaA?BaBaAbAbAbBaAbAcAaAaAcBaAbAbBaAbAbAbAbBaAbAbAbAbBaBaBaAbBaBaAbAbAbBaAbAcAaAa?aAbAbBaAbAbAbAbBaAbAbAbAbBaBaBaAbBaBaAbAbAbBaAbAcAaAaAaAaAaAaAa?aAbAbBaAbAbAbAbBaAbAbAbAbBaBaBaAbBaBaAbAbAbBaAbAcAaAaAaaaAa?aBaAbAbBaAbAbAbAbBaAbAbAbAbBaBaBaAbBaBaAbAbAbBaAbAcAaAaAaAaAaAa?aAbAbBaAbAbAbAbBaAbAbAbAbBaBaBaAbBaBaAbA?AbBaAbAcAaAaAaAaAaAaAa?aAbAbBaAbAbAbAbBaAbAbAbAbBaBaBaAbBaBaAbAbAbBaAbAcAaAaAaAaAaAaAa?aAbAbBaAbAbAbAbBaAbAbAbAbBaBaBaAbBaBaAbAbAbBaAbAcAaAaAaAaAaAa?aAbAbBaAbAbA?AbBaAbAbAbAbBaBaBaAbBaBaAbAbAbBaAbAcAaAaAaAaAaAaAaAa?aAbAbBaAbA?AbAbBaAbAbAbAbBaBaBaAbBaBaAbAbAbBaAbA?AaAaAaAaAaAa?aAbAbBaAbAbAbAbBaAbAbAbAbBaBaBaAbBaBaAbAbAbBaAbAcAaAaaaAaAa?aAbAbBaAbAbAbAbBaAbAbAbAbBaBaBaAbBaBaA?AbAbBaAbA?AaAaAaAaAaAaAaAa?aA?AbBaAbAbAbAbBaAbAbAbAbBaBaBaAbBaBaAbAbAbBaAbAcA?AaAaAaBaAbAbBaAbAbAbAbBaAbAbAbAbBaBaBaAbBaBaAbAbAbBaAbAcAbAaAaAa?aAbAbBaAbAbAbAbBaAbAbAbAbBaBaBaAbBaBaAbAbAbBaAbAcAaAaAaAaAaAaBaAbAbBaAbAbAbAbBaAbAbAbAbBaBaBaAbBaBaAbAbAbBaAbAcA?AaAaAaAaAa?aAbAbBaAbAbAbAbBaAbAbAbAbBaBaBaAbBaBaAbAbAbBaAbA?AaAaAaAa?aAbAbBaAbAbAbAbBaAbAbAbAbBaBaBaAbBaBaAbAbAbBaAbAcAaAaAaBaAbAbBaAbAbAbAbBaAbAbAbAbBaBaBaAbBaBaAbAbAbBaAbAcAaAaBaAbAbBaAbAbAbAbBaAbAbAbAbBaBaBaAbBaBaAbAbAbBaAbAcAaAaAaAaAaBaAbAbBaAbAbAbAbBaAbAbAbAbBaBaBaAbBaBaAbAbAbBaAbAcAaAbAaAaAaBaAbAbBaAbAbAbAbBaAbAbAbAbBaBaBaAbBaBaAbAbAbBaAbAcBaAbAbBaAbAbAbAbBaAbAbAbAbBaBaBaAbBaBaAbAbAbBaAbAcBaAbAbBaAbAbAbAbBaAbAbAbAbBaBaBaAbBaBaAbAbAbBaAbAcAaAaBaAbAbBaAbAbAbAbBaAbAbAbAbBaBaBaAbBaBaAbAbA?BaAbAcBaAbAbBaAbAbAbAbBaAbAbAbAbBaBaBaAbBaBaAbAbAbBaAbAcAaAaBaAbAbBaAbAbAbAbBaAbAbAbAbBaBaBaAbBaBaAbAbAbBaAbAcAA?aAbAbBaAbAbAbAbBaAbAbAbAbBaBaBaAbBaBaAbAbAbBaAbAcBaAbAbBaAbAbAbA?BaAbAbAbAbBaBaBaAbBaBaAbAbAbBaAbAcAB?aAbAbBaAbAbAbAbBaAbAbAbAbBaBaBaAbBaBaA?AbAbBaAbA??aAbA?BaAbAbAbAbBaAbAbAbAbBaBaBaAbBaBaAbAbAbBaAbAcAaBaAbAbBaAbAbAbAbBaAbAbAbAbBaBaBaAbBaBaAbAbAbBaAbAcBaAbAbBaAbAbAbAbBaAbAbAbAbBaBaBaAbBaBaAbAbAbBaAbAcAaAaBaAbAbBaAbAbAbAbBaAbAbAbAbBaBaBaAbBaBaAbAbA?BaAbAcAaAaAaAaAaBaAbAbBaAbAbAbAbBaAbAbAbAbBaBaBaAbBaBaAbAbAbBaAbAcAbAaBaAbAbBaAbAbAbAbBaAbAbAbAbBaBaBaAbBaBaAbAbAbBaAbAcAaAaAaBaAbAbBaAbAbAbAbBaAbAbAbAbBaBaBaAbBaBaAbAbAbBaAbAcAaBaAbAbBaAbAbAbAbBaAbAbAbAbBaBaBaAbBaBaAbAbAbBaAbAcAaAaAaAaAaBaAbAbBaAbAbAbAbBaAbAbAbAbBaBaBaAbBaBaAbAbAbBaAbAcAaAaAaAaAaAaBaAbAbBaAbAbAbAbBaAbAbAbAbBaBaBaAbBaBaAbAbAbBaAbAcAaAaAaAaAaAaBaAbAbBaAbAbAbAbBaAbAbAbAbBaBaBaAbBaBaAbAbAbBaAbAcAaAaAaAaAaAaAaAaAaAaAaAaBaAbAbBaAbAbAbAbBaAbAbAbAbBaBaBaAbBaBaA?AbAbBaAbAcAaAaAAAa?aAbAbBaAbAbAbAbBaAbAbAbAbBaBaBaAbBaBaAbAbAbBaAbAcAaAaAaAaAaAaAaAaBaAbAbBaAbAbAbAbBaAbAbAbAbBaBaBaAbBaBaAbAbAbBaAbAcAAAaAaAaAaAaAaAaBaAbAbBaAbAbAbAbBaAbAbAbAbBaBaBaAbBaBaAbAbAbBaAbAcAaAaAaAaAaAaAaBaAbAbBaAbAbAbAbBaAbAbAbAbBaBaBaAbBaBaAbAbAbBaAbAcAaAaAaAaBaAbAbBaAbAbAbAbBaAbAbAbAbBaBaBaAbBaBaAbAbAbBaAbAcAaAaAaAaBaAbAbBaAbAbAbAbBaAbAbAbAbBaBaBaAbBaBaAbAbAbBaA?AcAaAaAaAaAaBaAbAbBaAbAbAbAbBaAbAbAbAbBaBaBaAbBaBaAbAbAbBaAbAcAaAaAaAaAaAaAaAaAaBaAbAbBaAbAbAbAbBaAbAbAbAbBaBaBaAbBaBaAbAbAbBaAbAcAaAaAaAaBaAbAbBaAbAbAbAbBaAbAbAbAbBaBaBaAbBaBaAbAbAbBaAbAcAaAaAaAaAaAaaaAaBaAbAbBaAbAbAbAbBaAbAbAbAbBaBaBaAbBaBaAbAbAbBaAbAcAbAaAaBaAbAbBaAbAbAbAbBaAbAbAbAbBaBaBaAbBaBaAbAbAbBaAbAcAaAaAaAaBaAbAbBaAbAbAbAbBaAbAbAbAbBaBaBaAbBaBaAbAbAbBaAbAcAaAaAaAaAaAaBaAbAbBaAbAbAbAbBaAbAbAbAbBaBaBaAbBaBaAbAbAbBaAbAcAaAaAaBaAbAbBaAbAbAbAbBaAbAbAbAbBaBaBaAbBaBaAbAbAbBaAbAcAaBaAbAbBaAbAbAbAbBaAbAbAbAbBaBaBaAbBaBaAbAbAbBaAbAcAbAaBaAbAbBaAbAbAbAbBaAbAbAbAbBaBaBaAbBaBaAbAbAbBaAbAcA??aAbAbBaAbAbAbAbBaAbAbAbAbBaBaBaA?BaBaAbAbAbBaAbAcAaAa?aAbAbBaAbAbAbAbBaAbAbAbAbBaBaBaAbBaBaAbAbAbBaAbAcAaAaAaAaAaAaAaAaAaBaAbAbBaAbAbAbAbBaAbAbAbAbBaBaBaAbBaBaAbAbAbBaAbAcAaAaAaAaAaAaAaBaAbAbBaAbAbAbAbBaA?AbAbAbBaBcAaAaAaAaAaAaAaAaAa?ac?aAbBaBaAbAbAbAbBaBaBaBaAbBaBaAbAbAbAbBaAcAaAaAbBaBaAcA?AaAaAaAaAaAaAaAa?ac?aAbBaAbBaBaAbAbAbAbBaBaBaBaAbBaBaAbAbAbAbBaAcAbBaBaAbBaAbBaBaAbAbAbAbBaBaBaBaAbBaBaAbAbAbAbBaAcAbBaBaAbBaAbBaBaAbAbAbAbBaBaBaBaAbBaBaAbAbAbAbBaAcAbBaBaAbBaAbBaBaAbAbAbAbBaBaBaBaAbBaBaAbAbAbAbBaAcAbBaBaAbBaAbBaBaAbAbAbAbBaBaBaBaAbBaBaAbAbAbAbBaAcAbBaBaAbBaAbBaBaAbAbAbAbBaBaBaBaAbBaBaAbAbAbAbBaAcAbBaBaAbBaAbBaBaAbAbAbAbBaBaBaBaAbBaBaAbAbAbAbBaAcAbBaBaAbBaAbBaBaAbAbAbAbBaBaBaBaAbBaBaAbAbAbAbBaAcAbBaBaAbBaAbBaBaAbAbAbAbBaBaBaBaAbBaBaAbAbAbAbBaAcAbBaBaAbBaAbBaBaAbAbAbAbBaBaBaBaAbBaBaAbAbAbAbBaAcAbBaBaAbBaAbBaBaAbAbA?AbBaBaBaBaAbBaBaAbAbAbAbBaAcAbBaBaAbBaAbBaBaAbAbAbAbBaBaBaBaAbBaBaAbAbAbAbBaAcAbBaBaAbBaAbBaBaAbAbAbAbBaBaBaBaAbBaBaAbAbAbAbBaAcAbBaBaAbBaAbBaBaAbAbAbAbBaBaBaBaAbBaBaAbAbAbAbBaAcAbBaBaAbBaAbBaBaAbA?AbAbBaBaBaBaAbBaBaAbAbAbAbBaAcAbBaBaAbBaAbBaBaAbAbAbAbBaBaBaBaAbBaBaAbAbAbAbBaAcAbBaBaAbBaAbBaBaAbAbAbAbBaBaBaBaAbBaBaAbAbAbAbBaAcAbBaBaAbBaAbBaBaAbAbAbAbBaBaBaBaAbBaBaAbAbAbAbBaAcAbBaBaAbBaAbBaBaAbAbAbAbBaBaBaBaAbBaBaAbAbAbAbBaAcAbBaBaAbBaAbBaBaAbAbAbAbBaBaBaBaAbBaBaAbAbAbAbBaAcAbBaBaAbBaAbBaBaAbAbAbAbBaBaBaBaAbBaBaAbAbAbAbBaAcAbBaBaAbBaAbBaBaAbAbAbAbBaBaBaBaAbBaBaAbAbAbAbBaAcAbBaBaAbBaAbBaBaAbAbAbAbBaBaBaBaAbBaBaAbAbAbAbBaAcAbBaBaAbBaAbBaBaAbAbAbAbBaBaBaBaAbBaBaAbAbAbAbBaAcAbBaBaAbBaAbBaBaAbAbAbAbBaBaBaBaAbBaBaAbAbAbAbBaAcAbBaBaAbBaAbBaBaAbAbAbAbBaBaBaBaAbBaBaAbAbAbAbBaAcAbBaBaAbBaA?BaBaAbAbAbAbBaBaBaBaAbBaBaAbAbAbAbBaAcAbBaBaAbBaAbBaBaAbAbAbAbBaBaBaBaAbBaBaAbAbAbAbBaAcAbBaBaAbBaAbBaBaAbAbAbAbBaBaBaBaAbBaBaAbAbAbAbBaAcAbBaBaAbBaAbBaBaAbAbAbAbBaBaBaBaAbBaBaAbAbAbAbBaAcAbBaBaAbBaAbBaBaAbAbAbAbBaBaBaBaAbBaBaAbAbAbAbBaAcAbBaBaAbBaAbBaBaAbAbAbAbBaBaBaBaAbBaBaAbAbAbAbBaAcAbBaBaAbBaAbBaBaAbAbAbA?BaBaBaBaAbBaBaAbAbAbAbBaAcAbBaBaAbBaAbBaBaAbAbAbAbBaBaBaBaAbBaBaAbAbAbAbBaAcAbBaBaAbBaAbBaBaAbAbAbAbBaBaBaBaAbBaBaAbAbAbAbBaAcAbBaBaAbBaAbBaBaAbAbAbAbBaBaBaBaAbBaBaAbAbAbAbBaAcAbBaBaAbBaAbBaBaAbAbAbAbBaBaBaBaAbBaBaAbAbAbAbBaAcAbBaBaAbBaAbBaBaAbAbAbAbBaBaBaBaAbBaBaAaAaAbAbAbAbBaAcAbBaBaAbBaAbBaBaAbAbAbAbBaBaBaBaAbBaBaAbAbAbAbBaAcAbBaBaAbBaAbBaBaAbAbAbAbBaBaBaBaAbBaBaAbAbAbAbBaAcAbBaBaAbBaAbBaBaAbAbAbAbBaBaBaBaAbBaBaAbAbAbAbBaAcAbBaBaAbBaAbBaBaAbAbAbAbBaBaBaBaAbBaBaAbAbAbAbBaAcAbBaBaAbBaAbBaBaAbAbAbAbBaBaBaBaAbBaBaAbAbAbAbBaAcAbBaBaAbBaAbBaBaAbAbAbAbBaBaBaBaAbBaBaAbAbAbAbBaAcAbBaBaAbBaAbBaBaAbAbAbAbBaBaBaBaAbBaBaAbAbAbAbBaAcAbBaBaAbBaAbBaBaAbAbAbAbBaBaBaBaAbBaBaAbAbAbAbBaAcAbBaBaAbBaAbBaBaAbAbAbAbBaBaBaBaAbBaBaAbAbAbAbBaAcAbBaBaAbBaAbBaBaAbAbAbAbBaBaBaBaAbBaBaAbAbAbAbBaAcAbBaBaAbBaAbBaBaAbAbAbAbBaBaBaBaAbBaBaAbAbAbAbBaAcAbBaBaAbBaAbBaBaAbAbAbAbBaBaBaBaAbBaBaAbAbAbAbBaAcAbBaBaAbBaAbBaBaAbAbAbAbBaBaBaBaAbBaBaAbAbAbAbBaAcAbBaBaAbBaAbBaBaAbAbAbAbBaBaBaBaAbBaBaAbAbAbAbBaAcAbBaBaAbBaAbBaBaAbAbAbAbBaBaBaBaAbBaBaAbAbAbAbBaAcAbBaBaAbBaAbBaBaAbAbAbAbBaBaBaBaAbBaBaAbAbAbAbBaAcAbBaBaAbBaAbBaBaAbAbAbA?AaAaAaAaAaAaAaAaAaAa??bBaAbBaBaAbAbAbAbBaBaBaBaAbBaBaAbAbBaAbAbAcAbBaBaAbBaAbBaBaAbAbAbAbBaBaBaBaAbBaBaAbAbBaAbAbAcAbBaBaAbBaAbBaBaAbAbAbAbBaBaBaBaAbBaBaAbAbBaAbAbAcAbBaBaAbBaAbBaBaAbAbAbAbBaBaBaBaAbBaBaAbAbBaAbAbAcAbBaBaAbBaAbBaBaAbAbAbAbBaBaBaBaAbBaBaAbAbBaAbAbAcAbBaBaAbBaAbBaBaAbAbAbAbBaBaBaBaAbBaBaAbAbBaAbAbAcAbBaBaAbBaAbBaBaAbAbAbAbBaBaBaBaAbBaBaAbAbBaAbAbAcAbBaBaAbBaAbBaBaAbAbAbAbBaBaBaBaAbBaBaAbAbBaAbAbAcAbBaBaAbBaAbBaBaAbAbAbAbBaBaBaBaAbBaBaAbAbBaAbAbAcAbBaBaAbBaAbBaBaAbAbAbAbBaBaBaBaAbBaBaAbAbBaAbAbAcAaAbBaBaAbBaAbBaBaAbAbAbAbBaBaBaBaAbBaBaAbAbBaAbAbAcAbBaBaAbBaAbBaBaAbAbAbAbBaBaBaBaAbBaBaAbAbBaAbAbAcAbBaBaAbBaAbBaBaAbAbAbAbBaBaBaBaAbBaBaAbAbBaAbAbAcAbBaBaAbBaAbBaBaAbAbAbAbBaBaBaBaAbBaBaAbAbBaAbAbAcAbBaBaAbBaAbBaBaAbAbAbAbBaBaBaBaAbBaBaAbAbBaAbAbAcAbBaBaAbBaAbBaBaAbAbAbAbBaBaBaBaAbBaBaAbAbBaAbAbAcAbBaBaAbBaAbBaBaAbAbAbAbBaBaBaBaAbBaBaAbAbBaAbAbAcAbBaBaAbBaAbBaBaAbAbAbAbBaBaBaBaAbBaBaAbAbBaAbAbAcAbBaBaAbBaAbBaBaAbAbAbAbBaBaBaBaAbBaBaAbAbBaAbAbAcAbBaBaAbBaAbBaBaAbAbAbAbBaBaBaBaAbBaBaAbAbBaAbAbAcAbBaBaAbBaAbBaBaAbAbAbAbBaBaBaBaAbBaBaAbAbBaAbAbAcAbBaBaAbBaAbBaBaAbAbAbAbBaBaBaBaAbBaBaAbAbBaAbAbAcAbBaBaAbBaAbBaBaAbAbAbAbBaBaBaBaAbBaBaAbAbBaAbAbAcAbBaBaAbBaAbBaBaAbAbAbAbBaBaBaBaAbBaBaAbAbBaAbAbAcAbBaBaAbBaAbBaBaAbAbAbAbBaBaBaBaAbBaBaAbAbBaAbAbAcAbBaBaAbBaAbBaBaAbAbAbAbBaBaBaBaAbBaBaAbAbBaAbAbAcAbBaBaAbBaAbBaBaAbAbAbAbBaBaBaBaAbBaBaAbAbBaAbAbAcAbBaBaAbBaAbBaBaAbAbAbAbBaBaBaBaAbBaBaAbAbBaAbAbAcAbBaBaAbBaAbBaBaAbAbAbAbBaBaBaBaAbBaBaAbAbBaAbAbAcAbBaBaA?BaAbBaBaAbAbAbAbBaBaBaBaAbBaBaAbAbBaAbAbAcAbBaBaAbBaAbBaBaA?AbAbAbBaBaBaBaAbBaBaAbAbBaAbAbAcAbBaBaAbBaAbBaBaAbAbAbAbBaBaBaBaAbBaBaAbAbBaAbAbAcAbBaBaAbBaAbBaBaAbAbAbAbBaBaBaBaAbBaBaAbAbBaAbAbAcAbBaBaAbBaAbBaBaAbAbAbAbBaBaBaBaAbBaBaAbAbBaAbAbAcAbBaBaAbBaAbBaBaAbAbAbAbBaBaBaBaAbBaBaAbAbBaAbAbAcAbBaBaAbBaAbBaBaAbAbAbAbBaBaBaBaAbBaBaAbAbBaAbAbAcAbBaBaAbBaAbBaBaAbAbAbAbBaBaBaBaAbBaBaAbAbBaAbAbAcAbBaBaAbBaAbBaBaAbAbAbAbBaBaBaBaAbBaBaAbAbBaAbAbAcAbBaBaAbBaAbBaBaAbAbAbAbBaBaBaBaAbBaBaAbAbBaAbAbAcAbBaBaAbBaAbBaBaAbAbAbAbBaBaBaBaAbBaBaAbAbBaAbAbAcAbBaBaAbBaAbBaBaAbAbAbAbBaBaBaBaAbBaBaAbAbBaAbAbAcAbBaBaAbBaAbBaBaAbAbAbAbBaBaBa?aAa?aAaAaBaBaAbAbBaAbAbAcAbBaBaAbBaAbBaBaAbAbAbAbBaBaBaBaAbBaBaAbAbBaAbAbAcAbBaBaAbBaAbBaBaAbAbAbAbBaBaBaBaAbBaBaAbAbBaAbAbAcAbBaBaAbBaAbBaBaAbAbAbAbBaBaBaBaAbBaBaAbAbBaAbAbAcAbBaBaAbBaAbBaBaAbAbAbAbBaBaBaBaAbBaBaAbAbBaAbAbAcAbBaBaAbBaAbBaBaAbAbAbAbBaBaBaBaAbBaBaAbAbBaAbAbAcAbBaBaAbBaAbBaBaAbAbAbAbBaBaBaBaAbBaBaAbAbBaAbAbAcAbBaBaAbBaAbBaBaAbAbAbAbBaBaBaBaAbBaBaAbAbBaAbAbAcAbBaBaAbBaAbBaBaAbAbAbAbBaBaBaBaAbBaBaAbAbBaAbAbAcAbBaBaAbBaAbBaBaAbAbAbAbBaBaBaBaAbBaBaAbAbBaAbAbAcAbBaBaAbBaAbBaBaAbAbAbAbBaBaBaBaAbBaBaAbAbBaAbAbAcAbBaBaAbBaAbBaBaAbAbAbAbBaBaBaBaAbBaBaAbAbBaAbAbAcAbBaBaAbBaAbBaBaAbAbAbAbBaBaBaBaAbBaBaAbAbBaAbAbAcAbBaBaAbBaAbBaBaAbAbAbAbBaBaBaBaAbBaBaAbAbBaAbAbAcAbBaBaAbBaAbBaBaAbAbAbAbBaBaBaBaAbBaBaAbAbBaAbAbAcAbBaBaAbBaAbBaBaAbAbAbAbBaBaBaBaAbBaBaAbAbBaAbAbAcAbBaBaAbBaAbBaBaAbAbAbAbBaBaBaBaAbBaBaAbAbBaAbAbAcAbBaBaAbBaAbBaBaAbAbAbAbBaBaBaBaAbBaBaAbAbBaAbAbAcAbBaBaAbBaAbBaBaAbAbAbAbBaBaBaBaAbBaBaAbAbBaAbAbAcAbBaBaAbBaAbBaBaAbAbAbAbBaBaBaBaAbBaBaAbAbBaAbAbAcAbBaBaAbBaAbBaBaAbAbAbAbBaBaBaBaAbBaBaAbAbBaAbAbAcAbBaBaAbBaAbBaBaAbAbAbAbBaBaBaBaAbBaBaAbAbBaAbAbAcAbBaBaAbBaAbBaBaAbAcAaAaAaAaAaAaAa?a?b?b?b?b?b?b?b?b?b?b?b?b?b?b?b?aAbAa?aAbAa?b?aAb?b?bAa?aAbAa?b?aAbAa?aAb?b?b?b?aBaBaBaBaBaBaBaAbAbBaAbBaBaAbBaBaAbAbAbAbBaAcBaBaBaBaBaBaBaBaBaBaAbAbBaAbBaBaAbBaBaAbAbAbAbBaA?AaAaAaAaAaAaAaBaBaBaBaBaBaBaBaBaBaAbAbBaAbBaBaAbBaBaAbAbAbAbBaA?AaBaBaBaBaBaBaBaBaBaBaAbAbBaAbBaBaAbBaBaAbAbAbAbBaAcAaAaBaBaBaBaBaBaBaBaBaBaAbAbBaAbBaBaAbBaBaAbAbAbAbBaAcBaBaBaBaBaBaBaBaBaBaAbAbBaAbBaBaAbBaBaAbAbAbAbBaA?AaAaAaAaAaAaBaBaBaBaBaBaBaBaBaBaAbAbBaAbBaBaAbBaBaAbAbAbAbBaAcAbAaAaAaAaAaAaAaBaBaBaBaBaBaBaBaBaBaAbAbBaAbBaBaAbBaBaAbAbAbAbBaA?AaAaAaAaBaBaBaBaBaBaBaBaBaBaAbAbBaAbBaBaAbBaBaAbAbAbAbBaAcAbAaAaAaAaAaAaAaBaBaBaBaBaBaBaBaBaBaAbAbBaAbBaBaAbBaBaAbAbAbAbBaAcAaAaAaAaAaBaBaBaBaBaBaBaBaBaBaAbAbBaAbBaBaAbBaBaAbAbAbAbBaAcAaAaAaAaAaBaBaBaBaBaBaBaBaBaBaAbAbBaAbBaBaAbBaBaAbAbAbAbBaAcAaAaAaAaAaAaBaBaBaBaBaBaBaBaBaBaAbAbBaAbBaBaAbBaBaAbAbAbAbBaAcAaAaAaAaAaAaAaBaBaBaBaBaBaBaBaBaBaAbAbBaAbBaBaAbBaBaAbAbAbAbBaAcAaBaBaBaBaBaBaBaBaBaBaAbAbBaAbBaBaAbBaBaAbAbAbAbBaA??aBaBaBaBaBaBaBaBaBaAbAbBaAbBaBaAbBaBaAbAbAbAbBaAcAbAaAaBaBaBaBaBaBaBaBaBaBaAbAbBaAbBaBaAbBaBaAbAbAbAbBaAcAaAaBaBaBaBaBaBaBaBaBaBaAbAbBaAbBaBaAbBaBaAbAbAbAbBaAcAaAaAaAaAaBaBaBaBaBaBaBaBaBaBaAbAbBaAbBaBaAbBaBaAbAbAbAbBaAcAaAaBaBaBaBaBaBaBaBaBaBaAbAbBaAbBaBaAbBaBaAbAbAbAbBaAcBaBaBaBaBaBaBaBaBaBaAbAbBaAbBaBaAbBaBaAbAbAbAbBaAcAaAaBaBaBaBaBaBaBaBaBaBaAbAbBaAbBaBaAbBaBaAbAbAbAbBaAcAaa?BaBaBaBaBaBaBaBaBaAbAbBaAbBaBaAbBaBaAbAbAbAbBaAcAaAbBaBaBaBaBaBaBaBaBaBaAbAbBaAbBaBaAbBaBaAbAbAbAbBa?b?b?b?b?b?b?a?a?aBaBaBa?a?aAbAaBaAb?a?a?a?bAa?aAaAaAaBaBaAbAa?aAb?b?b?bBaBaBaBaBa?aBaBa?aBaBaAa?a?aAaBaBaBaBaBaBaAa?aAaBbAaBaAa?aAbAa?aAb?b?b?aBaBa?aBaBaBa?aBaBaAb?aBaAaAaBaBaAa?aBaBaAa?aAaAaBaAa?a?b?b?aAb?b?bAa?aAa?aBaBaBaBaBaBaBaAbAbBaAbBaBaAbBaBaAbAbAbAbBaAcBaBaBaBaBaBaBaBaBaBaAb?bBaAa?a?bBaBaAa?aAaBb?bBa?b?b?b?b?aAbAa?aBa?a?a?a?a?aBa?aBaBaAa?a?aAa?a?a?bBaAaAa?a?b?b?b?bAa?b?b?aBaBaBaBaBaBaBa?aBaAa?aBa?a?a?b?aBaAa?aAaAa?b?a?b?b?bAa?aAb?b?aBaBaBa?aBaBaBaBaBaBaAaBb?a?a?a?b?aAaBa?b?bBaBbAa?b?aAbAcBaBaBaBaBaBaBaBaBaBaAbAbBaAbBaBaAbBaBaAbAbAbAbBaAcAaBaBaBaBaBaBaBaBaBaBaAbAbBaAbBaBaAbBaBaAbAbAbAbBaA?AaBaBaBaBaBaBaBaBaBaBaAbAbBaAbBaBaAbBaBaAbAbAbAbBaAcAaAAAaBaBaBaBaBaBaBaBaBaBaAbAbBaAbBaBaAbBaBaAbAbAbAbBaAcBaBaBaBaBaBaBaBaBaBaAbAbBaAbBaBaAbBaBaAbAbAbAbBaAcBaBaBaBaBaBaBaBaBaBaAbAbBaAbBaBaAbBaBaAbAbAbAbBaAcAaBaBaBaBaBaBaBaBaBaBaAbAbBaAbBaBaAbBaBaAbAbAbAbBaAcBaBaBaBaBaBaBaBaBaBaAbAbBaAbBaBaAbBaBaAbAbAbAbBaAcAaBaBaBaBaBaBaBaBaBaBaAbAbBaAbBaBaAbBaBaAbAbAbAbBaAcAaAaBaBaBaBaBaBaBaBaBaBaAbAbBaAbBaBaAbBaBaAbAbAbAbBaAcBaBaBaBaBaBaBaBaBaBaAbAbBaAbBaBaAbBaBaAbAbAbAbBaAcBaBaBaBaBaBaBaBaBaBaAbAbBaAbBaBaAbBaBaAbAbAbAbBaAcBaBaBaBaBaBaBaBaBaBaAbAbBaAbBaBaAbBaBaAbAbAbAbBaAcAAAaAaBaBaBaBaBaBaBaBaBaBaAbAbBaAbBaBaAbBaBaAbAbAbAbBaAcAaAaAaBaBaBaBaBaBaBaBaBaBaAbAbBaAbBaBaAbBaBaAbAbAbAbBaAcAbAaAa?aBaBaBaBaBaBaBaBaBaAbAbBaAbBaBaAbBaBaAbAbAbAbBaAcAbAaAaAaAaAb?aBaBaBaBaBaBaBaBaBaAbAbBaAbBaBaAbBaBaAbAbAbAbBaAcAb?aBaBaBaBaBaBaBaBaBaAbAbBaAbBaBaAbBaBaAbAbAbAbBaAcAbAaAbAaAaAaBaBaBaBaBaBaBaBaBaBaAbAbBaAbBaBaAbBaBaAbAbAbAbBaAcAaAaAaAaAaAbAaAaAaBaBaBaBaBaBaBaBaBaBaAbAbBaAbBaBaAbBaBaAbAbAbAbBaA?AbAAAbAbBaBaBaBaBaBaBaBaBaBaAbAbBaAbBaBaAbBaBaAbAbAbAbBaAcBaBaBaBaBaBaBaBaBaBaAbAbBaAbBaBaAbBaBaAbAbAbAbBaAcAaBaBaBaBaBaBaBaBaBaBaAbAbBaAbBaBaAbBaBaAbAbAbAbBaAcAaAaBaBaBaBaBaBaBaBaBaBaAbAbBaAbBaBaAbBaBaAbAbAbAbBaA?AaAaBaBaBaBaBaBaBaBaBaBaAbAbBaAbBaBaAbBaBaAbAbAbAbBaAcAbBaBaBaBaBaBaBaBaBaBaAbAbBaAbBaBaAbBaBaAbAbAbAbBaAcBaBaBaBaBaBaBaBaBaBaAbAbBaAbBaBaAbBaBaAbAbAbAbBaAcBaBaBaBaBaBaBaBaBaBaAbAbBaAbBaBaAbBaBaAbAbAbAbBaAcAaBaBaBaBaBaBaBaBaBaBaAbAbBaAbBaBaAbBaBaAbAbAbAbBaAcAaBaBaBaBaBaBaBaBaBaBaAbAbBaAbBaBaAbBaBaAbAbAbAbBaAcBaBaBaBaBaBaBaBaBaBaAbAbBaAbBaBaAbBaBaAbAbAbAbBaAcBaBaBaBaBaBaBaBaBaBaAbAbBaAbBaBaAbBaBaAbAbAbAbBaAcAaBaBaBaBaBaBaBaBaBaBaAbAbBaAbBaBaAbBaBaAbAbAbAbBaAcAbBaBaBaBaBaBaBaBaBaBaAbAbBaAbBaBaAbBaBaAbAbAbAbBaAcAaAaBaBaBaBaBaBaBaBaBaBaAbAbBaAbBaBaAbBaBcAbAaAaAaAaAaAaAaAaaaAaAaAaAaAa?a???aBaBaBaBaBaBaBaAbAbBaAbBaBaAbBaBaAbAbAbBaAbA?AaAaAaAaAaAaAaAaAaaaAa?aBaBaBaBaBaBaBaBaBaAbAbBaAbBaBaAbBaBaAbAbAbBaAbAcAaAaAaAaAaAaAaAa?aBaBaBaBaBaBaBaBaBaAbAbBaAbBaBaAbBaBaAbAbAbBaAbAcAaAaAaAaAaAaAaAaAa?aBaBaBaBaBaBaBaBaBaAbAbBaAbBaBaAbBaBaAbAbAbBaAbAcAaAAAaAaAaAaAaAaAa?aBaBaBaBaBaBaBaBaBaAbAbBaAbBaBaAbBaBaAbAbAbBaAbAcAaAaAaAaAaAaAaaaaaAa?aBaBaBaBaBaBaBaBaBaAbAbBaAbBaBaAbBaBaAbAbAbBaAbAcAaAaAaAaAaAaAaaaAa?aBaBaBaBaBaBaBaBaBaAbAbBaAbBaBaAbBaBaAbAbAbBaAbAcAaAaAaAaAaAaAaAaAa?aBaBaBaBaBaBaBaBaBaAbAbBaAbBaBaAbBaBaAbAbAbBaAbAcAaAbAaAaAaAaAaAaAaAa?aBaBaBaBaBaBaBaBaBaAbAbBaAbBaBaAbBaBaAbAbAbBaAbAcAaAaAaAaAaAaAaAaAaAaAaAa?aBaBaBaBaBaBaBaBaBaAbAbBaAbBaBaAbBaBaAbAbAbBaAbAcAaAaAaAaAaaaAaAa?aBaBaBaBaBaBaBaBaBaAbAbBaAbBaBaAbBaBaAbAbAbBaAbAcAaAaAaaaAaAaAaAaAaAaAa?aBaBaBaBaBaBaBaBaBaAbAbBaAbBaBaAbBaBaAbAbAbBaAbAcAaAaAaAaAaAa?aBaBaBaBaBaBaBaBaBaAbAbBaAbBaBaAbBaBaAbAbAbBaAbAcAaAaAaAaAaAaAaAa?aBaBaBaBaBaBaBaBaBaAbAbBaAbBaBaAbBaBaAbAbAbBaAbAcAaAaAaAaAaAaAa?a?aBaBaBaBaBaBaBaBaBaAbAbBaAbBaBaAbBaBaAbAbAbBaAbAcAaAaAaAaAaAaAa?aBaBaBaBaBaBaBaBaBaAbAbBaAbBaBaAbBaBaAbAbAbBaAbAcAaAaAaAaAaAaAa?aBaBaBaBaBaBaBaBaBaAbAbBaAbBaBaAbBaBaAbAbAbBaAbAcAaAaAaAaAaAaAaAa?aBaBaBaBaBaBaBaBaBaAbAbBaAbBaBaAbBaBaAbAbAbBaAbAcAaaaAaAaAaAaAaAaAaAaBaBaBaBaBaBaBaBaBaBaAbAbBaAbBaBaAbBaBaAbAbAbBaAbAcAbAaAaAaAaAaAaAaAaaa?aBaBaBaBaBaBaBaBaBaAbAbBaAbBaBaAbBaBaAbAbAbBaAbAcAbAaAaAaAaAaAaAaAa?aBaBaBaBaBaBaBaBaBaAbAbBaAbBaBaAbBaBaAbAbAbBaAbAcAaAaAaAaAaAaAaAaAaAa?aBaBaBaBaBaBaBaBaBaAbAbBaAbBaBaAbBaBaAbAbAbBaAbAcAaAaAaAaAaAaAaAaAaAaAaAa?aBaBaBaBaBaBaBaBaBaAbAbBaAbBaBaAbBaBaAbAbAbBaAbAcAaAaAaAaAaAaAaAaAa?aBaBaBaBaBaBaBaBaBaAbAbBaAbBaBaAbBaBaAbAbAbBaAbAcAaAaAaAaAaAaAaAaAaAaAaAaAa?aBaBaBaBaBaBaBaBaBaAbAbBaAbBaBaAbBaBaAbAbAbBaAbAcAbAaAaAaAaAaAaAaAaAaBaBaBaBaBaBaBaBaBaBaAbAbBaAbBaBaAbBaBaAbAbAbBaAbAcAaAAAaAaAaAaAaAaAA?aBaBaBaBaBaBaBaBaBaAbAbBaAbBaBaAbBaBaAbAbAbBaAbAcAaAaAaAaAaAaAaAaAa?aBaBaBaBaBaBaBaBaBaAbAbBaAbBaBaAbBaBaAbAbAbBaAbAcAaAaAaAaAaAaAaAaaa?aBaBaBaBaBaBaBaBaBaAbAbBaAbBaBaAbBaBaAbAbAbBaAbAcAaAaAaAaAaAaAa?aBaBaBaBaBaBaBaBaBaAbAbBaAbBaBaAbBaBaAbAbAbBaAbA?AbAaAaAaAaAaAaAaAaAaAaBaBaBaBaBaBaBaBaBaBaAbAbBaAbBaBaAbBaBaAbAbAbBaAbAcAaAaAaAaAaa?BaBaBaBaBaBaBaBaBaAbAbBaAbBaBaAbBaBaAbAbAbBaAbAcAbAAAaAaAaAaAaAaAaAaBaBaBaBaBaBaBaBaBaBaAbAbBaAbBaBaAbBaBaAbAbAbBaAbAcAaAaAaAaAaAaAaAaAaAaAa?aBaBaBaBaBaBaBaBaBaAbAbBaAbBaBaAbBaBaAbAbAbBaAbAcAaAaAaAaAaAaAA?aBaBaBaBaBaBaBaBaBaAbAbBaAbBaBaAbBaBaAbAbAbBaAbAcAaAaAaAaAaAaAa?aBaBaBaBaBaBaBaBaBaAbAbBaAbBaBaAbBaBaAbAbAbBaAbAcAaAaAaAaAa?aBaBaBaBaBaBaBaBaBaBaAbAbBaAbBaBaAbBaBaAbAbAbBaAbAcAaAaAaAaAaAaAaAaAaAa?aBaBaBaBaBaBaBaBaBaAbAbBaAbBaBaAbBaBaAbAbAbBaAbAcAbAaAaAaAaAaAaAa?aBaBaBaBaBaBaBaBaBaAbAbBaAbBaBaAbBaBaAbAbAbBaAbAcAaAaAaAaAaAaAaAaAaAaaa?aBaBaBaBaBaBaBaBaBaAbAbBaAbBaBaAbBaBaAbAbAbBaAbAcAaAaAaAaAaAaAaAaAa?aBaBaBaBaBaBaBaBaBaAbAbBaAbBaBaAbBaBaAbAbAbBaAbAcAaAaAaAaAAAaAa?aBaBaBaBaBaBaBaBaBaAbAbBaAbBaBaAbBaBaAbAbAbBaAbAcAaAaAaAaAaAa?aBaBaBaBaBaBaBaBaBaAbAbBaAbBaBaAbBaBaAbAbAbBaAbAcAaAaAaAaAaAaAaAaAaAa?aBaBaBaBaBaBaBaBaBaAbAbBaAbBaBaAbBaBaAbAbAbBaAbAcAaAaAaAaAaaaAaAaAaBaBaBaBaBaBaBaBaBaBaAbAbBaAbBaBaAbBaBaAbAbAbBaAbAcAaAaAaAaAaAaAaAaAaAaAaAaAaAaAa?aBaBaBaBaBaBaBaBaBaAbAbBaAbBaBaAbBaBaAbAbAbBaAbAcAaAaAaAaAaAaAaAa?aBaBaBaBaBaBaBaBaBaAbAbBaAbBaBaAbBaBaAbAbAbBaAbAc?a?aBaBaBaBaBaBaBaBaBaBaAbAbBaAbBaBaAbBaBaAbAbAbBaAbAcAaAaAaAaAaAaAaAaAaBaBaBaBaBaBaBaBaBaBaAbAbBaAbBaBaAbBaBaAbAbAbBaAbAcAaAAAAAaAaAaAaAaAaa?BaBaBaBaBaBaBaBaBaAbAbBaAbBaBaAbBaBaAbAbAbBaAbAcAaAaAaAaAaAaAaAaAaAaAaBaBaBaBaBaBaBaBaBaBaAbAbBaAbBaBaAbBaBaAbAbAbBaAbAcAaAaAaAaAaAaAaAaAa?aBaBaBaBaBaBaBaBaBaAbAbBaAbBaBaAbBaBaAbAbAbBaAbAcAaAaAaAaAaAaAaAaAaAaAaBaBaBaBaBaBaBaBaBaBaAbAbBaAbBaBaAbBaBaAbAbAbBaAbAcAbAaAaAAAaAaAaAaAaAa?aBaBaBaBaBaBaBaBaBaAbAbBaAbBaBaAbBaBaAbAbAbBaAbAcAaAaAaAaaaAa?aBaBaBaBaBaBaBaBaBaAbAbBaAbBaBaAbBaBaAbAbAbBaAbAcAaAaAaAaAaAaAa?aBaBaBaBaBaBaBaBaBaAbAbBaAbBaBaAbBaBaAbAbAbBaAbAcAaAaAaAaAaAaAa?aBaBaBaBaBaBaBaBaBaAbAbBaAbBaBaAbBaBaAbAbAbBaAbAcAaAaAaAaAaAa?aBaBaBaBaBaBaBaBaBaAbAbBaAbBaBaAbBaBaAbAbAbBaAbAcAaAaAaAaAaAaAa?aBaBaBaBaBaBaBaBaBaAbAbBaAbBaBaAbBaBaAbAbAbBaAbAcAaAaAaAaAaAaBaBaBaBaBaBaBaBaBaBaAbAbBaAbBaBaAbBaBaAbAbAbBaAbAcAbAaAaAaAaAaAaAaAaAaAaBaBaBaBaBaBaBaBaBaBaAbAbBaAbBaBaAbBaBaAbAbAbBaAbAcAaAaAaAaAaAaAaBaBaBaBaBaBaBaBaBaBaAbAbBaAbBaBaAbBaBaAbAbAbBaAbA?AaAaAaAaaaAaAaBaBaBaBaBaBaBaBaBaBaAbAbBaAbBaBaAbBaBaAbAbAbBaAbAcAaAaAaAaAaBaBaBaBaBaBaBaBaBaBaAbAbBaAbBaBaAbBaBaAbAbAbBaAbAcAaAaAaAAAaAaBaBaBaBaBaBaBaBaBaBaAbAbBaAbBaBaAbBaBaAbAbAbBaAbAcAaAaAaAaAaAaAaAaAa?aBaBaBaBaBaBaBaBaBaAbAbBaAbBaBaAbBaBaAbAbAbBaAbAcAaAaAaAaAaAaAaAaAaAaAaAaAaBaBaBaBaBaBaBaBaBaBaAbAbBaAbBaBaAbBaBaAbAbAbBaAbAcAaAaAaAaAaAaAaAa?aBaBaBaBaBaBaBaBaBaAbAbBaAbBaBaAbBaBaAbAbAbBaAbAcAaAaAaAaAaaaBaBaBaBaBaBaBaBaBaBaAbAbBaAbBaBaAbBaBaAbAbAbBaAbA?AaAaAaAaAAAaAaAaBaBaBaBaBaBaBaBaBaBaAbAbBaAbBaBaAbBaBaAbAbAbBaAbAcAaAaAaAaAaAaAaAaa?BaBaBaBaBaBaBaBaBaAcAaAaAaAaAaAaAaAaAaAac?aBaBaBaBaBaBaBaAbAbBaAbBaBaAbBaBaAbAbBaAbAbAcAaAaAaAaAaAaAaAaa?BaBaBaBaBaBaBaBaBaAbAbBaAbBaBaAbBaBaAbAbBaAbAbAcAaAaAaAaAaAaAaAaAaBaBaBaBaBaBaBaBaBaBaAbAbBaAbBaBaAbBaBaAbAbBaAbAbAcAaAaAaAaAaAaAaAaAaAaAaBaBaBaBaBaBaBaBaBaBaAbAbBaAbBaBaAbBaBaAbAbBaAbAbAcAaAaAaAaAaAaAaAa?aBaBaBaBaBaBaBaBaBaAbAbBaAbBaBaAbBaBaAbAbBaAbAbAcAaAaAaAaAaAaAaAaAaBaBaBaBaBaBaBaBaBaBaAbAbBaAbBaBaAbBaBaAbAbBaAbAbAcAaAaAaAaBaBaBaBaBaBaBaBaBaBaAbAbBaAbBaBaAbBaBaAbAbBaAbAbAcAaAaAaAaAaAaAaAaAaAaBaBaBaBaBaBaBaBaBaBaAbAbBaAbBaBaAbBaBaAbAbBaAbAbAcAAAaAaAaAaBaBaBaBaBaBaBaBaBaBaAbAbBaAbBaBaAbBaBaAbAbBaAbAbAcAaAaAaAaAaAaAaAaAaBaBaBaBaBaBaBaBaBaBaAbAbBaAbBaBaAbBaBaAbAbBaAbAbAcAAAaAaAaAaBaBaBaBaBaBaBaBaBaBaAbAbBaAbBaBaAbBaBaAbAbBaAbAbA?AaAaAaBaBaBaBaBaBaBaBaBaBaAbAbBaAbBaBaAbBaBaAbAbBaAbAbAcAbaaAa?aBaBaBaBaBaBaBaBaBaAbAbBaAbBaBaAbBaBaAbAbBaAbAbA?AaAaAaAaAaAaAaAaAaAaBaBaBaBaBaBaBaBaBaBaAbAbBaAbBaBaAbBaBaAbAbBaAbAbAcAbAaAaAaBaBaBaBaBaBaBaBaBaBaAbAbBaAbBaBaAbBaBaAbAbBaAbAbAcAaAaAaAaBaBaBaBaBaBaBaBaBaBaAbAbBaAbBaBaAbBaBaAbAbBaAbAbA?AaAaAaAaAaAaAaAaBaBaBaBaBaBaBaBaBaBaAbAbBaAbBaBaAbBaBaAbAbBaAbAbAcAaAaAa?aBaBaBaBaBaBaBaBaBaAbAbBaAbBaBaAbBaBaAbAbBaAbAbAcAaAAAaAaAaAaAaAaAa?aBaBaBaBaBaBaBaBaBaAbAbBaAbBaBaAbBaBaAbAbBaAbAbAcAaAaAaAaAaAaAaBaBaBaBaBaBaBaBaBaBaAbAbBaAbBaBaAbBaBaAbAbBaAbAbAcAaAaAaAaAaAaAaAaAaaaAaAa?aBaBaBaBaBaBaBaBaBaAbAbBaAbBaBaAbBaBaAbAbBaAbAbAcAaAaAaAaAaAaAaAaAaBaBaBaBaBaBaBaBaBaBaAbAbBaAbBaBaAbBaBaAbAbBaAbAbAcAaAaAaAaAaAaAaBaBaBaBaBaBaBaBaBaBaAbAbBaAbBaBaAbBaBaAbAbBaAbAbAcAbAaAaAaAaAaAa?aBaBaBaBaBaBaBaBaBaAbAbBaAbBaBaAbBaBaAbAbBaAbAbAcAaAaAaAaAaAa?aBaBaBaBaBaBaBaBaBaAbAbBaAbBaBaAbBaBaAbAbBaAbAbAcAaAaAaAaAaAaAaAaBaBaBaBaBaBaBaBaBaBaAbAbBaAbBaBaAbBaBaAbAbBaAbAbAcAaAaAaAaAaAaAaAaAa?aBaBaBaBaBaBaBaBaBaAbAbBaAbBaBaAbBaBaAbAbBaAbAbAcAaAaAaAaAaAaAaAaa?BaBaBaBaBaBaBaBaBaAbAbBaAbBaBaAbBaBaAbAbBaAbAbAcAbAaAaAaAaAaAaAaAaAa?aBaBaBaBaBaBaBaBaBaAbAbBaAbBaBaAbBaBaAbAbBaAbAbAcAaAaAaAaAaAaAaBaBaBaBaBaBaBaBaBaBaAbAbBaAbBaBaAbBaBaAbAbBaAbAbAcAaaaAaAaAaAaAaAa?aBaBaBaBaBaBaBaBaBaAbAbBaAbBaBaAbBaBaAbAbBaAbAbAcAaAaAaAaAaAaAaAa?aBaBaBaBaBaBaBaBaBaAbAbBaAbBaBaAbBaBaAbAbBaAbAbAcAbAaAaAaAa?aBaBaBaBaBaBaBaBaBaAbAbBaAbBaBaAbBaBaAbAbBaAbAbA?AaAaAaAaAaAaAaAa?aBaBaBaBaBaBaBaBaBaAbAbBaAbBaBaAbBaBaAbAbBaAbAbAcAaAaAaAaAaAaAaAaBaBaBaBaBaBaBaBaBaBaAbAbBaAbBaBaAbBaBaAbAbBaAbAbAcAaAaAaAaAaAaAaAaBaBaBaBaBaBaBaBaBaBaAbAbBaAbBaBaAbBaBaAbAbBaAbAbAcAaAaAaAaAaAaAa?aBaBaBaBaBaBaBaBaBaAbAbBaAbBaBaAbBaBaAbAbBaAbAbAcA??aAaBaBaBaBaBaBaBaBaBaBaAbAbBaAbBaBaAbBaBaAbAbBaAbAbAcAaAaAaAaBaBaBaBaBaBaBaBaBaBaAbAbBaAbBaBaAbBaBaAbAbBaAbAbAcAaAaAaBaBaBaBaBaBaBaBaBaBaAbAbBaAbBaBaAbBaBaAbAbBaAbAbA?AbAaBaBaBaBaBaBaBaBaBaBaAbAbBaAbBaBaAbBaBaAbAbBaAbAbAcAaAaBaBaBaBaBaBaBaBaBaBaAbAbBaAbBaBaAbBaBaAbAbBaAbAbAcAaBaBaBaBaBaBaBaBaBaBaAbAbBaAbBaBaAbBaBaAbAbBaAbAbAcAaBaBaBaBaBaBaBaBaBaBaAbAbBaAbBaBaAbBaBaAbAbBaAbAbA?AaAaAaBaBaBaBaBaBaBaBaBaBaAbAbBaAbBaBaAbBaBaAbAbBaAbAbAcAaAaAaAaBaBaBaBaBaBaBaBaBaBaAbAbBaAbBaBaAbBaBaAbAbBaAbAbAcAaAaAaAaAaBaBaBaBaBaBaBaBaBaBaAbAbBaAbBaBaAbBaBaAbAbBaAbAbA?AaAaAaAaAaBaBaBaBaBaBaBaBaBaBaAbAbBaAbBaBaAbBaBaAbAbBaAbAbAcAaaaAaAaa?BaBaBaBaBaBaBaBaBaAbAbBaAbBaBaAbBaBaAbAbBaAbAbAcAaAaAaAaBaBaBaBaBaBaBaBaBaBaAbAbBaAbBaBaAbBaBaAbAbBaAbAbAcAaBaBaBaBaBaBaBaBaBaBaAbAbBaAbBaBaAbBaBaAbAbBaAbAbA?AaBaBaBaBaBaBaBaBaBaBaAbAbBaAbBaBaAbBaBaAbAbBaAbAbAcAaAaAaAaAaAaAaBaBaBaBaBaBaBaBaBaBaAbAbBaAbBaBaAbBaBaAbAbBaAbAbAcAaAaAaAaAaAaAaAaBaBaBaBaBaBaBaBaBaBaAbAbBaAbBaBaAbBaBaAbAbBaAbAbAcAaA?AaAaAaBaBaBaBaBaBaBaBaBaBaAbAbBaAbBaBaAbBaBaAbAbBaAbAbA?AaAaAaAaAaAaAaAa?aBaBaBaBaBaBaBaBaBaAbAbBaAbBaBaAbBaBaAbAbBaAbAbAcAaAaAaAaAaAa?aBaBaBaBaBaBaBaBaBaAbAbBaAbBaBaAbBaBaAbAbBaAbAbA?AaAaAaAaAaAaAaAaAa?aBaBaBaBaBaBaBaBaBaAbAbBaAbBaBaAbBaBaAbAbBaAbAbAcAaAaAaAaAaAa?aBaBaBaBaBaBaBaBaBaAbAbBaAbBaBaAbBaBaAbAbBaAbAbAcAaAaAaAaAaAaAaAaAaAaAaBaBaBaBaBaBaBaBaBaBaAbAbBaAbBaBaAbBaBaAbAbBaAbAbAcA?AaAaAaAaAaAaAaAaaaAa?aBaBaBaBaBaBaBaBaBaAbAbBaAbBaBaAbBaBaAbAbBaAbAbAcAaAaAaAaAaAaAa?aBaBaBaBaBaBaBaBaBaAbAbBaAbBaBaAbBaBaAbAbBaAbAbAcAaAaAaAaAaAaAaAaAaAaAa?aBaBaBaBaBaBaBaBaBaAbAbBaAbBaBaAbBaBaAbAbBaAbAbA?BaAaAaAaAaAaAaAaAa?aBaBaBaBaBaBaBaBaBaAbAbBaAbBaBaAbBaBaAbAbBaAbAbAcAaAaAaAaAaAaAaAa?aBaBaBaBaBaBaBaBaBaAbAbBaAbBaBaAbBaBaAbAbBaAbAbAcA?AAAaAaAaAaAaAaAaAaaaAaa?BaBaBaBaBaBaBaBaBaAbAbBaAbBaBaAbBaBaAbAbBaAbAbAcAaAaAaAaAaAaAaAaAaAaAa?aBaBaBaBaBaBaBaBaBaAbAbBaAbBaBaAbBaBaAbAbBaAbAbAcAaAaAaAaAaAaAaAaAaAaaaBaBaBaBaBaBaBaBaBaBaAbAbBaAbBaBaAbBaBaAbAbBaAbAbAcAaAaaaAaAaAa?aBaBaBaBaBaBaBaBaBaAbAbBaAbBaBaAbBaBaAbAbBaAbAbAcAaAaAaAaAaAaAaAaBaBaBaBaBaBaBaBaBaBaAbAbBaAbBaBaAbBaBaAbAbBaAbAbAcAaAaAaAaAaAa?aBaBaBaBaBaBaBaBaBaAbAbBaAbBaBaAbBaBaAbAbBaAbAbAcAaAaAaAaAaAaAaAaAaAaAa?aBaBaBaBaBaBaBaBaBaAbAbBaAbBaBaAbBaBaAbAbBaAbAbAcAaAaAaAaAaAaBaBaBaBaBaBaBaBaBaBaAbAbBaAbBaBaAbBaBaAbAbBaAbAbAcAaAaAaAaAaBaBaBaBaBaBaBaBaBaBaAbAbBaAbBaBaAbBaBaAbAbBaAbAbAcAaAaAaAaAaAaBaBaBaBaBaBaBaBaBaBaAbAbBaAbBaBaAbBaBaAbAbBaAbAbAcAaAaAaAaAaAaAaBaBaBaBaBaBaBaBaBaBaA?BaAaAaAaAaAaAaAaAa?a\n"
     ]
    }
   ],
   "source": [
    "# finds signal in groups\n",
    "# returns a corresponding letter\n",
    "def decode_signal(x, groups):\n",
    "    for c, lower, upper, group in groups:\n",
    "        if lower <= x <= upper:\n",
    "            return c\n",
    "    return \"?\"\n",
    "\n",
    "# decode list of signals\n",
    "# each signal is decoded separately\n",
    "def decode_signals(data, groups):\n",
    "    return [decode_signal(signal, groups) for signal in data]\n",
    "\n",
    "\n",
    "# decoded signals\n",
    "data_letters = decode_signals(data, groups)\n",
    "\n",
    "data_letters = [c if c != \"d\" else 'c' for c in data_letters]\n",
    "\n",
    "print(\"Decoded (characters): \", \"\".join(data_letters))\n",
    "    "
   ]
  },
  {
   "cell_type": "markdown",
   "metadata": {},
   "source": [
    "Видим манхеттоновское шифрование (Ab, Ba)"
   ]
  },
  {
   "cell_type": "code",
   "execution_count": 321,
   "metadata": {},
   "outputs": [
    {
     "name": "stdout",
     "output_type": "stream",
     "text": [
      "c?b1000010000111A?1100010AcAaAaAc100100001000011101100010AcAaAa?a00100001000011101100010AcAaAaAaAaAaAaAa?a00100001000011101100010AcAaAaAaaaAa?a100100001000011101100010AcAaAaAaAaAaAa?a0010000100001110110A?010AcAaAaAaAaAaAaAa?a00100001000011101100010AcAaAaAaAaAaAaAa?a00100001000011101100010AcAaAaAaAaAaAa?a00100A?01000011101100010AcAaAaAaAaAaAaAaAa?a0010A?001000011101100010A?AaAaAaAaAaAa?a00100001000011101100010AcAaAaaaAaAa?a001000010000111011A?0010A?AaAaAaAaAaAaAaAa?aA?0100001000011101100010AcA?AaAaAa100100001000011101100010Ac0AaAaAa?a00100001000011101100010AcAaAaAaAaAaAa100100001000011101100010AcA?AaAaAaAaAa?a00100001000011101100010A?AaAaAaAa?a00100001000011101100010AcAaAaAa100100001000011101100010AcAaAa100100001000011101100010AcAaAaAaAaAa100100001000011101100010AcAa0AaAaAa100100001000011101100010Ac100100001000011101100010Ac100100001000011101100010AcAaAa100100001000011101100A?10Ac100100001000011101100010AcAaAa100100001000011101100010AcAA?a00100001000011101100010Ac1001000A?1000011101100010AcAB?a001000010000111011A?0010A??a0A?100001000011101100010AcAa100100001000011101100010Ac100100001000011101100010AcAaAa100100001000011101100A?10AcAaAaAaAaAa100100001000011101100010Ac0Aa100100001000011101100010AcAaAaAa100100001000011101100010AcAa100100001000011101100010AcAaAaAaAaAa100100001000011101100010AcAaAaAaAaAaAa100100001000011101100010AcAaAaAaAaAaAa100100001000011101100010AcAaAaAaAaAaAaAaAaAaAaAaAa1001000010000111011A?0010AcAaAaAAAa?a00100001000011101100010AcAaAaAaAaAaAaAaAa100100001000011101100010AcAAAaAaAaAaAaAaAa100100001000011101100010AcAaAaAaAaAaAaAa100100001000011101100010AcAaAaAaAa100100001000011101100010AcAaAaAaAa10010000100001110110001A?AcAaAaAaAaAa100100001000011101100010AcAaAaAaAaAaAaAaAaAa100100001000011101100010AcAaAaAaAa100100001000011101100010AcAaAaAaAaAaAaaaAa100100001000011101100010Ac0AaAa100100001000011101100010AcAaAaAaAa100100001000011101100010AcAaAaAaAaAaAa100100001000011101100010AcAaAaAa100100001000011101100010AcAa100100001000011101100010Ac0Aa100100001000011101100010AcA??a001000010000111A?1100010AcAaAa?a00100001000011101100010AcAaAaAaAaAaAaAaAaAa100100001000011101100010AcAaAaAaAaAaAaAa100100001A?0001BcAaAaAaAaAaAaAaAaAa?ac?a0110000111101100001AcAaAa011AcA?AaAaAaAaAaAaAaAa?ac?a010110000111101100001Ac011010110000111101100001Ac011010110000111101100001Ac011010110000111101100001Ac011010110000111101100001Ac011010110000111101100001Ac011010110000111101100001Ac011010110000111101100001Ac011010110000111101100001Ac011010110000111101100001Ac0110101100A?0111101100001Ac011010110000111101100001Ac011010110000111101100001Ac011010110000111101100001Ac011010110A?00111101100001Ac011010110000111101100001Ac011010110000111101100001Ac011010110000111101100001Ac011010110000111101100001Ac011010110000111101100001Ac011010110000111101100001Ac011010110000111101100001Ac011010110000111101100001Ac011010110000111101100001Ac011010110000111101100001Ac011010110000111101100001Ac01101A?110000111101100001Ac011010110000111101100001Ac011010110000111101100001Ac011010110000111101100001Ac011010110000111101100001Ac011010110000111101100001Ac01101011000A?111101100001Ac011010110000111101100001Ac011010110000111101100001Ac011010110000111101100001Ac011010110000111101100001Ac0110101100001111011AaAa00001Ac011010110000111101100001Ac011010110000111101100001Ac011010110000111101100001Ac011010110000111101100001Ac011010110000111101100001Ac011010110000111101100001Ac011010110000111101100001Ac011010110000111101100001Ac011010110000111101100001Ac011010110000111101100001Ac011010110000111101100001Ac011010110000111101100001Ac011010110000111101100001Ac011010110000111101100001Ac011010110000111101100001Ac011010110000111101100001Ac01101011000A?AaAaAaAaAaAaAaAaAaAa??b10110000111101100100Ac011010110000111101100100Ac011010110000111101100100Ac011010110000111101100100Ac011010110000111101100100Ac011010110000111101100100Ac011010110000111101100100Ac011010110000111101100100Ac011010110000111101100100Ac011010110000111101100100AcAa011010110000111101100100Ac011010110000111101100100Ac011010110000111101100100Ac011010110000111101100100Ac011010110000111101100100Ac011010110000111101100100Ac011010110000111101100100Ac011010110000111101100100Ac011010110000111101100100Ac011010110000111101100100Ac011010110000111101100100Ac011010110000111101100100Ac011010110000111101100100Ac011010110000111101100100Ac011010110000111101100100Ac011010110000111101100100Ac011010110000111101100100Ac011010110000111101100100Ac011010110000111101100100Ac011A?10110000111101100100Ac01101011A?000111101100100Ac011010110000111101100100Ac011010110000111101100100Ac011010110000111101100100Ac011010110000111101100100Ac011010110000111101100100Ac011010110000111101100100Ac011010110000111101100100Ac011010110000111101100100Ac011010110000111101100100Ac011010110000111101100100Ac011010110000111?aAa?aAaAa1100100Ac011010110000111101100100Ac011010110000111101100100Ac011010110000111101100100Ac011010110000111101100100Ac011010110000111101100100Ac011010110000111101100100Ac011010110000111101100100Ac011010110000111101100100Ac011010110000111101100100Ac011010110000111101100100Ac011010110000111101100100Ac011010110000111101100100Ac011010110000111101100100Ac011010110000111101100100Ac011010110000111101100100Ac011010110000111101100100Ac011010110000111101100100Ac011010110000111101100100Ac011010110000111101100100Ac011010110000111101100100Ac011010110000111101100100Ac011010110AcAaAaAaAaAaAaAa?a?b?b?b?b?b?b?b?b?b?b?b?b?b?b?b?a0Aa?a0Aa?b?a0?b?bAa?a0Aa?b?a0Aa?a0?b?b?b?a111111100101101100001Ac111111111100101101100001A?AaAaAaAaAaAaAa111111111100101101100001A?Aa111111111100101101100001AcAaAa111111111100101101100001Ac111111111100101101100001A?AaAaAaAaAaAa111111111100101101100001Ac0AaAaAaAaAaAaAa111111111100101101100001A?AaAaAaAa111111111100101101100001Ac0AaAaAaAaAaAaAa111111111100101101100001AcAaAaAaAaAa111111111100101101100001AcAaAaAaAaAa111111111100101101100001AcAaAaAaAaAaAa111111111100101101100001AcAaAaAaAaAaAaAa111111111100101101100001AcAa111111111100101101100001A??a11111111100101101100001Ac0AaAa111111111100101101100001AcAaAa111111111100101101100001AcAaAaAaAaAa111111111100101101100001AcAaAa111111111100101101100001Ac111111111100101101100001AcAaAa111111111100101101100001AcAaa?11111111100101101100001AcAa0111111111100101101100001?b?b?b?b?b?b?a?a?a111?a?a0Aa10?a?a?a?bAa?aAaAaAa110Aa?a0?b?b?b11111?a11?a11Aa?a?aAa111111Aa?aAaBbAa1Aa?a0Aa?a0?b?b?a11?a111?a110?a1AaAa11Aa?a11Aa?aAaAa1Aa?a?b?b?a0?b?bAa?aAa?a111111100101101100001Ac11111111110?b1Aa?a?b11Aa?aAaBb?b1?b?b?b?b?a0Aa?a1?a?a?a?a?a1?a11Aa?a?aAa?a?a?b1AaAa?a?b?b?b?bAa?b?b?a1111111?a1Aa?a1?a?a?b?a1Aa?aAaAa?b?a?b?b?bAa?a0?b?a111?a111111AaBb?a?a?a?b?aAa1?b?b1BbAa?b?a0Ac111111111100101101100001AcAa111111111100101101100001A?Aa111111111100101101100001AcAaAAAa111111111100101101100001Ac111111111100101101100001Ac111111111100101101100001AcAa111111111100101101100001Ac111111111100101101100001AcAa111111111100101101100001AcAaAa111111111100101101100001Ac111111111100101101100001Ac111111111100101101100001Ac111111111100101101100001AcAAAaAa111111111100101101100001AcAaAaAa111111111100101101100001Ac0AaAa?a11111111100101101100001Ac0AaAaAaAa0?a11111111100101101100001Ac0?a11111111100101101100001Ac0Aa0AaAaAa111111111100101101100001AcAaAaAaAaAa0AaAaAa111111111100101101100001A?0AA00111111111100101101100001Ac111111111100101101100001AcAa111111111100101101100001AcAaAa111111111100101101100001A?AaAa111111111100101101100001Ac0111111111100101101100001Ac111111111100101101100001Ac111111111100101101100001AcAa111111111100101101100001AcAa111111111100101101100001Ac111111111100101101100001Ac111111111100101101100001AcAa111111111100101101100001Ac0111111111100101101100001AcAaAa111111111100101101Bc0AaAaAaAaAaAaAaAaaaAaAaAaAaAa?a???a111111100101101100010A?AaAaAaAaAaAaAaAaAaaaAa?a11111111100101101100010AcAaAaAaAaAaAaAaAa?a11111111100101101100010AcAaAaAaAaAaAaAaAaAa?a11111111100101101100010AcAaAAAaAaAaAaAaAaAa?a11111111100101101100010AcAaAaAaAaAaAaAaaaaaAa?a11111111100101101100010AcAaAaAaAaAaAaAaaaAa?a11111111100101101100010AcAaAaAaAaAaAaAaAaAa?a11111111100101101100010AcAa0AaAaAaAaAaAaAaAa?a11111111100101101100010AcAaAaAaAaAaAaAaAaAaAaAaAa?a11111111100101101100010AcAaAaAaAaAaaaAaAa?a11111111100101101100010AcAaAaAaaaAaAaAaAaAaAaAa?a11111111100101101100010AcAaAaAaAaAaAa?a11111111100101101100010AcAaAaAaAaAaAaAaAa?a11111111100101101100010AcAaAaAaAaAaAaAa?a?a11111111100101101100010AcAaAaAaAaAaAaAa?a11111111100101101100010AcAaAaAaAaAaAaAa?a11111111100101101100010AcAaAaAaAaAaAaAaAa?a11111111100101101100010AcAaaaAaAaAaAaAaAaAaAa111111111100101101100010Ac0AaAaAaAaAaAaAaAaaa?a11111111100101101100010Ac0AaAaAaAaAaAaAaAa?a11111111100101101100010AcAaAaAaAaAaAaAaAaAaAa?a11111111100101101100010AcAaAaAaAaAaAaAaAaAaAaAaAa?a11111111100101101100010AcAaAaAaAaAaAaAaAaAa?a11111111100101101100010AcAaAaAaAaAaAaAaAaAaAaAaAaAa?a11111111100101101100010Ac0AaAaAaAaAaAaAaAaAa111111111100101101100010AcAaAAAaAaAaAaAaAaAA?a11111111100101101100010AcAaAaAaAaAaAaAaAaAa?a11111111100101101100010AcAaAaAaAaAaAaAaAaaa?a11111111100101101100010AcAaAaAaAaAaAaAa?a11111111100101101100010A?0AaAaAaAaAaAaAaAaAaAa111111111100101101100010AcAaAaAaAaAaa?11111111100101101100010Ac0AAAaAaAaAaAaAaAaAa111111111100101101100010AcAaAaAaAaAaAaAaAaAaAaAa?a11111111100101101100010AcAaAaAaAaAaAaAA?a11111111100101101100010AcAaAaAaAaAaAaAa?a11111111100101101100010AcAaAaAaAaAa?a111111111100101101100010AcAaAaAaAaAaAaAaAaAaAa?a11111111100101101100010Ac0AaAaAaAaAaAaAa?a11111111100101101100010AcAaAaAaAaAaAaAaAaAaAaaa?a11111111100101101100010AcAaAaAaAaAaAaAaAaAa?a11111111100101101100010AcAaAaAaAaAAAaAa?a11111111100101101100010AcAaAaAaAaAaAa?a11111111100101101100010AcAaAaAaAaAaAaAaAaAaAa?a11111111100101101100010AcAaAaAaAaAaaaAaAaAa111111111100101101100010AcAaAaAaAaAaAaAaAaAaAaAaAaAaAaAa?a11111111100101101100010AcAaAaAaAaAaAaAaAa?a11111111100101101100010Ac?a?a111111111100101101100010AcAaAaAaAaAaAaAaAaAa111111111100101101100010AcAaAAAAAaAaAaAaAaAaa?11111111100101101100010AcAaAaAaAaAaAaAaAaAaAaAa111111111100101101100010AcAaAaAaAaAaAaAaAaAa?a11111111100101101100010AcAaAaAaAaAaAaAaAaAaAaAa111111111100101101100010Ac0AaAaAAAaAaAaAaAaAa?a11111111100101101100010AcAaAaAaAaaaAa?a11111111100101101100010AcAaAaAaAaAaAaAa?a11111111100101101100010AcAaAaAaAaAaAaAa?a11111111100101101100010AcAaAaAaAaAaAa?a11111111100101101100010AcAaAaAaAaAaAaAa?a11111111100101101100010AcAaAaAaAaAaAa111111111100101101100010Ac0AaAaAaAaAaAaAaAaAaAa111111111100101101100010AcAaAaAaAaAaAaAa111111111100101101100010A?AaAaAaAaaaAaAa111111111100101101100010AcAaAaAaAaAa111111111100101101100010AcAaAaAaAAAaAa111111111100101101100010AcAaAaAaAaAaAaAaAaAa?a11111111100101101100010AcAaAaAaAaAaAaAaAaAaAaAaAaAa111111111100101101100010AcAaAaAaAaAaAaAaAa?a11111111100101101100010AcAaAaAaAaAaaa111111111100101101100010A?AaAaAaAaAAAaAaAa111111111100101101100010AcAaAaAaAaAaAaAaAaa?111111111AcAaAaAaAaAaAaAaAaAaAac?a111111100101101100100AcAaAaAaAaAaAaAaAaa?11111111100101101100100AcAaAaAaAaAaAaAaAaAa111111111100101101100100AcAaAaAaAaAaAaAaAaAaAaAa111111111100101101100100AcAaAaAaAaAaAaAaAa?a11111111100101101100100AcAaAaAaAaAaAaAaAaAa111111111100101101100100AcAaAaAaAa111111111100101101100100AcAaAaAaAaAaAaAaAaAaAa111111111100101101100100AcAAAaAaAaAa111111111100101101100100AcAaAaAaAaAaAaAaAaAa111111111100101101100100AcAAAaAaAaAa111111111100101101100100A?AaAaAa111111111100101101100100Ac0aaAa?a11111111100101101100100A?AaAaAaAaAaAaAaAaAaAa111111111100101101100100Ac0AaAaAa111111111100101101100100AcAaAaAaAa111111111100101101100100A?AaAaAaAaAaAaAaAa111111111100101101100100AcAaAaAa?a11111111100101101100100AcAaAAAaAaAaAaAaAaAa?a11111111100101101100100AcAaAaAaAaAaAaAa111111111100101101100100AcAaAaAaAaAaAaAaAaAaaaAaAa?a11111111100101101100100AcAaAaAaAaAaAaAaAaAa111111111100101101100100AcAaAaAaAaAaAaAa111111111100101101100100Ac0AaAaAaAaAaAa?a11111111100101101100100AcAaAaAaAaAaAa?a11111111100101101100100AcAaAaAaAaAaAaAaAa111111111100101101100100AcAaAaAaAaAaAaAaAaAa?a11111111100101101100100AcAaAaAaAaAaAaAaAaa?11111111100101101100100Ac0AaAaAaAaAaAaAaAaAa?a11111111100101101100100AcAaAaAaAaAaAaAa111111111100101101100100AcAaaaAaAaAaAaAaAa?a11111111100101101100100AcAaAaAaAaAaAaAaAa?a11111111100101101100100Ac0AaAaAaAa?a11111111100101101100100A?AaAaAaAaAaAaAaAa?a11111111100101101100100AcAaAaAaAaAaAaAaAa111111111100101101100100AcAaAaAaAaAaAaAaAa111111111100101101100100AcAaAaAaAaAaAaAa?a11111111100101101100100AcA??aAa111111111100101101100100AcAaAaAaAa111111111100101101100100AcAaAaAa111111111100101101100100A?0Aa111111111100101101100100AcAaAa111111111100101101100100AcAa111111111100101101100100AcAa111111111100101101100100A?AaAaAa111111111100101101100100AcAaAaAaAa111111111100101101100100AcAaAaAaAaAa111111111100101101100100A?AaAaAaAaAa111111111100101101100100AcAaaaAaAaa?11111111100101101100100AcAaAaAaAa111111111100101101100100AcAa111111111100101101100100A?Aa111111111100101101100100AcAaAaAaAaAaAaAa111111111100101101100100AcAaAaAaAaAaAaAaAa111111111100101101100100AcAaA?AaAaAa111111111100101101100100A?AaAaAaAaAaAaAaAa?a11111111100101101100100AcAaAaAaAaAaAa?a11111111100101101100100A?AaAaAaAaAaAaAaAaAa?a11111111100101101100100AcAaAaAaAaAaAa?a11111111100101101100100AcAaAaAaAaAaAaAaAaAaAaAa111111111100101101100100AcA?AaAaAaAaAaAaAaAaaaAa?a11111111100101101100100AcAaAaAaAaAaAaAa?a11111111100101101100100AcAaAaAaAaAaAaAaAaAaAaAa?a11111111100101101100100A?1AaAaAaAaAaAaAaAa?a11111111100101101100100AcAaAaAaAaAaAaAaAa?a11111111100101101100100AcA?AAAaAaAaAaAaAaAaAaaaAaa?11111111100101101100100AcAaAaAaAaAaAaAaAaAaAaAa?a11111111100101101100100AcAaAaAaAaAaAaAaAaAaAaaa111111111100101101100100AcAaAaaaAaAaAa?a11111111100101101100100AcAaAaAaAaAaAaAaAa111111111100101101100100AcAaAaAaAaAaAa?a11111111100101101100100AcAaAaAaAaAaAaAaAaAaAaAa?a11111111100101101100100AcAaAaAaAaAaAa111111111100101101100100AcAaAaAaAaAa111111111100101101100100AcAaAaAaAaAaAa111111111100101101100100AcAaAaAaAaAaAaAa1111111111A?1AaAaAaAaAaAaAaAa?a\n"
     ]
    }
   ],
   "source": [
    "medium1 = \"\".join(data_letters).replace('Ab', '0').replace('Ba', '1')\n",
    "\n",
    "print(medium1)"
   ]
  },
  {
   "cell_type": "markdown",
   "metadata": {},
   "source": [
    "Ac - разделитель"
   ]
  },
  {
   "cell_type": "code",
   "execution_count": 322,
   "metadata": {},
   "outputs": [
    {
     "name": "stdout",
     "output_type": "stream",
     "text": [
      "['c?b1000010000111A?1100010', 'AaAa', '100100001000011101100010', 'AaAa?a00100001000011101100010', 'AaAaAaAaAaAaAa?a00100001000011101100010', 'AaAaAaaaAa?a100100001000011101100010', 'AaAaAaAaAaAa?a0010000100001110110A?010', 'AaAaAaAaAaAaAa?a00100001000011101100010', 'AaAaAaAaAaAaAa?a00100001000011101100010', 'AaAaAaAaAaAa?a00100A?01000011101100010', 'AaAaAaAaAaAaAaAa?a0010A?001000011101100010A?AaAaAaAaAaAa?a00100001000011101100010', 'AaAaaaAaAa?a001000010000111011A?0010A?AaAaAaAaAaAaAaAa?aA?0100001000011101100010', 'A?AaAaAa100100001000011101100010', '0AaAaAa?a00100001000011101100010', 'AaAaAaAaAaAa100100001000011101100010', 'A?AaAaAaAaAa?a00100001000011101100010A?AaAaAaAa?a00100001000011101100010', 'AaAaAa100100001000011101100010', 'AaAa100100001000011101100010', 'AaAaAaAaAa100100001000011101100010', 'Aa0AaAaAa100100001000011101100010', '100100001000011101100010', '100100001000011101100010', 'AaAa100100001000011101100A?10', '100100001000011101100010', 'AaAa100100001000011101100010', 'AA?a00100001000011101100010', '1001000A?1000011101100010', 'AB?a001000010000111011A?0010A??a0A?100001000011101100010', 'Aa100100001000011101100010', '100100001000011101100010', 'AaAa100100001000011101100A?10', 'AaAaAaAaAa100100001000011101100010', '0Aa100100001000011101100010', 'AaAaAa100100001000011101100010', 'Aa100100001000011101100010', 'AaAaAaAaAa100100001000011101100010', 'AaAaAaAaAaAa100100001000011101100010', 'AaAaAaAaAaAa100100001000011101100010', 'AaAaAaAaAaAaAaAaAaAaAaAa1001000010000111011A?0010', 'AaAaAAAa?a00100001000011101100010', 'AaAaAaAaAaAaAaAa100100001000011101100010', 'AAAaAaAaAaAaAaAa100100001000011101100010', 'AaAaAaAaAaAaAa100100001000011101100010', 'AaAaAaAa100100001000011101100010', 'AaAaAaAa10010000100001110110001A?', 'AaAaAaAaAa100100001000011101100010', 'AaAaAaAaAaAaAaAaAa100100001000011101100010', 'AaAaAaAa100100001000011101100010', 'AaAaAaAaAaAaaaAa100100001000011101100010', '0AaAa100100001000011101100010', 'AaAaAaAa100100001000011101100010', 'AaAaAaAaAaAa100100001000011101100010', 'AaAaAa100100001000011101100010', 'Aa100100001000011101100010', '0Aa100100001000011101100010', 'A??a001000010000111A?1100010', 'AaAa?a00100001000011101100010', 'AaAaAaAaAaAaAaAaAa100100001000011101100010', 'AaAaAaAaAaAaAa100100001A?0001BcAaAaAaAaAaAaAaAaAa?ac?a0110000111101100001', 'AaAa011', 'A?AaAaAaAaAaAaAaAa?ac?a010110000111101100001', '011010110000111101100001', '011010110000111101100001', '011010110000111101100001', '011010110000111101100001', '011010110000111101100001', '011010110000111101100001', '011010110000111101100001', '011010110000111101100001', '011010110000111101100001', '0110101100A?0111101100001', '011010110000111101100001', '011010110000111101100001', '011010110000111101100001', '011010110A?00111101100001', '011010110000111101100001', '011010110000111101100001', '011010110000111101100001', '011010110000111101100001', '011010110000111101100001', '011010110000111101100001', '011010110000111101100001', '011010110000111101100001', '011010110000111101100001', '011010110000111101100001', '011010110000111101100001', '01101A?110000111101100001', '011010110000111101100001', '011010110000111101100001', '011010110000111101100001', '011010110000111101100001', '011010110000111101100001', '01101011000A?111101100001', '011010110000111101100001', '011010110000111101100001', '011010110000111101100001', '011010110000111101100001', '0110101100001111011AaAa00001', '011010110000111101100001', '011010110000111101100001', '011010110000111101100001', '011010110000111101100001', '011010110000111101100001', '011010110000111101100001', '011010110000111101100001', '011010110000111101100001', '011010110000111101100001', '011010110000111101100001', '011010110000111101100001', '011010110000111101100001', '011010110000111101100001', '011010110000111101100001', '011010110000111101100001', '011010110000111101100001', '01101011000A?AaAaAaAaAaAaAaAaAaAa??b10110000111101100100', '011010110000111101100100', '011010110000111101100100', '011010110000111101100100', '011010110000111101100100', '011010110000111101100100', '011010110000111101100100', '011010110000111101100100', '011010110000111101100100', '011010110000111101100100', 'Aa011010110000111101100100', '011010110000111101100100', '011010110000111101100100', '011010110000111101100100', '011010110000111101100100', '011010110000111101100100', '011010110000111101100100', '011010110000111101100100', '011010110000111101100100', '011010110000111101100100', '011010110000111101100100', '011010110000111101100100', '011010110000111101100100', '011010110000111101100100', '011010110000111101100100', '011010110000111101100100', '011010110000111101100100', '011010110000111101100100', '011010110000111101100100', '011A?10110000111101100100', '01101011A?000111101100100', '011010110000111101100100', '011010110000111101100100', '011010110000111101100100', '011010110000111101100100', '011010110000111101100100', '011010110000111101100100', '011010110000111101100100', '011010110000111101100100', '011010110000111101100100', '011010110000111101100100', '011010110000111?aAa?aAaAa1100100', '011010110000111101100100', '011010110000111101100100', '011010110000111101100100', '011010110000111101100100', '011010110000111101100100', '011010110000111101100100', '011010110000111101100100', '011010110000111101100100', '011010110000111101100100', '011010110000111101100100', '011010110000111101100100', '011010110000111101100100', '011010110000111101100100', '011010110000111101100100', '011010110000111101100100', '011010110000111101100100', '011010110000111101100100', '011010110000111101100100', '011010110000111101100100', '011010110000111101100100', '011010110000111101100100', '011010110', 'AaAaAaAaAaAaAa?a?b?b?b?b?b?b?b?b?b?b?b?b?b?b?b?a0Aa?a0Aa?b?a0?b?bAa?a0Aa?b?a0Aa?a0?b?b?b?a111111100101101100001', '111111111100101101100001A?AaAaAaAaAaAaAa111111111100101101100001A?Aa111111111100101101100001', 'AaAa111111111100101101100001', '111111111100101101100001A?AaAaAaAaAaAa111111111100101101100001', '0AaAaAaAaAaAaAa111111111100101101100001A?AaAaAaAa111111111100101101100001', '0AaAaAaAaAaAaAa111111111100101101100001', 'AaAaAaAaAa111111111100101101100001', 'AaAaAaAaAa111111111100101101100001', 'AaAaAaAaAaAa111111111100101101100001', 'AaAaAaAaAaAaAa111111111100101101100001', 'Aa111111111100101101100001A??a11111111100101101100001', '0AaAa111111111100101101100001', 'AaAa111111111100101101100001', 'AaAaAaAaAa111111111100101101100001', 'AaAa111111111100101101100001', '111111111100101101100001', 'AaAa111111111100101101100001', 'Aaa?11111111100101101100001', 'Aa0111111111100101101100001?b?b?b?b?b?b?a?a?a111?a?a0Aa10?a?a?a?bAa?aAaAaAa110Aa?a0?b?b?b11111?a11?a11Aa?a?aAa111111Aa?aAaBbAa1Aa?a0Aa?a0?b?b?a11?a111?a110?a1AaAa11Aa?a11Aa?aAaAa1Aa?a?b?b?a0?b?bAa?aAa?a111111100101101100001', '11111111110?b1Aa?a?b11Aa?aAaBb?b1?b?b?b?b?a0Aa?a1?a?a?a?a?a1?a11Aa?a?aAa?a?a?b1AaAa?a?b?b?b?bAa?b?b?a1111111?a1Aa?a1?a?a?b?a1Aa?aAaAa?b?a?b?b?bAa?a0?b?a111?a111111AaBb?a?a?a?b?aAa1?b?b1BbAa?b?a0', '111111111100101101100001', 'Aa111111111100101101100001A?Aa111111111100101101100001', 'AaAAAa111111111100101101100001', '111111111100101101100001', '111111111100101101100001', 'Aa111111111100101101100001', '111111111100101101100001', 'Aa111111111100101101100001', 'AaAa111111111100101101100001', '111111111100101101100001', '111111111100101101100001', '111111111100101101100001', 'AAAaAa111111111100101101100001', 'AaAaAa111111111100101101100001', '0AaAa?a11111111100101101100001', '0AaAaAaAa0?a11111111100101101100001', '0?a11111111100101101100001', '0Aa0AaAaAa111111111100101101100001', 'AaAaAaAaAa0AaAaAa111111111100101101100001A?0AA00111111111100101101100001', '111111111100101101100001', 'Aa111111111100101101100001', 'AaAa111111111100101101100001A?AaAa111111111100101101100001', '0111111111100101101100001', '111111111100101101100001', '111111111100101101100001', 'Aa111111111100101101100001', 'Aa111111111100101101100001', '111111111100101101100001', '111111111100101101100001', 'Aa111111111100101101100001', '0111111111100101101100001', 'AaAa111111111100101101Bc0AaAaAaAaAaAaAaAaaaAaAaAaAaAa?a???a111111100101101100010A?AaAaAaAaAaAaAaAaAaaaAa?a11111111100101101100010', 'AaAaAaAaAaAaAaAa?a11111111100101101100010', 'AaAaAaAaAaAaAaAaAa?a11111111100101101100010', 'AaAAAaAaAaAaAaAaAa?a11111111100101101100010', 'AaAaAaAaAaAaAaaaaaAa?a11111111100101101100010', 'AaAaAaAaAaAaAaaaAa?a11111111100101101100010', 'AaAaAaAaAaAaAaAaAa?a11111111100101101100010', 'Aa0AaAaAaAaAaAaAaAa?a11111111100101101100010', 'AaAaAaAaAaAaAaAaAaAaAaAa?a11111111100101101100010', 'AaAaAaAaAaaaAaAa?a11111111100101101100010', 'AaAaAaaaAaAaAaAaAaAaAa?a11111111100101101100010', 'AaAaAaAaAaAa?a11111111100101101100010', 'AaAaAaAaAaAaAaAa?a11111111100101101100010', 'AaAaAaAaAaAaAa?a?a11111111100101101100010', 'AaAaAaAaAaAaAa?a11111111100101101100010', 'AaAaAaAaAaAaAa?a11111111100101101100010', 'AaAaAaAaAaAaAaAa?a11111111100101101100010', 'AaaaAaAaAaAaAaAaAaAa111111111100101101100010', '0AaAaAaAaAaAaAaAaaa?a11111111100101101100010', '0AaAaAaAaAaAaAaAa?a11111111100101101100010', 'AaAaAaAaAaAaAaAaAaAa?a11111111100101101100010', 'AaAaAaAaAaAaAaAaAaAaAaAa?a11111111100101101100010', 'AaAaAaAaAaAaAaAaAa?a11111111100101101100010', 'AaAaAaAaAaAaAaAaAaAaAaAaAa?a11111111100101101100010', '0AaAaAaAaAaAaAaAaAa111111111100101101100010', 'AaAAAaAaAaAaAaAaAA?a11111111100101101100010', 'AaAaAaAaAaAaAaAaAa?a11111111100101101100010', 'AaAaAaAaAaAaAaAaaa?a11111111100101101100010', 'AaAaAaAaAaAaAa?a11111111100101101100010A?0AaAaAaAaAaAaAaAaAaAa111111111100101101100010', 'AaAaAaAaAaa?11111111100101101100010', '0AAAaAaAaAaAaAaAaAa111111111100101101100010', 'AaAaAaAaAaAaAaAaAaAaAa?a11111111100101101100010', 'AaAaAaAaAaAaAA?a11111111100101101100010', 'AaAaAaAaAaAaAa?a11111111100101101100010', 'AaAaAaAaAa?a111111111100101101100010', 'AaAaAaAaAaAaAaAaAaAa?a11111111100101101100010', '0AaAaAaAaAaAaAa?a11111111100101101100010', 'AaAaAaAaAaAaAaAaAaAaaa?a11111111100101101100010', 'AaAaAaAaAaAaAaAaAa?a11111111100101101100010', 'AaAaAaAaAAAaAa?a11111111100101101100010', 'AaAaAaAaAaAa?a11111111100101101100010', 'AaAaAaAaAaAaAaAaAaAa?a11111111100101101100010', 'AaAaAaAaAaaaAaAaAa111111111100101101100010', 'AaAaAaAaAaAaAaAaAaAaAaAaAaAaAa?a11111111100101101100010', 'AaAaAaAaAaAaAaAa?a11111111100101101100010', '?a?a111111111100101101100010', 'AaAaAaAaAaAaAaAaAa111111111100101101100010', 'AaAAAAAaAaAaAaAaAaa?11111111100101101100010', 'AaAaAaAaAaAaAaAaAaAaAa111111111100101101100010', 'AaAaAaAaAaAaAaAaAa?a11111111100101101100010', 'AaAaAaAaAaAaAaAaAaAaAa111111111100101101100010', '0AaAaAAAaAaAaAaAaAa?a11111111100101101100010', 'AaAaAaAaaaAa?a11111111100101101100010', 'AaAaAaAaAaAaAa?a11111111100101101100010', 'AaAaAaAaAaAaAa?a11111111100101101100010', 'AaAaAaAaAaAa?a11111111100101101100010', 'AaAaAaAaAaAaAa?a11111111100101101100010', 'AaAaAaAaAaAa111111111100101101100010', '0AaAaAaAaAaAaAaAaAaAa111111111100101101100010', 'AaAaAaAaAaAaAa111111111100101101100010A?AaAaAaAaaaAaAa111111111100101101100010', 'AaAaAaAaAa111111111100101101100010', 'AaAaAaAAAaAa111111111100101101100010', 'AaAaAaAaAaAaAaAaAa?a11111111100101101100010', 'AaAaAaAaAaAaAaAaAaAaAaAaAa111111111100101101100010', 'AaAaAaAaAaAaAaAa?a11111111100101101100010', 'AaAaAaAaAaaa111111111100101101100010A?AaAaAaAaAAAaAaAa111111111100101101100010', 'AaAaAaAaAaAaAaAaa?111111111', 'AaAaAaAaAaAaAaAaAaAac?a111111100101101100100', 'AaAaAaAaAaAaAaAaa?11111111100101101100100', 'AaAaAaAaAaAaAaAaAa111111111100101101100100', 'AaAaAaAaAaAaAaAaAaAaAa111111111100101101100100', 'AaAaAaAaAaAaAaAa?a11111111100101101100100', 'AaAaAaAaAaAaAaAaAa111111111100101101100100', 'AaAaAaAa111111111100101101100100', 'AaAaAaAaAaAaAaAaAaAa111111111100101101100100', 'AAAaAaAaAa111111111100101101100100', 'AaAaAaAaAaAaAaAaAa111111111100101101100100', 'AAAaAaAaAa111111111100101101100100A?AaAaAa111111111100101101100100', '0aaAa?a11111111100101101100100A?AaAaAaAaAaAaAaAaAaAa111111111100101101100100', '0AaAaAa111111111100101101100100', 'AaAaAaAa111111111100101101100100A?AaAaAaAaAaAaAaAa111111111100101101100100', 'AaAaAa?a11111111100101101100100', 'AaAAAaAaAaAaAaAaAa?a11111111100101101100100', 'AaAaAaAaAaAaAa111111111100101101100100', 'AaAaAaAaAaAaAaAaAaaaAaAa?a11111111100101101100100', 'AaAaAaAaAaAaAaAaAa111111111100101101100100', 'AaAaAaAaAaAaAa111111111100101101100100', '0AaAaAaAaAaAa?a11111111100101101100100', 'AaAaAaAaAaAa?a11111111100101101100100', 'AaAaAaAaAaAaAaAa111111111100101101100100', 'AaAaAaAaAaAaAaAaAa?a11111111100101101100100', 'AaAaAaAaAaAaAaAaa?11111111100101101100100', '0AaAaAaAaAaAaAaAaAa?a11111111100101101100100', 'AaAaAaAaAaAaAa111111111100101101100100', 'AaaaAaAaAaAaAaAa?a11111111100101101100100', 'AaAaAaAaAaAaAaAa?a11111111100101101100100', '0AaAaAaAa?a11111111100101101100100A?AaAaAaAaAaAaAaAa?a11111111100101101100100', 'AaAaAaAaAaAaAaAa111111111100101101100100', 'AaAaAaAaAaAaAaAa111111111100101101100100', 'AaAaAaAaAaAaAa?a11111111100101101100100', 'A??aAa111111111100101101100100', 'AaAaAaAa111111111100101101100100', 'AaAaAa111111111100101101100100A?0Aa111111111100101101100100', 'AaAa111111111100101101100100', 'Aa111111111100101101100100', 'Aa111111111100101101100100A?AaAaAa111111111100101101100100', 'AaAaAaAa111111111100101101100100', 'AaAaAaAaAa111111111100101101100100A?AaAaAaAaAa111111111100101101100100', 'AaaaAaAaa?11111111100101101100100', 'AaAaAaAa111111111100101101100100', 'Aa111111111100101101100100A?Aa111111111100101101100100', 'AaAaAaAaAaAaAa111111111100101101100100', 'AaAaAaAaAaAaAaAa111111111100101101100100', 'AaA?AaAaAa111111111100101101100100A?AaAaAaAaAaAaAaAa?a11111111100101101100100', 'AaAaAaAaAaAa?a11111111100101101100100A?AaAaAaAaAaAaAaAaAa?a11111111100101101100100', 'AaAaAaAaAaAa?a11111111100101101100100', 'AaAaAaAaAaAaAaAaAaAaAa111111111100101101100100', 'A?AaAaAaAaAaAaAaAaaaAa?a11111111100101101100100', 'AaAaAaAaAaAaAa?a11111111100101101100100', 'AaAaAaAaAaAaAaAaAaAaAa?a11111111100101101100100A?1AaAaAaAaAaAaAaAa?a11111111100101101100100', 'AaAaAaAaAaAaAaAa?a11111111100101101100100', 'A?AAAaAaAaAaAaAaAaAaaaAaa?11111111100101101100100', 'AaAaAaAaAaAaAaAaAaAaAa?a11111111100101101100100', 'AaAaAaAaAaAaAaAaAaAaaa111111111100101101100100', 'AaAaaaAaAaAa?a11111111100101101100100', 'AaAaAaAaAaAaAaAa111111111100101101100100', 'AaAaAaAaAaAa?a11111111100101101100100', 'AaAaAaAaAaAaAaAaAaAaAa?a11111111100101101100100', 'AaAaAaAaAaAa111111111100101101100100', 'AaAaAaAaAa111111111100101101100100', 'AaAaAaAaAaAa111111111100101101100100', 'AaAaAaAaAaAaAa1111111111A?1AaAaAaAaAaAaAaAa?a']\n"
     ]
    }
   ],
   "source": [
    "print(medium1.split(\"Ac\"))"
   ]
  },
  {
   "cell_type": "markdown",
   "metadata": {},
   "source": [
    "Видим, что часто идет 24 цифры в конце. Проверяем"
   ]
  },
  {
   "cell_type": "code",
   "execution_count": 323,
   "metadata": {},
   "outputs": [
    {
     "data": {
      "text/plain": [
       "Counter({'011010110000111101100001': 48,\n",
       "         '011010110000111101100100': 59,\n",
       "         '100100001000011101100010': 36,\n",
       "         '111111111100101101100001': 43,\n",
       "         '111111111100101101100010': 17,\n",
       "         '111111111100101101100100': 36})"
      ]
     },
     "execution_count": 323,
     "metadata": {},
     "output_type": "execute_result"
    }
   ],
   "source": [
    "packlen = 24\n",
    "medium2 = [x for x in [y[-packlen:] for y in medium1.split(\"Ac\") if len(y) >= packlen] \n",
    "           if x.find('?') == -1 and x.find('a') == -1]\n",
    "Counter(medium2)"
   ]
  },
  {
   "cell_type": "markdown",
   "metadata": {},
   "source": [
    "Как раз 6 групп по количеству уникальных сигналов"
   ]
  },
  {
   "cell_type": "code",
   "execution_count": 333,
   "metadata": {},
   "outputs": [
    {
     "data": {
      "text/plain": [
       "['100100001000011101100010',\n",
       " '011010110000111101100001',\n",
       " '011010110000111101100100',\n",
       " '111111111100101101100001',\n",
       " '111111111100101101100010',\n",
       " '111111111100101101100100']"
      ]
     },
     "execution_count": 333,
     "metadata": {},
     "output_type": "execute_result"
    }
   ],
   "source": [
    "def filter_rep(a):\n",
    "    return [c for i, c in enumerate(a) if i + 1 == len(a) or c != a[i + 1]]\n",
    "\n",
    "final1 = filter_rep(medium2)\n",
    "final1"
   ]
  },
  {
   "cell_type": "markdown",
   "metadata": {},
   "source": [
    "Вот собственно и расшифровки\n",
    "\n",
    "Порядок такой же как и во входных дампах\n",
    "\n",
    "Номер нажатой кнопки - номер единичного бита с конца для трёхкнопочного\n",
    "\n",
    "Однако странно, особенно в 1-2 кнопочных"
   ]
  },
  {
   "cell_type": "markdown",
   "metadata": {},
   "source": [
    "Еще странная преамбула. Выделяется две группы:\n",
    "\n",
    "Такого рода в 1-2 кнопочных:\n",
    "\n",
    "AaAaAaAaAaAaAa111111111100101101100100AcAaAaAaAaAaAaAaAa111111111100101101100100Ac\n",
    "\n",
    "И такого в 3кнопочных\n",
    "\n",
    "100100001000011101100010Ac100100001000011101100010Ac100100001000011101100010Ac"
   ]
  },
  {
   "cell_type": "code",
   "execution_count": 325,
   "metadata": {},
   "outputs": [
    {
     "data": {
      "text/plain": [
       "[(0, 1), (1, 1)]"
      ]
     },
     "execution_count": 325,
     "metadata": {},
     "output_type": "execute_result"
    }
   ],
   "source": [
    "list(enumerate([1, 1]))"
   ]
  },
  {
   "cell_type": "markdown",
   "metadata": {},
   "source": [
    "Трехкнопочные:"
   ]
  },
  {
   "cell_type": "markdown",
   "metadata": {},
   "source": [
    "Видим, что подряд идет помногу одинаковых пакетов. В снятых мною дампах это сигналы от датчика движения при двух разных конфигурациях джамперов"
   ]
  },
  {
   "cell_type": "code",
   "execution_count": 339,
   "metadata": {},
   "outputs": [
    {
     "name": "stdout",
     "output_type": "stream",
     "text": [
      "[VHome(addr=450825, button=2), VHome(addr=454870, button=1), VHome(addr=454870, button=4), VHome(addr=447487, button=1), VHome(addr=447487, button=2), VHome(addr=447487, button=4)]\n",
      "[VHome(addr='0x6e109', button='0x2'), VHome(addr='0x6f0d6', button='0x1'), VHome(addr='0x6f0d6', button='0x4'), VHome(addr='0x6d3ff', button='0x1'), VHome(addr='0x6d3ff', button='0x2'), VHome(addr='0x6d3ff', button='0x4')]\n"
     ]
    }
   ],
   "source": [
    "# именнованый кортеж, для более понятного вывода\n",
    "from collections import namedtuple\n",
    "Message = namedtuple('VHome', 'addr button')\n",
    "\n",
    "data = final1\n",
    "\n",
    "# разделяем на непосредственно сообщение и флаги D0-D3\n",
    "data_pairs = list(map(lambda x: Message(int(x[:20][::-1], 2), int(x[20:], 2)), data))\n",
    "print(data_pairs)\n",
    "\n",
    "# или в 16-ричной, если вам так больше нравится\n",
    "data_pairs16 = list(map(lambda x: Message(hex(x[0]), hex(x[1])), data_pairs))\n",
    "print(data_pairs16)\n"
   ]
  },
  {
   "cell_type": "markdown",
   "metadata": {},
   "source": [
    "Готово!"
   ]
  }
 ],
 "metadata": {
  "kernelspec": {
   "display_name": "Python 3",
   "language": "python",
   "name": "python3"
  },
  "language_info": {
   "codemirror_mode": {
    "name": "ipython",
    "version": 3
   },
   "file_extension": ".py",
   "mimetype": "text/x-python",
   "name": "python",
   "nbconvert_exporter": "python",
   "pygments_lexer": "ipython3",
   "version": "3.5.2"
  }
 },
 "nbformat": 4,
 "nbformat_minor": 1
}
