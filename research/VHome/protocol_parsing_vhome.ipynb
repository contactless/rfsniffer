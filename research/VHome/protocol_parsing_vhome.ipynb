{
 "cells": [
  {
   "cell_type": "code",
   "execution_count": 2,
   "metadata": {},
   "outputs": [],
   "source": [
    "import numpy as np\n",
    "import matplotlib.pyplot as plt\n",
    "import matplotlib as mpl\n",
    "import scipy.cluster.hierarchy as hac\n",
    "\n",
    "import pandas\n",
    "\n",
    "import glob\n",
    "import struct\n",
    "from collections import Counter"
   ]
  },
  {
   "cell_type": "markdown",
   "metadata": {},
   "source": [
    "# Расшифровка протокола беспроводного устройства\n",
    "\n",
    "# на примере датчика движения PA-92R"
   ]
  },
  {
   "cell_type": "markdown",
   "metadata": {
    "collapsed": true
   },
   "source": [
    "Как помочь нам разобрать протокол?\n",
    "\n",
    "Вот пример как это делается в простом случае.\n",
    "\n",
    "Есть устройство на чипе HS1527 и к нему даже нашелся datasheet: http://sc-tech.cn/en/hs1527.pdf\n",
    "\n",
    "Есть Wiren Board c rfsniffer. Первое что мы делаем, записываем дамп. \n",
    "\n",
    "`{some path}/wb-homa-rfsniffer -W`\n",
    "\n",
    "Когда запись произойдет, останавливаем программу и начинаем изучать данные, сохраненные в `.rcf` файле.\n",
    "\n",
    "(Извиняюсь за смесь русского и английского в комментариях)\n"
   ]
  },
  {
   "cell_type": "code",
   "execution_count": 58,
   "metadata": {
    "collapsed": true
   },
   "outputs": [],
   "source": [
    "# takes filename\n",
    "# open file, read binary data\n",
    "# returns numpy.array of impulses (positive integer)\n",
    "# and pauses (negative integer)\n",
    "def file_to_data(filename):\n",
    "    pic = open(filename, \"rb\")\n",
    "    data = []\n",
    "    while True:\n",
    "        buf = pic.read(4)\n",
    "        if not buf or len(buf) != 4:\n",
    "            break\n",
    "        sign = 1 if buf[3] == 1 else -1\n",
    "        buf = bytes(buf[:3] + bytes([0]))\n",
    "        data.append(sign * struct.unpack('i', buf)[0])\n",
    "    return np.array(data)\n",
    "\n",
    "# takes files' mask\n",
    "# returns numpy.array of data\n",
    "def files_to_data(mask):\n",
    "    # откуда брать дампы\n",
    "    filenames = glob.glob(mask)\n",
    "    \n",
    "    print(\"%d files found\" % len(filenames))\n",
    "\n",
    "    datas = []\n",
    "\n",
    "    # посмотрим файлики с дампами, преобразуем в импульсы\n",
    "    for name in filenames:\n",
    "        datas.append(file_to_data(name))\n",
    "\n",
    "    return np.concatenate(datas)\n"
   ]
  },
  {
   "cell_type": "code",
   "execution_count": 92,
   "metadata": {},
   "outputs": [
    {
     "name": "stdout",
     "output_type": "stream",
     "text": [
      "1 files found\n"
     ]
    }
   ],
   "source": [
    "# читаем информацию\n",
    "data = files_to_data(\"./dump-all-0107-165058-001.rcf\")"
   ]
  },
  {
   "cell_type": "markdown",
   "metadata": {},
   "source": [
    "Посмотрим на гистограммы длин импульсов и пауз"
   ]
  },
  {
   "cell_type": "code",
   "execution_count": 93,
   "metadata": {
    "collapsed": true
   },
   "outputs": [],
   "source": [
    "# show histogramm of lengthes\n",
    "# ignore lengthes that is greater than (1 - threshold) quantile\n",
    "def show_hist(data, title, threshold=0.02):\n",
    "    k = int(len(data) * (1 - threshold))\n",
    "    data = np.partition(data, k)[:k]\n",
    "    \n",
    "    plt.hist(data, bins = 100)\n",
    "    plt.title(title)\n",
    "    plt.xlim([0, data.max() * 1.1])\n",
    "    plt.show()"
   ]
  },
  {
   "cell_type": "code",
   "execution_count": 94,
   "metadata": {},
   "outputs": [
    {
     "data": {
      "image/png": "[encoded data removed]",
      "text/plain": [
       "<matplotlib.figure.Figure at 0x7fd2b8a67898>"
      ]
     },
     "metadata": {},
     "output_type": "display_data"
    },
    {
     "data": {
      "image/png": "[encoded data removed]",
      "text/plain": [
       "<matplotlib.figure.Figure at 0x7fd2f6505390>"
      ]
     },
     "metadata": {},
     "output_type": "display_data"
    }
   ],
   "source": [
    "show_hist(data[data > 0], \"Pulses\", threshold=0.1)\n",
    "show_hist(-data[data < 0], \"Pauses\", threshold=0.02) # обращаем внимание на непримечательный пик справа"
   ]
  },
  {
   "cell_type": "markdown",
   "metadata": {},
   "source": [
    "Немножко удобной автоматики для группирования сигналов по длинам"
   ]
  },
  {
   "cell_type": "code",
   "execution_count": 99,
   "metadata": {},
   "outputs": [
    {
     "name": "stdout",
     "output_type": "stream",
     "text": [
      "(letter, lower, upper, count)\n",
      "('A', 1, 575, 109)\n",
      "('a', -618, -1, 187)\n",
      "('B', 1034, 1308, 153)\n",
      "('b', -1420, -1171, 72)\n",
      "('c', -12729, -12547, 8)\n"
     ]
    }
   ],
   "source": [
    "# data - list of signals\n",
    "# threshold - length of minimal distance between clusters\n",
    "# threshold_count - minimal count of signals in group\n",
    "# output format list of such structures \n",
    "# (letter, lower, upper, count) giving information about group\n",
    "def clusterize_signals(data, threshold = 100, threshold_count = 10):\n",
    "    groups = []\n",
    "\n",
    "    for signals in (data[data > 0], data[data < 0]):\n",
    "        # clasterization from scipy\n",
    "        signals_color = hac.fclusterdata(X = np.matrix([signals]).T, \n",
    "                                  criterion='distance', t = threshold)\n",
    "        for i in range(1, 10000):\n",
    "            group = signals[signals_color == i]\n",
    "            if (len(group) == 0):\n",
    "                break\n",
    "            bounds = (abs(int(group.mean())), group.min(), group.max(), len(group))\n",
    "            if len(group) > threshold_count:\n",
    "                groups.append(bounds)\n",
    "\n",
    "    groups = sorted(groups)\n",
    "\n",
    "    cur_impulse_code = ord('A')\n",
    "    cur_pause_code = ord('a')\n",
    "\n",
    "    for i in range(len(groups)):\n",
    "        mean, lower, upper, count = groups[i]\n",
    "        code = 0\n",
    "        if (lower > 0):\n",
    "            code = cur_impulse_code\n",
    "            cur_impulse_code += 1\n",
    "            groups[i] = (chr(code), \n",
    "                         max(1, int(lower - threshold / 3)), \n",
    "                         int(upper + threshold / 3), \n",
    "                         count)\n",
    "        else:\n",
    "            code = cur_pause_code\n",
    "            cur_pause_code += 1\n",
    "            groups[i] = (chr(code), \n",
    "                         int(lower - threshold / 3), \n",
    "                         min(int(upper + threshold / 3), -1), \n",
    "                         count)\n",
    "    return groups\n",
    "\n",
    "# делаем группы\n",
    "groups = clusterize_signals(data, threshold = 200, threshold_count = 7)\n",
    "print(\"(letter, lower, upper, count)\")\n",
    "print(\"\\n\".join(map(str, groups)))"
   ]
  },
  {
   "cell_type": "markdown",
   "metadata": {},
   "source": [
    "Получили группы сигналов"
   ]
  },
  {
   "cell_type": "code",
   "execution_count": 100,
   "metadata": {},
   "outputs": [
    {
     "data": {
      "text/plain": [
       "[('A', 1, 575, 109),\n",
       " ('a', -618, -1, 187),\n",
       " ('B', 1034, 1308, 153),\n",
       " ('b', -1420, -1171, 72),\n",
       " ('c', -12729, -12547, 8)]"
      ]
     },
     "execution_count": 100,
     "metadata": {},
     "output_type": "execute_result"
    }
   ],
   "source": [
    "\n",
    "\n",
    "# в общем случае стоит посмотреть глазами на группы сигналов и выделить нужные\n",
    "groups = list(filter(lambda x: x[0] in {'A', 'B', 'a', 'b', 'c', 'd'}, groups))\n",
    "groups"
   ]
  },
  {
   "cell_type": "code",
   "execution_count": null,
   "metadata": {
    "collapsed": true
   },
   "outputs": [],
   "source": []
  },
  {
   "cell_type": "code",
   "execution_count": 101,
   "metadata": {},
   "outputs": [
    {
     "data": {
      "text/html": [
       "<div>\n",
       "<style>\n",
       "    .dataframe thead tr:only-child th {\n",
       "        text-align: right;\n",
       "    }\n",
       "\n",
       "    .dataframe thead th {\n",
       "        text-align: left;\n",
       "    }\n",
       "\n",
       "    .dataframe tbody tr th {\n",
       "        vertical-align: top;\n",
       "    }\n",
       "</style>\n",
       "<table border=\"1\" class=\"dataframe\">\n",
       "  <thead>\n",
       "    <tr style=\"text-align: right;\">\n",
       "      <th></th>\n",
       "      <th>Lower length</th>\n",
       "      <th>Type</th>\n",
       "      <th>Upper length</th>\n",
       "      <th>count of signals</th>\n",
       "    </tr>\n",
       "  </thead>\n",
       "  <tbody>\n",
       "    <tr>\n",
       "      <th>A</th>\n",
       "      <td>1</td>\n",
       "      <td>impulse</td>\n",
       "      <td>575</td>\n",
       "      <td>109</td>\n",
       "    </tr>\n",
       "    <tr>\n",
       "      <th>B</th>\n",
       "      <td>1034</td>\n",
       "      <td>impulse</td>\n",
       "      <td>1308</td>\n",
       "      <td>153</td>\n",
       "    </tr>\n",
       "    <tr>\n",
       "      <th>a</th>\n",
       "      <td>-618</td>\n",
       "      <td>pause</td>\n",
       "      <td>-1</td>\n",
       "      <td>187</td>\n",
       "    </tr>\n",
       "    <tr>\n",
       "      <th>b</th>\n",
       "      <td>-1420</td>\n",
       "      <td>pause</td>\n",
       "      <td>-1171</td>\n",
       "      <td>72</td>\n",
       "    </tr>\n",
       "    <tr>\n",
       "      <th>c</th>\n",
       "      <td>-12729</td>\n",
       "      <td>pause</td>\n",
       "      <td>-12547</td>\n",
       "      <td>8</td>\n",
       "    </tr>\n",
       "  </tbody>\n",
       "</table>\n",
       "</div>"
      ],
      "text/plain": [
       "   Lower length     Type  Upper length  count of signals\n",
       "A             1  impulse           575               109\n",
       "B          1034  impulse          1308               153\n",
       "a          -618    pause            -1               187\n",
       "b         -1420    pause         -1171                72\n",
       "c        -12729    pause        -12547                 8"
      ]
     },
     "execution_count": 101,
     "metadata": {},
     "output_type": "execute_result"
    }
   ],
   "source": [
    "# All the same but in a table\n",
    "data_frame = pandas.DataFrame([(lower, upper, count) for letter, lower, upper, count in groups], \n",
    "                              index=[letter for letter, lower, upper, count in groups],\n",
    "            \n",
    "                              columns=['Lower length', 'Upper length', 'count of signals'])\n",
    "data_frame.insert(1, \"Type\", [\"impulse\" if lower > 0 else \"pause\" for c, lower, upper, count in groups])\n",
    "data_frame = data_frame.sort_index()\n",
    "#data_frame = data_frame.pivot_table(index='Letter')\n",
    "data_frame"
   ]
  },
  {
   "cell_type": "markdown",
   "metadata": {},
   "source": [
    "Заменим каждый сигнал буквой, обозначающей его группу. Так зачастую удобнее"
   ]
  },
  {
   "cell_type": "code",
   "execution_count": 102,
   "metadata": {
    "scrolled": true
   },
   "outputs": [
    {
     "name": "stdout",
     "output_type": "stream",
     "text": [
      "Decoded (characters):  ?aBaBaBaBaBaBaBaAbAbBaAbBaBaAbBaBaAbAbBaAbAbAcBaBaBaBaBaBaBaBaBaBaAbAbBaAbBaBaAbBaBaAbAbBaAbAbA?AaAaaaAaAaAaAaAaAa?a?cBaBaBaBaBaBaBaBaBaBaAbAbBaAbBaBaAbBaBaAbAbBaAbAbAcBaBaBaBaBaBaBaBaBaBaAbAbBaAbBaBaAbBaBaAbAbBaAbAbAcBaBaBaBaBaBaBaBaBaBaAbAbBaAbBaBaAbBaA?AaAaAaAaAa??BaBaBaBaBaBaBaBaBaBaAbAbBaAbBaBaAbBaBaAbAbBaAbAbAcBaBaBaBaBaBaBaBaBaBaAbAbBaAbBaBaAbBaBaAbAbBaAbAbAcBaBaBaBaBaBaBaBaBaBaAbAbBaAbBaBaAbBaA?A?AaAaAaAaAaAaAaa?Aa?a?cBaBaBaBaBaBaBaBaBaBaAbAbBaAbBaBaAbBaBaAbAbBaAbAbAcBaBaBaBaBaBaBaBaBaBaAbAbBaAbBaBaAbBaBaAbAbBaAbAbA?AaAaAaAaAa?a?a\n"
     ]
    }
   ],
   "source": [
    "# finds signal in groups\n",
    "# returns a corresponding letter\n",
    "def decode_signal(x, groups):\n",
    "    for c, lower, upper, group in groups:\n",
    "        if lower <= x <= upper:\n",
    "            return c\n",
    "    return \"?\"\n",
    "\n",
    "# decode list of signals\n",
    "# each signal is decoded separately\n",
    "def decode_signals(data, groups):\n",
    "    return [decode_signal(signal, groups) for signal in data]\n",
    "\n",
    "\n",
    "# decoded signals\n",
    "data_letters = decode_signals(data, groups)\n",
    "\n",
    "data_letters = [c if c != \"d\" else 'c' for c in data_letters]\n",
    "\n",
    "print(\"Decoded (characters): \", \"\".join(data_letters))\n",
    "    "
   ]
  },
  {
   "cell_type": "markdown",
   "metadata": {},
   "source": [
    "Символ 'c' на порядок реже встречается и кажется разделителем. Поделим по нему."
   ]
  },
  {
   "cell_type": "code",
   "execution_count": 103,
   "metadata": {},
   "outputs": [
    {
     "name": "stdout",
     "output_type": "stream",
     "text": [
      "?aBaBaBaBaBaBaBaAbAbBaAbBaBaAbBaBaAbAbBaAbAbA\n",
      "BaBaBaBaBaBaBaBaBaBaAbAbBaAbBaBaAbBaBaAbAbBaAbAbA?AaAaaaAaAaAaAaAaAa?a?\n",
      "BaBaBaBaBaBaBaBaBaBaAbAbBaAbBaBaAbBaBaAbAbBaAbAbA\n",
      "BaBaBaBaBaBaBaBaBaBaAbAbBaAbBaBaAbBaBaAbAbBaAbAbA\n",
      "BaBaBaBaBaBaBaBaBaBaAbAbBaAbBaBaAbBaA?AaAaAaAaAa??BaBaBaBaBaBaBaBaBaBaAbAbBaAbBaBaAbBaBaAbAbBaAbAbA\n",
      "BaBaBaBaBaBaBaBaBaBaAbAbBaAbBaBaAbBaBaAbAbBaAbAbA\n",
      "BaBaBaBaBaBaBaBaBaBaAbAbBaAbBaBaAbBaA?A?AaAaAaAaAaAaAaa?Aa?a?\n",
      "BaBaBaBaBaBaBaBaBaBaAbAbBaAbBaBaAbBaBaAbAbBaAbAbA\n",
      "BaBaBaBaBaBaBaBaBaBaAbAbBaAbBaBaAbBaBaAbAbBaAbAbA?AaAaAaAaAa?a?a\n"
     ]
    },
    {
     "data": {
      "text/plain": [
       "Counter({'?aBaBaBaBaBaBaBaAbAbBaAbBaBaAbBaBaAbAbBaAbAbA': 1,\n",
       "         'BaBaBaBaBaBaBaBaBaBaAbAbBaAbBaBaAbBaA?A?AaAaAaAaAaAaAaa?Aa?a?': 1,\n",
       "         'BaBaBaBaBaBaBaBaBaBaAbAbBaAbBaBaAbBaA?AaAaAaAaAa??BaBaBaBaBaBaBaBaBaBaAbAbBaAbBaBaAbBaBaAbAbBaAbAbA': 1,\n",
       "         'BaBaBaBaBaBaBaBaBaBaAbAbBaAbBaBaAbBaBaAbAbBaAbAbA': 4,\n",
       "         'BaBaBaBaBaBaBaBaBaBaAbAbBaAbBaBaAbBaBaAbAbBaAbAbA?AaAaAaAaAa?a?a': 1,\n",
       "         'BaBaBaBaBaBaBaBaBaBaAbAbBaAbBaBaAbBaBaAbAbBaAbAbA?AaAaaaAaAaAaAaAaAa?a?': 1})"
      ]
     },
     "execution_count": 103,
     "metadata": {},
     "output_type": "execute_result"
    }
   ],
   "source": [
    "print(\"\\n\".join((\"\".join(data_letters).split(\"c\"))))\n",
    "Counter(\"\".join(data_letters).split(\"c\"))"
   ]
  },
  {
   "cell_type": "markdown",
   "metadata": {},
   "source": [
    "Есть два пакета, повторившиеся много раз.\n",
    "\n",
    "Дальше можно сделать еще несколько наблюдений, описанных в основной статье. А можно сразу делать все по даташиту."
   ]
  },
  {
   "cell_type": "markdown",
   "metadata": {},
   "source": [
    "Смотрим в даташит и видим, что `'Ac'` - импульс и длинная пауза - это преамбула. А `'Ab'` и `'Ba'` задают 0 и 1."
   ]
  },
  {
   "cell_type": "code",
   "execution_count": 106,
   "metadata": {},
   "outputs": [
    {
     "name": "stdout",
     "output_type": "stream",
     "text": [
      "?a111111100101101100100AP111111111100101101100100A?AaAaaaAaAaAaAaAaAa?a?P111111111100101101100100AP111111111100101101100100AP111111111100101101A?AaAaAaAaAa??111111111100101101100100AP111111111100101101100100AP111111111100101101A?A?AaAaAaAaAaAaAaa?Aa?a?P111111111100101101100100AP111111111100101101100\n"
     ]
    }
   ],
   "source": [
    "# заменим пары символов на их смысл\n",
    "data_1 = \"\".join(data_letters).replace('c', 'P').replace('Ab', '0').replace('Ba', '1')\n",
    "print(data_1[:300])"
   ]
  },
  {
   "cell_type": "markdown",
   "metadata": {},
   "source": [
    "Здесь уже хорошо видно периодичные 'P'-шки. Поделим всю строку на пакеты."
   ]
  },
  {
   "cell_type": "code",
   "execution_count": 108,
   "metadata": {},
   "outputs": [
    {
     "name": "stdout",
     "output_type": "stream",
     "text": [
      "['111111111100101101100100A', '111111111100101101100100A', '111111111100101101100100A', '111111111100101101100100A', '111111111100101101100100A', '111111111100101101100100A', '111111111100101101100100A']\n"
     ]
    },
    {
     "data": {
      "text/plain": [
       "Counter({'111111111100101101100100A': 7})"
      ]
     },
     "execution_count": 108,
     "metadata": {},
     "output_type": "execute_result"
    }
   ],
   "source": [
    "data = list(filter(lambda x: len(x) > 23, [x for y in data_1.split('?') for x in y.split('P') ]))\n",
    "print(data)\n",
    "Counter(data)"
   ]
  },
  {
   "cell_type": "markdown",
   "metadata": {},
   "source": [
    "Видим, что подряд идет помногу одинаковых пакетов. В снятых мною дампах это сигналы от датчика движения при двух разных конфигурациях джамперов"
   ]
  },
  {
   "cell_type": "code",
   "execution_count": 109,
   "metadata": {},
   "outputs": [
    {
     "ename": "ValueError",
     "evalue": "invalid literal for int() with base 2: '0100A'",
     "output_type": "error",
     "traceback": [
      "\u001b[0;31m---------------------------------------------------------------------------\u001b[0m",
      "\u001b[0;31mValueError\u001b[0m                                Traceback (most recent call last)",
      "\u001b[0;32m<ipython-input-109-61ca190f8803>\u001b[0m in \u001b[0;36m<module>\u001b[0;34m()\u001b[0m\n\u001b[1;32m      4\u001b[0m \u001b[0;34m\u001b[0m\u001b[0m\n\u001b[1;32m      5\u001b[0m \u001b[0;31m# разделяем на непосредственно сообщение и флаги D0-D3\u001b[0m\u001b[0;34m\u001b[0m\u001b[0;34m\u001b[0m\u001b[0m\n\u001b[0;32m----> 6\u001b[0;31m \u001b[0mdata_pairs\u001b[0m \u001b[0;34m=\u001b[0m \u001b[0mlist\u001b[0m\u001b[0;34m(\u001b[0m\u001b[0mmap\u001b[0m\u001b[0;34m(\u001b[0m\u001b[0;32mlambda\u001b[0m \u001b[0mx\u001b[0m\u001b[0;34m:\u001b[0m \u001b[0mMessage\u001b[0m\u001b[0;34m(\u001b[0m\u001b[0mint\u001b[0m\u001b[0;34m(\u001b[0m\u001b[0mx\u001b[0m\u001b[0;34m[\u001b[0m\u001b[0;34m:\u001b[0m\u001b[0;36m20\u001b[0m\u001b[0;34m]\u001b[0m\u001b[0;34m[\u001b[0m\u001b[0;34m:\u001b[0m\u001b[0;34m:\u001b[0m\u001b[0;34m-\u001b[0m\u001b[0;36m1\u001b[0m\u001b[0;34m]\u001b[0m\u001b[0;34m,\u001b[0m \u001b[0;36m2\u001b[0m\u001b[0;34m)\u001b[0m\u001b[0;34m,\u001b[0m \u001b[0mint\u001b[0m\u001b[0;34m(\u001b[0m\u001b[0mx\u001b[0m\u001b[0;34m[\u001b[0m\u001b[0;36m20\u001b[0m\u001b[0;34m:\u001b[0m\u001b[0;34m]\u001b[0m\u001b[0;34m,\u001b[0m \u001b[0;36m2\u001b[0m\u001b[0;34m)\u001b[0m\u001b[0;34m)\u001b[0m\u001b[0;34m,\u001b[0m \u001b[0mdata\u001b[0m\u001b[0;34m)\u001b[0m\u001b[0;34m)\u001b[0m\u001b[0;34m\u001b[0m\u001b[0m\n\u001b[0m\u001b[1;32m      7\u001b[0m \u001b[0mprint\u001b[0m\u001b[0;34m(\u001b[0m\u001b[0mdata_pairs\u001b[0m\u001b[0;34m)\u001b[0m\u001b[0;34m\u001b[0m\u001b[0m\n\u001b[1;32m      8\u001b[0m \u001b[0;34m\u001b[0m\u001b[0m\n",
      "\u001b[0;32m<ipython-input-109-61ca190f8803>\u001b[0m in \u001b[0;36m<lambda>\u001b[0;34m(x)\u001b[0m\n\u001b[1;32m      4\u001b[0m \u001b[0;34m\u001b[0m\u001b[0m\n\u001b[1;32m      5\u001b[0m \u001b[0;31m# разделяем на непосредственно сообщение и флаги D0-D3\u001b[0m\u001b[0;34m\u001b[0m\u001b[0;34m\u001b[0m\u001b[0m\n\u001b[0;32m----> 6\u001b[0;31m \u001b[0mdata_pairs\u001b[0m \u001b[0;34m=\u001b[0m \u001b[0mlist\u001b[0m\u001b[0;34m(\u001b[0m\u001b[0mmap\u001b[0m\u001b[0;34m(\u001b[0m\u001b[0;32mlambda\u001b[0m \u001b[0mx\u001b[0m\u001b[0;34m:\u001b[0m \u001b[0mMessage\u001b[0m\u001b[0;34m(\u001b[0m\u001b[0mint\u001b[0m\u001b[0;34m(\u001b[0m\u001b[0mx\u001b[0m\u001b[0;34m[\u001b[0m\u001b[0;34m:\u001b[0m\u001b[0;36m20\u001b[0m\u001b[0;34m]\u001b[0m\u001b[0;34m[\u001b[0m\u001b[0;34m:\u001b[0m\u001b[0;34m:\u001b[0m\u001b[0;34m-\u001b[0m\u001b[0;36m1\u001b[0m\u001b[0;34m]\u001b[0m\u001b[0;34m,\u001b[0m \u001b[0;36m2\u001b[0m\u001b[0;34m)\u001b[0m\u001b[0;34m,\u001b[0m \u001b[0mint\u001b[0m\u001b[0;34m(\u001b[0m\u001b[0mx\u001b[0m\u001b[0;34m[\u001b[0m\u001b[0;36m20\u001b[0m\u001b[0;34m:\u001b[0m\u001b[0;34m]\u001b[0m\u001b[0;34m,\u001b[0m \u001b[0;36m2\u001b[0m\u001b[0;34m)\u001b[0m\u001b[0;34m)\u001b[0m\u001b[0;34m,\u001b[0m \u001b[0mdata\u001b[0m\u001b[0;34m)\u001b[0m\u001b[0;34m)\u001b[0m\u001b[0;34m\u001b[0m\u001b[0m\n\u001b[0m\u001b[1;32m      7\u001b[0m \u001b[0mprint\u001b[0m\u001b[0;34m(\u001b[0m\u001b[0mdata_pairs\u001b[0m\u001b[0;34m)\u001b[0m\u001b[0;34m\u001b[0m\u001b[0m\n\u001b[1;32m      8\u001b[0m \u001b[0;34m\u001b[0m\u001b[0m\n",
      "\u001b[0;31mValueError\u001b[0m: invalid literal for int() with base 2: '0100A'"
     ]
    }
   ],
   "source": [
    "# именнованый кортеж, для более понятного вывода\n",
    "from collections import namedtuple\n",
    "Message = namedtuple('HSMessage', 'data channel')\n",
    "\n",
    "# разделяем на непосредственно сообщение и флаги D0-D3\n",
    "data_pairs = list(map(lambda x: Message(int(x[:20][::-1], 2), int(x[20:], 2)), data))\n",
    "print(data_pairs)\n",
    "\n",
    "# или в 16-ричной, если вам так больше нравится\n",
    "data_pairs16 = list(map(lambda x: Message(hex(x[0]), hex(x[1])), data_pairs))\n",
    "print(data_pairs16)\n"
   ]
  },
  {
   "cell_type": "markdown",
   "metadata": {},
   "source": [
    "Готово!"
   ]
  }
 ],
 "metadata": {
  "kernelspec": {
   "display_name": "Python 3",
   "language": "python",
   "name": "python3"
  },
  "language_info": {
   "codemirror_mode": {
    "name": "ipython",
    "version": 3
   },
   "file_extension": ".py",
   "mimetype": "text/x-python",
   "name": "python",
   "nbconvert_exporter": "python",
   "pygments_lexer": "ipython3",
   "version": "3.5.2"
  }
 },
 "nbformat": 4,
 "nbformat_minor": 1
}
