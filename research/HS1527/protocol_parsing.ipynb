{
 "cells": [
  {
   "cell_type": "code",
   "execution_count": 4,
   "metadata": {
    "collapsed": true
   },
   "outputs": [],
   "source": [
    "import numpy as np\n",
    "import matplotlib.pyplot as plt\n",
    "import matplotlib as mpl\n",
    "import scipy.cluster.hierarchy as hac\n",
    "\n",
    "import pandas\n",
    "\n",
    "import glob\n",
    "import struct\n",
    "from collections import Counter"
   ]
  },
  {
   "cell_type": "markdown",
   "metadata": {},
   "source": [
    "# Расшифровка протокола беспроводного устройства\n",
    "\n",
    "# на примере датчика движения PA-92R"
   ]
  },
  {
   "cell_type": "markdown",
   "metadata": {
    "collapsed": true
   },
   "source": [
    "Как помочь нам разобрать протокол?\n",
    "\n",
    "Вот пример как это делается в простом случае.\n",
    "\n",
    "Есть устройство на чипе HS1527 и к нему даже нашелся datasheet: http://sc-tech.cn/en/hs1527.pdf\n",
    "\n",
    "Есть Wiren Board c rfsniffer. Первое что мы делаем, записываем дамп. \n",
    "\n",
    "`{some path}/wb-homa-rfsniffer -W`\n",
    "\n",
    "Когда запись произойдет, останавливаем программу и начинаем изучать данные, сохраненные в `.rcf` файле.\n",
    "\n",
    "(Извиняюсь за смесь русского и английского в комментариях)\n"
   ]
  },
  {
   "cell_type": "code",
   "execution_count": 5,
   "metadata": {
    "collapsed": true
   },
   "outputs": [],
   "source": [
    "# takes filename\n",
    "# open file, read binary data\n",
    "# returns numpy.array of impulses (positive integer)\n",
    "# and pauses (negative integer)\n",
    "def file_to_data(filename):\n",
    "    pic = open(filename, \"rb\")\n",
    "    data = []\n",
    "    while True:\n",
    "        buf = pic.read(4)\n",
    "        if not buf or len(buf) != 4:\n",
    "            break\n",
    "        sign = 1 if buf[3] == 1 else -1\n",
    "        buf = bytes(buf[:3] + bytes([0]))\n",
    "        data.append(sign * struct.unpack('i', buf)[0])\n",
    "    return np.array(data)\n",
    "\n",
    "# takes files' mask\n",
    "# returns numpy.array of data\n",
    "def files_to_data(mask):\n",
    "    # откуда брать дампы\n",
    "    filenames = glob.glob(mask)\n",
    "    \n",
    "    print(\"%d files found\" % len(filenames))\n",
    "\n",
    "    datas = []\n",
    "\n",
    "    # посмотрим файлики с дампами, преобразуем в импульсы\n",
    "    for name in filenames:\n",
    "        datas.append(file_to_data(name))\n",
    "\n",
    "    return np.concatenate(datas)\n"
   ]
  },
  {
   "cell_type": "code",
   "execution_count": 6,
   "metadata": {},
   "outputs": [
    {
     "name": "stdout",
     "output_type": "stream",
     "text": [
      "2 files found\n"
     ]
    }
   ],
   "source": [
    "# читаем информацию\n",
    "data = files_to_data(\"./*.rcf\")"
   ]
  },
  {
   "cell_type": "markdown",
   "metadata": {},
   "source": [
    "Посмотрим на гистограммы длин импульсов и пауз"
   ]
  },
  {
   "cell_type": "code",
   "execution_count": 17,
   "metadata": {
    "collapsed": true
   },
   "outputs": [],
   "source": [
    "# show histogramm of lengthes\n",
    "# ignore lengthes that is greater than (1 - threshold) quantile\n",
    "def show_hist(data, title, threshold=0.02):\n",
    "    k = int(len(data) * (1 - threshold))\n",
    "    data = np.partition(data, k)[:k]\n",
    "    \n",
    "    plt.hist(data, bins = 100)\n",
    "    plt.title(title)\n",
    "    plt.xlim([0, data.max() * 1.1])\n",
    "    plt.show()"
   ]
  },
  {
   "cell_type": "code",
   "execution_count": 18,
   "metadata": {},
   "outputs": [
    {
     "data": {
      "image/png": "[encoded data removed]",
      "text/plain": [
       "<matplotlib.figure.Figure at 0x7f84e30cdf28>"
      ]
     },
     "metadata": {},
     "output_type": "display_data"
    },
    {
     "data": {
      "image/png": "[encoded data removed]",
      "text/plain": [
       "<matplotlib.figure.Figure at 0x7f84e2b13eb8>"
      ]
     },
     "metadata": {},
     "output_type": "display_data"
    }
   ],
   "source": [
    "show_hist(data[data > 0], \"Pulses\", threshold=0.1)\n",
    "show_hist(-data[data < 0], \"Pauses\", threshold=0.02) # обращаем внимание на непримечательный пик справа"
   ]
  },
  {
   "cell_type": "markdown",
   "metadata": {},
   "source": [
    "Немножко удобной автоматики для группирования сигналов по длинам"
   ]
  },
  {
   "cell_type": "code",
   "execution_count": 19,
   "metadata": {},
   "outputs": [
    {
     "name": "stdout",
     "output_type": "stream",
     "text": [
      "(letter, lower, upper, count)\n",
      "('A', 1, 917, 2869)\n",
      "('a', -563, -1, 2014)\n",
      "('B', 985, 1295, 1794)\n",
      "('b', -1403, -1110, 2514)\n",
      "('c', -12727, -12441, 179)\n"
     ]
    }
   ],
   "source": [
    "# data - list of signals\n",
    "# threshold - length of minimal distance between clusters\n",
    "# threshold_count - minimal count of signals in group\n",
    "# output format list of such structures \n",
    "# (letter, lower, upper, count) giving information about group\n",
    "def clusterize_signals(data, threshold = 100, threshold_count = 10):\n",
    "    groups = []\n",
    "\n",
    "    for signals in (data[data > 0], data[data < 0]):\n",
    "        # clasterization from scipy\n",
    "        signals_color = hac.fclusterdata(X = np.matrix([signals]).T, \n",
    "                                  criterion='distance', t = threshold)\n",
    "        for i in range(1, 10000):\n",
    "            group = signals[signals_color == i]\n",
    "            if (len(group) == 0):\n",
    "                break\n",
    "            bounds = (abs(int(group.mean())), group.min(), group.max(), len(group))\n",
    "            if len(group) > threshold_count:\n",
    "                groups.append(bounds)\n",
    "\n",
    "    groups = sorted(groups)\n",
    "\n",
    "    cur_impulse_code = ord('A')\n",
    "    cur_pause_code = ord('a')\n",
    "\n",
    "    for i in range(len(groups)):\n",
    "        mean, lower, upper, count = groups[i]\n",
    "        code = 0\n",
    "        if (lower > 0):\n",
    "            code = cur_impulse_code\n",
    "            cur_impulse_code += 1\n",
    "            groups[i] = (chr(code), \n",
    "                         max(1, int(lower - threshold / 3)), \n",
    "                         int(upper + threshold / 3), \n",
    "                         count)\n",
    "        else:\n",
    "            code = cur_pause_code\n",
    "            cur_pause_code += 1\n",
    "            groups[i] = (chr(code), \n",
    "                         int(lower - threshold / 3), \n",
    "                         min(int(upper + threshold / 3), -1), \n",
    "                         count)\n",
    "    return groups\n",
    "\n",
    "# делаем группы\n",
    "groups = clusterize_signals(data, threshold = 100, threshold_count = 15)\n",
    "print(\"(letter, lower, upper, count)\")\n",
    "print(\"\\n\".join(map(str, groups)))"
   ]
  },
  {
   "cell_type": "markdown",
   "metadata": {},
   "source": [
    "Получили группы сигналов"
   ]
  },
  {
   "cell_type": "code",
   "execution_count": 20,
   "metadata": {},
   "outputs": [
    {
     "data": {
      "text/plain": [
       "[('A', 1, 917, 2869),\n",
       " ('a', -563, -1, 2014),\n",
       " ('B', 985, 1295, 1794),\n",
       " ('b', -1403, -1110, 2514),\n",
       " ('c', -12727, -12441, 179)]"
      ]
     },
     "execution_count": 20,
     "metadata": {},
     "output_type": "execute_result"
    }
   ],
   "source": [
    "# в общем случае стоит посмотреть глазами на группы сигналов и выделить нужные\n",
    "groups = list(filter(lambda x: x[0] in {'A', 'B', 'a', 'b', 'c'}, groups))\n",
    "groups"
   ]
  },
  {
   "cell_type": "code",
   "execution_count": 21,
   "metadata": {},
   "outputs": [
    {
     "data": {
      "text/html": [
       "<div>\n",
       "<table border=\"1\" class=\"dataframe\">\n",
       "  <thead>\n",
       "    <tr style=\"text-align: right;\">\n",
       "      <th></th>\n",
       "      <th>Lower length</th>\n",
       "      <th>Type</th>\n",
       "      <th>Upper length</th>\n",
       "      <th>count of signals</th>\n",
       "    </tr>\n",
       "  </thead>\n",
       "  <tbody>\n",
       "    <tr>\n",
       "      <th>A</th>\n",
       "      <td>1</td>\n",
       "      <td>impulse</td>\n",
       "      <td>917</td>\n",
       "      <td>2869</td>\n",
       "    </tr>\n",
       "    <tr>\n",
       "      <th>B</th>\n",
       "      <td>985</td>\n",
       "      <td>impulse</td>\n",
       "      <td>1295</td>\n",
       "      <td>1794</td>\n",
       "    </tr>\n",
       "    <tr>\n",
       "      <th>a</th>\n",
       "      <td>-563</td>\n",
       "      <td>pause</td>\n",
       "      <td>-1</td>\n",
       "      <td>2014</td>\n",
       "    </tr>\n",
       "    <tr>\n",
       "      <th>b</th>\n",
       "      <td>-1403</td>\n",
       "      <td>pause</td>\n",
       "      <td>-1110</td>\n",
       "      <td>2514</td>\n",
       "    </tr>\n",
       "    <tr>\n",
       "      <th>c</th>\n",
       "      <td>-12727</td>\n",
       "      <td>pause</td>\n",
       "      <td>-12441</td>\n",
       "      <td>179</td>\n",
       "    </tr>\n",
       "  </tbody>\n",
       "</table>\n",
       "</div>"
      ],
      "text/plain": [
       "   Lower length     Type  Upper length  count of signals\n",
       "A             1  impulse           917              2869\n",
       "B           985  impulse          1295              1794\n",
       "a          -563    pause            -1              2014\n",
       "b         -1403    pause         -1110              2514\n",
       "c        -12727    pause        -12441               179"
      ]
     },
     "execution_count": 21,
     "metadata": {},
     "output_type": "execute_result"
    }
   ],
   "source": [
    "# All the same but in a table\n",
    "data_frame = pandas.DataFrame([(lower, upper, count) for letter, lower, upper, count in groups], \n",
    "                              index=[letter for letter, lower, upper, count in groups],\n",
    "            \n",
    "                              columns=['Lower length', 'Upper length', 'count of signals'])\n",
    "data_frame.insert(1, \"Type\", [\"impulse\" if lower > 0 else \"pause\" for c, lower, upper, count in groups])\n",
    "data_frame = data_frame.sort_index()\n",
    "#data_frame = data_frame.pivot_table(index='Letter')\n",
    "data_frame"
   ]
  },
  {
   "cell_type": "markdown",
   "metadata": {},
   "source": [
    "Заменим каждый сигнал буквой, обозначающей его группу. Так зачастую удобнее"
   ]
  },
  {
   "cell_type": "code",
   "execution_count": 22,
   "metadata": {
    "scrolled": true
   },
   "outputs": [
    {
     "name": "stdout",
     "output_type": "stream",
     "text": [
      "Decoded (characters):  ???aAbAbAbBaBaAbBaBaAbAbBaAbBaAbAbBaBaAbAcAbAbBaAbAbBaAbAbAbBaBaAbBaBaAbAbBaAbBaAbAbBaBaAbAcAbAbBaAbAbBaAbAbAbBaBaAbBaBaAbAbBaAbBaAbAbBaBaAbAcAbAbBaAbAbBaAbAbAbBaBaAbBaBaAbAbBaAbBaAbAbBaBaAbAcAbAbBaAbAbBaAbAbAbBaBaAbBaBaAbAbBaAbBaAbAbBaBaAbAcAbAbBaAbAbBaAbAbAbBaBaAbBaBaAbAbBaAbBaAbAbBaBaAbAcAbAbBaAbAbBaAbAbAbBaBaAbBaBaAbAbBaAbBaAbAbBaBaAbAcAbAbBaAbAbBaAbAbAbBaBaAbBaBaAbAbBaAbBaAbAbBaBaAbAcAbAbBaAbAbBaAbAbAbBaBaAbBaBaAbAbBaAbBaAbAbBaBaAbAcAbAbBaAbAbBaAbAbAbBaBaAbBaBaAbAbBaAbBaAbAbBaBaAbAcAbAbBaAbAbBaAbAbAbBaBaAbBaBaAbAbBaAbBaAbAbBaBaAbAcAbAbBaAbAbBaAbAbAbBaBaAbBaBaAbAbBaAbBaAbAbBaBaAbAcAbAbBaAbAbBaAbAbAbBaBaAbBaBaAbAbBaAbBaAbAbBaBaAbAcAbAbBaAbAbBaAbAbAbBaBaAbBaBaAbAbBaAbBaAbAbBaBaAbAcAbAbBaAbAbBaAbAbAbBaBaAbBaBaAbAbBaAbBaAbAbBaBaAbAcAbAbBaAbAbBaAbAbAbBaBaAbBaBaAbAbBaAbBaAbAbBaBaAbAcAbAbBaAbAbBaAbAbAbBaBaAbBaBaAbAbBaAbBaAbAbBaBaAbAcAbAbBaAbAbBaAbAbAbBaBaAbBaBaAbAbBaAbBaAbAbBaBaAbAcAbAbBaAbAbBaAbAbAbBaBaAbBaBaAbAbBaAbBaAbAbBaBaAbAcAbAbBaAbAbBaAbAbAbBaBaAbBaBaAbAbBaAbBaAbAbBaBaAbAcAbAbBaAbAbBaAbAbAbBaBaAbBaBaAbAbBaAbBaAbAbBaBaAbAcAbAbBaAbAbBaAbAbAbBaBaAbBaBaAbAbBaAbBaAbAbBaBaAbAcAbAbBaAbAbBaAbAbAbBaBaAbBaBaAbAbBaAbBaAbAbBaBaAbAcAbAbBaAbAbBaAbAbAbBaBaAbBaBaAbAbBaAbBaAbAbBaBaAbAcAbAbBaAbAbBaAbAbAbBaBaAbBaBaAbAbBaAbBaAbAbBaBaAbAcAbAbBaAbAbBaAbAbAbBaBaAbBaBaAbAbA?AAAaAaAaAaAaAa?a?a?aAaAaAaAa?aAa?a?a??AaAaAaaaAaAaAa?aAaAaAaAaAaAaAaAaAaAaAaAa?aAaAaAa??AaAaAaAa?a?a?a?aAaAaAaAaAaAaAa?aAaAaAaAaAAAaAaAa?a?aAaAaAaAaAaAaAaAaAaAa?a???a?aAa?aAaAa?aAa?aAaAa?a?a?cAbAbBaAbAbBaAbAbAbBaBaAbBaBaAbAbBaAbBaAbAbBaBaAbAcAbAbBaAbAbBaAbAbAbBaBaAbBaBaAbAbBaAbBaAbAbBaBaAbAcAbAbBaAbAbBaAbAbAbBaBaAbBaBaAbAbBaAbBaAbAbBaBaAbAcAbAbBaAbAbBaAbAbAbBaBaAbBaBaAbAbBaAbBaAbAbBaBaAbAcAbAbBaAbAbBaAbAbAbBaBaAbBaBaAbAbBaAbBaAbAbBaBaAbAcAbAbBaAbAbBaAbAbAbBaBaAbBaBaAbAbBaAbBaAbAbBaBaAbAcAbAbBaAbAbBaAbAbAbBaBaAbBaBaAbAbBaAbBaAbAbBaBaAbAcAbAbBaAbAbBaAbAbAbBaBaAbBaBaAbAbBaAbBaAbAbBaBaAbAcAbAbBaAbAbBaAbAbAbBaBaAbBaBaAbAbBaAbBaAbAbBaBaAbAcAbAbBaAbAbBaAbAbAbBaBaAbBaBaAbAbBaAbBaAbAbBaBaAbAcAbAbBaAbAbBaAbAbAbBaBaAbBaBaAbAbBaAbBaAbAbBaBaAbAcAbAbBaAbAbBaAbAbAbBaBaAbBaBaAbAbBaAbBaAbAbBaBaAbAcAbAbBaAbAbBaAbAbAbBaBaAbBaBaAbAbBaAbBaAbAbBaBaAbAcAbAbBaAbAbBaAbAbAbBaBaAbBaBaAbAbBaAbBaAbAbBaBaAbAcAbAbBaAbAbBaAbAbAbBaBaAbBaBaAbAbBaAbBaAbAbBaBaAbAcAbAbBaAbAbBaAbAbAbBaBaAbBaBaAbAbBaAbBaAbAbBaBaAbAcAbAbBaAbAbBaAbAbAbBaBaAbBaBaAbAbBaAbBaAbAbBaBaAbAcAbAbBaAbAbBaAbAbAbBaBaAbBaBaAbAbBaAbBaAbAbBaBaAbAcAbAbBaAbAbBaAbAbAbBaBaAbBaBaAbAbBaAbBaAbAbBaBaAbAcAbAbBaAbAbBaAbAbAbBaBaAbBaBaAbAbBaAbBaAbAbBaBaAbAcAbAbBaAbAbBaAbAbAbBaBaAbBaBaAbAbBaAbBaAbAbBaBaAbAcAbAbBaAbAbBaAbAbAbBaBaAbBaBaAbAbBaAbBaAbAbBaBaAbAcAbAbBaAbAbBaAbAbAbBaBaAbBaBaAbAbBaAbBaAbAbBaBaAbAcAbAbBaAbAbBaAbAbAbBaBaAbBaBaAbAbBaAbBaAbAbBaBaAbAcAbAbBaAbAbBaAbAbAbBaBaAbBaBaAbAbBaAbBaAbAbBaBaAbAcAbAbBaAbAbBaAbAbAbBaBaAbBaBaAbAbA?AaAaAaAaaaaaAAAaAaAaAa???a?a?a?a?a?a?aAaAaAaAaAaAa?aAaAaAaAaAaAaAaAa?aAaAaAaAAaab?AbAbBaAbAbBaAbAbAbBaBaAbBaBaAbAbBaAbBaAbAbBaBaAbAcAbAbBaAbAbBaAbAbAbBaBaAbBaBaAbAbBaAbBaAbAbBaBaAbAcAbAbBaAbAbBaAbAbAbBaBaAbBaBaAbAbBaAbBaAbAbBaBaAbAcAbAbBaAbAbBaAbAbAbBaBaAbBaBaAbAbBaAbBaAbAbBaBaAbAcAbAbBaAbAbBaAbAbAbBaBaAbBaBaAbAbBaAbBaAbAbBaBaAbAcAbAbBaAbAbBaAbAbAbBaBaAbBaBaAbAbBaAbBaAbAbBaBaAbAcAbAbBaAbAbBaAbAbAbBaBaAbBaBaAbAbBaAbBaAbAbBaBaAbAcAbAbBaAbAbBaAbAbAbBaBaAbBaBaAbAbBaAbBaAbAbBaBaAbAcAbAbBaAbAbBaAbAbAbBaBaAbBaBaAbAbBaAbBaAbAbBaBaAbAcAbAbBaAbAbBaAbAbAbBaBaAbBaBaAbAbBaAbBaAbAbBaBaAbAcAbAbBaAbAbBaAbAbAbBaBaAbBaBaAbAbBaAbBaAbAbBaBaAbAcAbAbBaAbAbBaAbAbAbBaBaAbBaBaAbAbBaAbBaAbAbBaBaAbAcAbAbBaAbAbBaAbAbAbBaBaAbBaBaAbAbBaAbBaAbAbBaBaAbAcAbAbBaAbAbBaAbAbAbBaBaAbBaBaAbAbBaAbBaAbAbBaBaAbAcAbAbBaAbAbBaAbAbAbBaBaAbBaBaAbAbBaAbBaAbAbBaBaAbAcAbAbBaAbAbBaAbAbAbBaBaAbBaBaAbAbBaAbBaAbAbBaBaAbAcAbAbBaAbAbBaAbAbAbBaBaAbBaBaAbAbBaAbBaAbAbBaBaAbAcAbAbBaAbAbBaAbAbAbBaBaAbBaBaAbAbBaAbBaAbAbBaBaAbAcAbAbBaAbAbBaAbAbAbBaBaAbBaBaAbAbBaAbBaAbAbBaBaAbAcAbAbBaAbAbBaAbAbAbBaBaAbBaBaAbAbBaAbBaAbAbBaBaAbAcAbAbBaAbAbBaAbAbAbBaBaAbBaBaAbAbBaAbBaAbAbBaBaAbAcAbAbBaAbAbBaAbAbAbBaBaAbBaBaAbAbBaAbBaAbAbBaBaAbAcAbAbBaAbAbBaAbAbAbBaBaAbBaBaAbAbBaAbBaAbAbBaBaAbAcAbAbBaAbAbBaAbAbAbBaBaAbBaBaAbAbBaAbBaAbAbBaBaAbAcAbAbBaAbAbBaAbAbAbBaBaAbBaBaAbAbBaAbBaAbAbBaBaAbAcAbAbBaAbAbBaAbAbAbBaBaAbBaBaAbAbA?A?AaAaAaAaAaAaAaAaAa?a?aAaAaAaAaAaaaAa?aAa?a?aBa?a?a?cAbAbBaAbAbBaAbAbAbBaBaAbBaBaAbAbBaAbBaAbAbBaBaAbAcAbAbBaAbAbBaAbAbAbBaBaAbBaBaAbAbBaAbBaAbAbBaBaAbAcAbAbBaAbAbBaAbAbAbBaBaAbBaBaAbAbBaAbBaAbAbBaBaAbAcAbAbBaAbAbBaAbAbAbBaBaAbBaBaAbAbBaAbBaAbAbBaBaAbAcAbAbBaAbAbBaAbAbAbBaBaAbBaBaAbAbBaAbBaAbAbBaBaAbAcAbAbBaAbAbBaAbAbAbBaBaAbBaBaAbAbBaAbBaAbAbBaBaAbAcAbAbBaAbAbBaAbAbAbBaBaAbBaBaAbAbBaAbBaAbAbBaBaAbAcAbAbBaAbAbBaAbAbAbBaBaAbBaBaAbAbBaAbBaAbAbBaBaAbAcAbAbBaAbAbBaAbAbAbBaBaAbBaBaAbAbBaAbBaAbAbBaBaAbAcAbAbBaAbAbBaAbAbAbBaBaAbBaBaAbAbBaAbBaAbAbBaBaAbAcAbAbBaAbAbBaAbAbAbBaBaAbBaBaAbAbBaAbBaAbAbBaBaAbAcAbAbBaAbAbBaAbAbAbBaBaAbBaBaAbAbBaAbBaAbAbBaBaAbAcAbAbBaAbAbBaAbAbAbBaBaAbBaBaAbAbBaAbBaAbAbBaBaAbAcAbAbBaAbAbBaAbAbAbBaBaAbBaBaAbAbBaAbBaAbAbBaBaAbAcAbAbBaAbAbBaAbAbAbBaBaAbBaBaAbAbBaAbBaAbAbBaBaAbAcAbAbBaAbAbBaAbAbAbBaBaAbBaBaAbAbBaAbBaAbAbBaBaAbAcAbAbBaAbAbBaAbAbAbBaBaAbBaBaAbAbBaAbBaAbAbBaBaAbAcAbAbBaAbAbBaAbAbAbBaBaAbBaBaAbAbBaAbBaAbAbBaBaAbAcAbAbBaAbAbBaAbAbAbBaBaAbBaBaAbAbBaAbBaAbAbBaBaAbAcAbAbBaAbAbBaAbAbAbBaBaAbBaBaAbAbBaAbBaAbAbBaBaAbAcAbAbBaAbAbBaAbAbAbBaBaAbBaBaAbAbBaAbBaAbAbBaBaAbAcAbAbBaAbAbBaAbAbAbBaBaAbBaBaAbAbBaAbBaAbAbBaBaAbAcAbAbBaAbAbBaAbAbAbBaBaAbBaBaAbAbBaAbBaAbAbBaBaAbAcAbAbBaAbAbBaAbAbAbBaBaAbBaBaAbAbBaAbBaAbAbBaBaAbAcAbAbBaAbAbBaAbAbAbBaBaAbBaBaAbAbBaAbBaAbAbBaBaAbAcAbAbBaAbAbBaAbAbAbBaBaAbBaBaAbAbA?AaAaAaAaAaAaAaBa??bBaAbAbAbBaBaAbBaBaAbAbBaAbBaAbBaAbBaAbAcAbAbBaAbAbBaAbAbAbBaBaAbBaBaAbAbBaAbBaAbBaAbBaAbAcAbAbBaAbAbBaAbAbAbBaBaAbBaBaAbAbBaAbBaAbBaAbBaAbAcAbAbBaAbAbBaAbAbAbBaBaAbBaBaAbAbBaAbBaAbBaAbBaAbAcAbAbBaAbAbBaAbAbAbBaBaAbBaBaAbAbBaAbBaAbBaAbBaAbAcAbAbBaAbAbBaAbAbAbBaBaAbBaBaAbAbBaAbBaAbBaAbBaAbAcAbAbBaAbAbBaAbAbAbBaBaAbBaBaAbAbBaAbBaAbBaAbBaAbAcAbAbBaAbAbBaAbAbAbBaBaAbBaBaAbAbBaAbBaAbBaAbBaAbAcAbAbBaAbAbBaAbAbAbBaBaAbBaBaAbAbBaAbBaAbBaAbBaAbAcAbAbBaAbAbBaAbAbAbBaBaAbBaBaAbAbBaAbBaAbBaAbBaAbAcAbAbBaAbAbBaAbAbAbBaBaAbBaBaAbAbBaAbBaAbBaAbBaAbAcAbAbBaAbAbBaAbAbAbBaBaAbBaBaAbAbBaAbBaAbBaAbBaAbAcAbAbBaAbAbBaAbAbAbBaBaAbBaBaAbAbBaAbBaAbBaAbBaAbAcAbAbBaAbAbBaAbAbAbBaBaAbBaBaAbAbBaAbBaAbBaAbBaAbAcAbAbBaAbAbBaAbAbAbBaBaAbBaBaAbAbBaAbBaAbBaAbBaAbAcAbAbBaAbAbBaAbAbAbBaBaAbBaBaAbAbBaAbBaAbBaAbBaAbAcAbAbBaAbAbBaAbAbAbBaBaAbBaBaAbAbBaAbBaAbBaAbBaAbAcAbAbBaAbAbBaAbAbAbBaBaAbBaBaAbAbBaAbBaAbBaAbBaAbAcAbAbBaAbAbBaAbAbAbBaBaAbBaBaAbAbBaAbBaAbBaAbBaAbAcAbAbBaAbAbBaAbAbAbBaBaAbBaBaAbAbBaAbBaAbBaAbBaAbAcAbAbBaAbAbBaAbAbAbBaBaAbBaBaAbAbBaAbBaAbBaAbBaAbAcAbAbBaAbAbBaAbAbAbBaBaAbBaBaAbAbBaAbBaAbBaAbBaAbAcAbAbBaAbAbBaAbAbAbBaBaAbBaBaAbAbBaAbBaAbBaAbBaAbAcAbAbBaAbAbBaAbAbAbBaBaAbBaBaAbAbBaAbBaAbBaAbBaAbAcAbAbBaAbAbBaAbAbAbBaBaAbBaBaAbAbBaAbBaAbBaAbBaAbAcAbAbBaAbAbBaAbAbAbBaBaAbBaBaAbAbBaA?AaAaAaAaAaAaAaAaAaa?Aa?aAaAaAaAaAaAaAaAaAaAa?a?cAbAbBaAbAbBaAbAbAbBaBaAbBaBaAbAbBaAbBaAbBaAbBaAbAcAbAbBaAbAbBaAbAbAbBaBaAbBaBaAbAbBaAbBaAbBaAbBaAbAcAbAbBaAbAbBaAbAbAbBaBaAbBaBaAbAbBaAbBaAbBaAbBaAbAcAbAbBaAbAbBaAbAbAbBaBaAbBaBaAbAbBaAbBaAbBaAbBaAbAcAbAbBaAbAbBaAbAbAbBaBaAbBaBaAbAbBaAbBaAbBaAbBaAbAcAbAbBaAbAbBaAbAbAbBaBaAbBaBaAbAbBaAbBaAbBaAbBaAbAcAbAbBaAbAbBaAbAbAbBaBaAbBaBaAbAbBaAbBaAbBaAbBaAbAcAbAbBaAbAbBaAbAbAbBaBaAbBaBaAbAbBaAbBaAbBaAbBaAbAcAbAbBaAbAbBaAbAbAbBaBaAbBaBaAbAbBaAbBaAbBaAbBaAbAcAbAbBaAbAbBaAbAbAbBaBaAbBaBaAbAbBaAbBaAbBaAbBaAbAcAbAbBaAbAbBaAbAbAbBaBaAbBaBaAbAbBaAbBaAbBaAbBaAbAcAbAbBaAbAbBaAbAbAbBaBaAbBaBaAbAbBaAbBaAbBaAbBaAbAcAbAbBaAbAbBaAbAbAbBaBaAbBaBaAbAbBaAbBaAbBaAbBaAbAcAbAbBaAbAbBaAbAbAbBaBaAbBaBaAbAbBaAbBaAbBaAbBaAbAcAbAbBaAbAbBaAbAbAbBaBaAbBaBaAbAbBaAbBaAbBaAbBaAbAcAbAbBaAbAbBaAbAbAbBaBaAbBaBaAbAbBaAbBaAbBaAbBaAbAcAbAbBaAbAbBaAbAbAbBaBaAbBaBaAbAbBaAbBaAbBaAbBaAbAcAbAbBaAbAbBaAbAbAbBaBaAbBaBaAbAbBaAbBaAbBaAbBaAbAcAbAbBaAbAbBaAbAbAbBaBaAbBaBaAbAbBaAbBaAbBaAbBaAbAcAbAbBaAbAbBaAbAbAbBaBaAbBaBaAbAbBaAbBaAbBaAbBaAbAcAbAbBaAbAbBaAbAbAbBaBaAbBaBaAbAbBaAbBaAbBaAbBaAbAcAbAbBaAbAbBaAbAbAbBaBaAbBaBaAbAbBaAbBaAbBaAbBaAbAcAbAbBaAbAbBaAbAbAbBaBaAbBaBaAbAbBaAbBaAbBaAbBaAbAcAbAbBaAbAbBaAbAbAbBaBaAbBaBaAbAbBaAbBaAbBaAbBaAbAcAbAbBaAbAbBaAbAbAbBaBaAbBaBaAbAbBaAbBaAbBaAbBaAbAcAbAbBaAbAbBaAbAbAbBaBaAbBaBaAbAbBaA?AaA?AaAaAaAaAaAaAaAaAaAaAa?a???cAbAbBaAbAbBaAbAbAbBaBaAbBaBaAbAbBaAbBaAbBaAbBaAbAcAbAbBaAbAbBaAbAbAbBaBaAbBaBaAbAbBaAbBaAbBaAbBaAbAcAbAbBaAbAbBaAbAbAbBaBaAbBaBaAbAbBaAbBaAbBaAbBaAbAcAbAbBaAbAbBaAbAbAbBaBaAbBaBaAbAbBaAbBaAbBaAbBaAbAcAbAbBaAbAbBaAbAbAbBaBaAbBaBaAbAbBaAbBaAbBaAbBaAbAcAbAbBaAbAbBaAbAbAbBaBaAbBaBaAbAbBaAbBaAbBaAbBaAbAcAbAbBaAbAbBaAbAbAbBaBaAbBaBaAbAbBaAbBaAbBaAbBaAbAcAbAbBaAbAbBaAbAbAbBaBaAbBaBaAbAbBaAbBaAbBaAbBaAbAcAbAbBaAbAbBaAbAbAbBaBaAbBaBaAbAbBaAbBaAbBaAbBaAbAcAbAbBaAbAbBaAbAbAbBaBaAbBaBaAbAbBaAbBaAbBaAbBaAbAcAbAbBaAbAbBaAbAbAbBaBaAbBaBaAbAbBaAbBaAbBaAbBaAbAcAbAbBaAbAbBaAbAbAbBaBaAbBaBaAbAbBaAbBaAbBaAbBaAbAcAbAbBaAbAbBaAbAbAbBaBaAbBaBaAbAbBaAbBaAbBaAbBaAbAcAbAbBaAbAbBaAbAbAbBaBaAbBaBaAbAbBaAbBaAbBaAbBaAbAcAbAbBaAbAbBaAbAbAbBaBaAbBaBaAbAbBaAbBaAbBaAbBaAbAcAbAbBaAbAbBaAbAbAbBaBaAbBaBaAbAbBaAbBaAbBaAbBaAbAcAbAbBaAbAbBaAbAbAbBaBaAbBaBaAbAbBaAbBaAbBaAbBaAbAcAbAbBaAbAbBaAbAbAbBaBaAbBaBaAbAbBaAbBaAbBaAbBaAbAcAbAbBaAbAbBaAbAbAbBaBaAbBaBaAbAbBaAbBaAbBaAbBaAbAcAbAbBaAbAbBaAbAbAbBaBaAbBaBaAbAbBaAbBaAbBaAbBaAbAcAbAbBaAbAbBaAbAbAbBaBaAbBaBaAbAbBaAbBaAbBaAbBaAbAcAbAbBaAbAbBaAbAbAbBaBaAbBaBaAbAbBaAbBaAbBaAbBaAbAcAbAbBaAbAbBaAbAbAbBaBaAbBaBaAbAbBaAbBaAbBaAbBaAbAcAbAbBaAbAbBaAbAbAbBaBaAbBaBaAbAbBaAbBaAbBaAbBaAbAcAbAbBaAbAbBaAbAbAbBaBaAbBaBaAbAbBaAbBaAbBaAbBaAbAcAbAbBaAbAbBaAbAbAbBaBaAbBaBaAbAbBaA?AaAaAaAaAaAaAaAaAaAa?aAaAaAaAaAaAaAaAaAa??\n"
     ]
    }
   ],
   "source": [
    "# finds signal in groups\n",
    "# returns a corresponding letter\n",
    "def decode_signal(x, groups):\n",
    "    for c, lower, upper, group in groups:\n",
    "        if lower <= x <= upper:\n",
    "            return c\n",
    "    return \"?\"\n",
    "\n",
    "# decode list of signals\n",
    "# each signal is decoded separately\n",
    "def decode_signals(data, groups):\n",
    "    return [decode_signal(signal, groups) for signal in data]\n",
    "\n",
    "# decoded signals\n",
    "data_letters = decode_signals(data, groups)\n",
    "\n",
    "print(\"Decoded (characters): \", \"\".join(data_letters))\n",
    "    "
   ]
  },
  {
   "cell_type": "markdown",
   "metadata": {},
   "source": [
    "Символ 'c' на порядок реже встречается и кажется разделителем. Поделим по нему."
   ]
  },
  {
   "cell_type": "code",
   "execution_count": 24,
   "metadata": {},
   "outputs": [
    {
     "data": {
      "text/plain": [
       "Counter({'???aAbAbAbBaBaAbBaBaAbAbBaAbBaAbAbBaBaAbA': 1,\n",
       "         'AbAbBaAbAbBaAbAbAbBaBaAbBaBaAbAbA?A?AaAaAaAaAaAaAaAaAa?a?aAaAaAaAaAaaaAa?aAa?a?aBa?a?a?': 1,\n",
       "         'AbAbBaAbAbBaAbAbAbBaBaAbBaBaAbAbA?AAAaAaAaAaAaAa?a?a?aAaAaAaAa?aAa?a?a??AaAaAaaaAaAaAa?aAaAaAaAaAaAaAaAaAaAaAaAa?aAaAaAa??AaAaAaAa?a?a?a?aAaAaAaAaAaAaAa?aAaAaAaAaAAAaAaAa?a?aAaAaAaAaAaAaAaAaAaAa?a???a?aAa?aAaAa?aAa?aAaAa?a?a?': 1,\n",
       "         'AbAbBaAbAbBaAbAbAbBaBaAbBaBaAbAbA?AaAaAaAaAaAaAaBa??bBaAbAbAbBaBaAbBaBaAbAbBaAbBaAbBaAbBaAbA': 1,\n",
       "         'AbAbBaAbAbBaAbAbAbBaBaAbBaBaAbAbA?AaAaAaAaaaaaAAAaAaAaAa???a?a?a?a?a?a?aAaAaAaAaAaAa?aAaAaAaAaAaAaAaAa?aAaAaAaAAaab?AbAbBaAbAbBaAbAbAbBaBaAbBaBaAbAbBaAbBaAbAbBaBaAbA': 1,\n",
       "         'AbAbBaAbAbBaAbAbAbBaBaAbBaBaAbAbBaA?AaA?AaAaAaAaAaAaAaAaAaAaAa?a???': 1,\n",
       "         'AbAbBaAbAbBaAbAbAbBaBaAbBaBaAbAbBaA?AaAaAaAaAaAaAaAaAaAa?aAaAaAaAaAaAaAaAaAa??': 1,\n",
       "         'AbAbBaAbAbBaAbAbAbBaBaAbBaBaAbAbBaA?AaAaAaAaAaAaAaAaAaa?Aa?aAaAaAaAaAaAaAaAaAaAa?a?': 1,\n",
       "         'AbAbBaAbAbBaAbAbAbBaBaAbBaBaAbAbBaAbBaAbAbBaBaAbA': 98,\n",
       "         'AbAbBaAbAbBaAbAbAbBaBaAbBaBaAbAbBaAbBaAbBaAbBaAbA': 74})"
      ]
     },
     "execution_count": 24,
     "metadata": {},
     "output_type": "execute_result"
    }
   ],
   "source": [
    "Counter(\"\".join(data_letters).split(\"c\"))"
   ]
  },
  {
   "cell_type": "markdown",
   "metadata": {},
   "source": [
    "Есть два пакета, повторившиеся много раз.\n",
    "\n",
    "Дальше можно сделать еще несколько наблюдений, описанных в основной статье. А можно сразу делать все по даташиту."
   ]
  },
  {
   "cell_type": "markdown",
   "metadata": {},
   "source": [
    "Смотрим в даташит и видим, что `'Ac'` - импульс и длинная пауза - это преамбула. А `'Ab'` и `'Ba'` задают 0 и 1."
   ]
  },
  {
   "cell_type": "code",
   "execution_count": 26,
   "metadata": {},
   "outputs": [
    {
     "name": "stdout",
     "output_type": "stream",
     "text": [
      "???a000110110010100110P001001000110110010100110P001001000110110010100110P001001000110110010100110P001001000110110010100110P001001000110110010100110P001001000110110010100110P001001000110110010100110P001001000110110010100110P001001000110110010100110P001001000110110010100110P001001000110110010100110P00\n"
     ]
    }
   ],
   "source": [
    "# заменим пары символов на их смысл\n",
    "data_1 = \"\".join(data_letters).replace('Ac', 'P').replace('Ab', '0').replace('Ba', '1')\n",
    "print(data_1[:300])"
   ]
  },
  {
   "cell_type": "markdown",
   "metadata": {},
   "source": [
    "Здесь уже хорошо видно периодичные 'P'-шки. Поделим всю строку на пакеты."
   ]
  },
  {
   "cell_type": "code",
   "execution_count": 27,
   "metadata": {},
   "outputs": [
    {
     "name": "stdout",
     "output_type": "stream",
     "text": [
      "['001001000110110010100110', '001001000110110010100110', '001001000110110010100110', '001001000110110010100110', '001001000110110010100110']\n",
      "{'001001000110110010101010', '001001000110110010100110'}\n"
     ]
    }
   ],
   "source": [
    "data = list(filter(lambda x: len(x) == 24, data_1.split('P')))\n",
    "print(data[:5])\n",
    "data = set(data)\n",
    "print(data)"
   ]
  },
  {
   "cell_type": "markdown",
   "metadata": {},
   "source": [
    "Видим, что подряд идет помногу одинаковых пакетов. В снятых мною дампах это сигналы от датчика движения при двух разных конфигурациях джамперов"
   ]
  },
  {
   "cell_type": "code",
   "execution_count": 28,
   "metadata": {},
   "outputs": [
    {
     "name": "stdout",
     "output_type": "stream",
     "text": [
      "[HSMessage(data=341540, channel=10), HSMessage(data=341540, channel=6)]\n",
      "[HSMessage(data='0x53624', channel='0xa'), HSMessage(data='0x53624', channel='0x6')]\n"
     ]
    }
   ],
   "source": [
    "# именнованый кортеж, для более понятного вывода\n",
    "from collections import namedtuple\n",
    "Message = namedtuple('HSMessage', 'data channel')\n",
    "\n",
    "# разделяем на непосредственно сообщение и флаги D0-D3\n",
    "data_pairs = list(map(lambda x: Message(int(x[:20][::-1], 2), int(x[20:], 2)), data))\n",
    "print(data_pairs)\n",
    "\n",
    "# или в 16-ричной, если вам так больше нравится\n",
    "data_pairs16 = list(map(lambda x: Message(hex(x[0]), hex(x[1])), data_pairs))\n",
    "print(data_pairs16)\n"
   ]
  },
  {
   "cell_type": "markdown",
   "metadata": {},
   "source": [
    "Готово!"
   ]
  }
 ],
 "metadata": {
  "kernelspec": {
   "display_name": "Python 3",
   "language": "python",
   "name": "python3"
  },
  "language_info": {
   "codemirror_mode": {
    "name": "ipython",
    "version": 3
   },
   "file_extension": ".py",
   "mimetype": "text/x-python",
   "name": "python",
   "nbconvert_exporter": "python",
   "pygments_lexer": "ipython3",
   "version": "3.6.0"
  }
 },
 "nbformat": 4,
 "nbformat_minor": 1
}
